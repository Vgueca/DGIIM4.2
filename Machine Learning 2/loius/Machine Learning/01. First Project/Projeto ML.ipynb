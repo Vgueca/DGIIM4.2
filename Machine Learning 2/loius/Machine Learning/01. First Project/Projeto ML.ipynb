{
 "cells": [
  {
   "cell_type": "markdown",
   "id": "222de0f9",
   "metadata": {},
   "source": [
    "# A1.1"
   ]
  },
  {
   "cell_type": "markdown",
   "id": "c421b595",
   "metadata": {},
   "source": [
    "Use the WineTrain.csv training file and the sklearn.tree.DecisionTreeClassifier CART implementation to build a decision tree without pruning to predict whether the quality label is low, medium or high. Use it to predict the class labels of both the train and test set."
   ]
  },
  {
   "cell_type": "markdown",
   "id": "8a258eaf",
   "metadata": {},
   "source": [
    "without pruning.                                                                                                           predict the class labels of both the train and test set."
   ]
  },
  {
   "cell_type": "markdown",
   "id": "2aeff00a",
   "metadata": {},
   "source": [
    "Use the parameter random_state=0 "
   ]
  },
  {
   "cell_type": "code",
   "execution_count": 40,
   "id": "13313906",
   "metadata": {},
   "outputs": [],
   "source": [
    "import pandas as pd\n",
    "from sklearn.tree import DecisionTreeClassifier\n",
    "from sklearn import tree\n",
    "from sklearn.metrics import accuracy_score"
   ]
  },
  {
   "cell_type": "code",
   "execution_count": 25,
   "id": "092f09a6",
   "metadata": {},
   "outputs": [],
   "source": [
    "train_df = pd.read_csv(\"WineTrain.csv\", index_col=0)\n",
    "test_df = pd.read_csv(\"WineTest.csv\", index_col=0)"
   ]
  },
  {
   "cell_type": "code",
   "execution_count": 42,
   "id": "33bb1b0a",
   "metadata": {},
   "outputs": [],
   "source": [
    "Ytrain = train_df['Quality']\n",
    "Xtrain = train_df.drop(['Quality'], axis = 1)"
   ]
  },
  {
   "cell_type": "code",
   "execution_count": 43,
   "id": "1776eacc",
   "metadata": {},
   "outputs": [],
   "source": [
    "Ytest = test_df['Quality']\n",
    "Xtest = test_df.drop(['Quality'], axis = 1)"
   ]
  },
  {
   "cell_type": "code",
   "execution_count": 44,
   "id": "4d5fd4ac",
   "metadata": {},
   "outputs": [],
   "source": [
    "DecisionTree = DecisionTreeClassifier(random_state=0)"
   ]
  },
  {
   "cell_type": "code",
   "execution_count": 45,
   "id": "6da1343a",
   "metadata": {},
   "outputs": [],
   "source": [
    "DecisionTree = DecisionTree.fit(Xtrain, Ytrain)"
   ]
  },
  {
   "cell_type": "code",
   "execution_count": 46,
   "id": "b87751b2",
   "metadata": {},
   "outputs": [],
   "source": [
    "y_train_pred = DecisionTree.predict(Xtrain)\n",
    "y_test_pred = DecisionTree.predict(Xtest)"
   ]
  },
  {
   "cell_type": "code",
   "execution_count": 47,
   "id": "550d1574",
   "metadata": {},
   "outputs": [
    {
     "name": "stdout",
     "output_type": "stream",
     "text": [
      "445\n"
     ]
    }
   ],
   "source": [
    "DecisionTreeDescription = DecisionTree.tree_\n",
    "print(DecisionTreeDescription.node_count)"
   ]
  },
  {
   "cell_type": "code",
   "execution_count": 48,
   "id": "96ccbaec",
   "metadata": {},
   "outputs": [
    {
     "name": "stdout",
     "output_type": "stream",
     "text": [
      "1.0\n",
      "0.5008347245409015\n"
     ]
    }
   ],
   "source": [
    "from sklearn.metrics import accuracy_score\n",
    "print(accuracy_score(Ytrain, y_train_pred))\n",
    "print(accuracy_score(Ytest, y_test_pred))"
   ]
  },
  {
   "cell_type": "markdown",
   "id": "448f2257",
   "metadata": {},
   "source": [
    "# Part 2\n"
   ]
  },
  {
   "cell_type": "markdown",
   "id": "56d0ccae",
   "metadata": {},
   "source": [
    "Use 25 % of the training data to build a decision tree with CART (without pruning; use the exact same meta-parameters as before, and the same random seed as before) "
   ]
  },
  {
   "cell_type": "code",
   "execution_count": 21,
   "id": "b3fa8bbd",
   "metadata": {},
   "outputs": [],
   "source": [
    "from sklearn.tree import DecisionTreeClassifier\n",
    "import pandas as pd\n",
    "\n",
    "frame = pd.DataFrame(columns = [\"Run\", \"NodeCount\", \"TrainAcc\", \"TestAcc\"])\n",
    "\n",
    "# TODO: replace by your own python code\n",
    "\n",
    "# Test set\n",
    "Ytest = test_df['Quality']\n",
    "Xtest = test_df.drop(['Quality'], axis = 1)\n",
    "\n",
    "# Train set - for each i\n",
    "for i in range(100):\n",
    "    sample_train = train_df.sample(frac=0.25, random_state=i)\n",
    "    \n",
    "    # Separate Quality and others\n",
    "    Ytrain = sample_train['Quality']\n",
    "    Xtrain = sample_train.drop(['Quality'], axis = 1)\n",
    "    \n",
    "    # Creating classifier\n",
    "    DecisionTree = DecisionTreeClassifier(random_state=0)\n",
    "    DecisionTree = DecisionTree.fit(Xtrain, Ytrain)\n",
    "    \n",
    "    # Classifier\n",
    "    y_train_pred = DecisionTree.predict(Xtrain)\n",
    "    y_test_pred = DecisionTree.predict(Xtest)\n",
    "    \n",
    "    #Nb_nodes\n",
    "    nb_nodes =  DecisionTree.tree_.node_count\n",
    "    \n",
    "    # Accuracy\n",
    "    TrainScore = accuracy_score(Ytrain, y_train_pred)\n",
    "    TestScore = accuracy_score(Ytest, y_test_pred)\n",
    "    \n",
    "    # Add on frame\n",
    "    run_row = {'Run':i, 'NodeCount':nb_nodes, 'TrainAcc':TrainScore, 'TestAcc':TestScore}\n",
    "    frame=frame.append(run_row, ignore_index=True)\n",
    "\n",
    "mean_nb_nodes = frame.mean(axis = 0)['NodeCount']\n",
    "mean_train_accur = frame.mean(axis = 0)['TrainAcc']\n",
    "mean_test_accur = frame.mean(axis = 0)['TestAcc']"
   ]
  },
  {
   "cell_type": "code",
   "execution_count": 24,
   "id": "17f7b8bf",
   "metadata": {},
   "outputs": [
    {
     "data": {
      "text/plain": [
       "0.5037228714524206"
      ]
     },
     "execution_count": 24,
     "metadata": {},
     "output_type": "execute_result"
    }
   ],
   "source": [
    "mean_test_accur"
   ]
  },
  {
   "cell_type": "markdown",
   "id": "dbcdaf44",
   "metadata": {},
   "source": [
    "# Q5"
   ]
  },
  {
   "cell_type": "code",
   "execution_count": 26,
   "id": "8f4e59bf",
   "metadata": {},
   "outputs": [],
   "source": [
    "from sklearn.tree import DecisionTreeClassifier\n",
    "import pandas as pd\n",
    "\n",
    "frame = pd.DataFrame(columns = [\"Frac\", \"Run\", \"NodeCount\", \"TrainAcc\", \"TestAcc\"])\n",
    "\n",
    "# TODO: replace by your own python code\n",
    "\n",
    "Fractions = [0.05, 0.1, 0.2, 0.5, 0.99]\n",
    "\n",
    "# Test set\n",
    "Ytest = test_df['Quality']\n",
    "Xtest = test_df.drop(['Quality'], axis = 1)\n",
    "\n",
    "for frac in Fractions:\n",
    "    # Train set - for each i\n",
    "    for i in range(100):\n",
    "        sample_train = train_df.sample(frac=frac, random_state=i)\n",
    "\n",
    "        # Separate Quality and others\n",
    "        Ytrain = sample_train['Quality']\n",
    "        Xtrain = sample_train.drop(['Quality'], axis = 1)\n",
    "\n",
    "        # Creating classifier\n",
    "        DecisionTree = DecisionTreeClassifier(random_state=0)\n",
    "        DecisionTree = DecisionTree.fit(Xtrain, Ytrain)\n",
    "\n",
    "        # Classifier\n",
    "        y_train_pred = DecisionTree.predict(Xtrain)\n",
    "        y_test_pred = DecisionTree.predict(Xtest)\n",
    "\n",
    "        #Nb_nodes\n",
    "        nb_nodes =  DecisionTree.tree_.node_count\n",
    "\n",
    "        # Accuracy\n",
    "        TrainScore = accuracy_score(Ytrain, y_train_pred)\n",
    "        TestScore = accuracy_score(Ytest, y_test_pred)\n",
    "\n",
    "        # Add on frame\n",
    "        run_row = {'Frac':frac, 'Run':i, 'NodeCount':nb_nodes, 'TrainAcc':TrainScore, 'TestAcc':TestScore}\n",
    "        frame=frame.append(run_row, ignore_index=True)"
   ]
  },
  {
   "cell_type": "code",
   "execution_count": 28,
   "id": "d436b382",
   "metadata": {},
   "outputs": [
    {
     "data": {
      "text/html": [
       "<div>\n",
       "<style scoped>\n",
       "    .dataframe tbody tr th:only-of-type {\n",
       "        vertical-align: middle;\n",
       "    }\n",
       "\n",
       "    .dataframe tbody tr th {\n",
       "        vertical-align: top;\n",
       "    }\n",
       "\n",
       "    .dataframe thead th {\n",
       "        text-align: right;\n",
       "    }\n",
       "</style>\n",
       "<table border=\"1\" class=\"dataframe\">\n",
       "  <thead>\n",
       "    <tr style=\"text-align: right;\">\n",
       "      <th></th>\n",
       "      <th>Frac</th>\n",
       "      <th>Run</th>\n",
       "      <th>NodeCount</th>\n",
       "      <th>TrainAcc</th>\n",
       "      <th>TestAcc</th>\n",
       "    </tr>\n",
       "  </thead>\n",
       "  <tbody>\n",
       "    <tr>\n",
       "      <th>0</th>\n",
       "      <td>0.05</td>\n",
       "      <td>0.0</td>\n",
       "      <td>27.0</td>\n",
       "      <td>1.0</td>\n",
       "      <td>0.529215</td>\n",
       "    </tr>\n",
       "    <tr>\n",
       "      <th>1</th>\n",
       "      <td>0.05</td>\n",
       "      <td>1.0</td>\n",
       "      <td>25.0</td>\n",
       "      <td>1.0</td>\n",
       "      <td>0.484140</td>\n",
       "    </tr>\n",
       "    <tr>\n",
       "      <th>2</th>\n",
       "      <td>0.05</td>\n",
       "      <td>2.0</td>\n",
       "      <td>29.0</td>\n",
       "      <td>1.0</td>\n",
       "      <td>0.500835</td>\n",
       "    </tr>\n",
       "    <tr>\n",
       "      <th>3</th>\n",
       "      <td>0.05</td>\n",
       "      <td>3.0</td>\n",
       "      <td>29.0</td>\n",
       "      <td>1.0</td>\n",
       "      <td>0.509182</td>\n",
       "    </tr>\n",
       "    <tr>\n",
       "      <th>4</th>\n",
       "      <td>0.05</td>\n",
       "      <td>4.0</td>\n",
       "      <td>25.0</td>\n",
       "      <td>1.0</td>\n",
       "      <td>0.505843</td>\n",
       "    </tr>\n",
       "    <tr>\n",
       "      <th>...</th>\n",
       "      <td>...</td>\n",
       "      <td>...</td>\n",
       "      <td>...</td>\n",
       "      <td>...</td>\n",
       "      <td>...</td>\n",
       "    </tr>\n",
       "    <tr>\n",
       "      <th>495</th>\n",
       "      <td>0.99</td>\n",
       "      <td>95.0</td>\n",
       "      <td>435.0</td>\n",
       "      <td>1.0</td>\n",
       "      <td>0.515860</td>\n",
       "    </tr>\n",
       "    <tr>\n",
       "      <th>496</th>\n",
       "      <td>0.99</td>\n",
       "      <td>96.0</td>\n",
       "      <td>443.0</td>\n",
       "      <td>1.0</td>\n",
       "      <td>0.505843</td>\n",
       "    </tr>\n",
       "    <tr>\n",
       "      <th>497</th>\n",
       "      <td>0.99</td>\n",
       "      <td>97.0</td>\n",
       "      <td>445.0</td>\n",
       "      <td>1.0</td>\n",
       "      <td>0.490818</td>\n",
       "    </tr>\n",
       "    <tr>\n",
       "      <th>498</th>\n",
       "      <td>0.99</td>\n",
       "      <td>98.0</td>\n",
       "      <td>427.0</td>\n",
       "      <td>1.0</td>\n",
       "      <td>0.515860</td>\n",
       "    </tr>\n",
       "    <tr>\n",
       "      <th>499</th>\n",
       "      <td>0.99</td>\n",
       "      <td>99.0</td>\n",
       "      <td>421.0</td>\n",
       "      <td>1.0</td>\n",
       "      <td>0.520868</td>\n",
       "    </tr>\n",
       "  </tbody>\n",
       "</table>\n",
       "<p>500 rows × 5 columns</p>\n",
       "</div>"
      ],
      "text/plain": [
       "     Frac   Run  NodeCount  TrainAcc   TestAcc\n",
       "0    0.05   0.0       27.0       1.0  0.529215\n",
       "1    0.05   1.0       25.0       1.0  0.484140\n",
       "2    0.05   2.0       29.0       1.0  0.500835\n",
       "3    0.05   3.0       29.0       1.0  0.509182\n",
       "4    0.05   4.0       25.0       1.0  0.505843\n",
       "..    ...   ...        ...       ...       ...\n",
       "495  0.99  95.0      435.0       1.0  0.515860\n",
       "496  0.99  96.0      443.0       1.0  0.505843\n",
       "497  0.99  97.0      445.0       1.0  0.490818\n",
       "498  0.99  98.0      427.0       1.0  0.515860\n",
       "499  0.99  99.0      421.0       1.0  0.520868\n",
       "\n",
       "[500 rows x 5 columns]"
      ]
     },
     "execution_count": 28,
     "metadata": {},
     "output_type": "execute_result"
    }
   ],
   "source": [
    "frame"
   ]
  },
  {
   "cell_type": "markdown",
   "id": "7b09c8cc",
   "metadata": {},
   "source": [
    "# Q6"
   ]
  },
  {
   "cell_type": "code",
   "execution_count": 29,
   "id": "37f020ca",
   "metadata": {},
   "outputs": [
    {
     "data": {
      "text/plain": [
       "<AxesSubplot:title={'center':'NodeCount'}, xlabel='Frac'>"
      ]
     },
     "execution_count": 29,
     "metadata": {},
     "output_type": "execute_result"
    },
    {
     "data": {
      "image/png": "[encoded data removed]",
      "text/plain": [
       "<Figure size 720x576 with 1 Axes>"
      ]
     },
     "metadata": {
      "needs_background": "light"
     },
     "output_type": "display_data"
    }
   ],
   "source": [
    "import matplotlib.pyplot as plt\n",
    "fig, ax = plt.subplots(figsize=(10,8))\n",
    "plt.suptitle('')\n",
    "frame.boxplot(column=['NodeCount'], by='Frac', ax=ax)"
   ]
  },
  {
   "cell_type": "code",
   "execution_count": 30,
   "id": "e703d5d6",
   "metadata": {},
   "outputs": [
    {
     "data": {
      "text/plain": [
       "<AxesSubplot:title={'center':'TestAcc'}, xlabel='Frac'>"
      ]
     },
     "execution_count": 30,
     "metadata": {},
     "output_type": "execute_result"
    },
    {
     "data": {
      "image/png": "[encoded data removed]",
      "text/plain": [
       "<Figure size 720x576 with 1 Axes>"
      ]
     },
     "metadata": {
      "needs_background": "light"
     },
     "output_type": "display_data"
    }
   ],
   "source": [
    "fig, ax = plt.subplots(figsize=(10,8))\n",
    "plt.suptitle('')\n",
    "frame.boxplot(column=['TestAcc'], by='Frac', ax=ax)"
   ]
  },
  {
   "cell_type": "code",
   "execution_count": 31,
   "id": "c13597f2",
   "metadata": {},
   "outputs": [],
   "source": [
    "asdf = frame.groupby(['Frac']).mean()"
   ]
  },
  {
   "cell_type": "code",
   "execution_count": 63,
   "id": "f61e114f",
   "metadata": {},
   "outputs": [
    {
     "data": {
      "text/plain": [
       "<AxesSubplot:xlabel='NodeCount'>"
      ]
     },
     "execution_count": 63,
     "metadata": {},
     "output_type": "execute_result"
    },
    {
     "data": {
      "image/png": "[encoded data removed]",
      "text/plain": [
       "<Figure size 720x576 with 1 Axes>"
      ]
     },
     "metadata": {
      "needs_background": "light"
     },
     "output_type": "display_data"
    }
   ],
   "source": [
    "fig, ax = plt.subplots(figsize=(10,8))\n",
    "plt.suptitle('')\n",
    "asdf.plot(kind='line',x='NodeCount',y='TestAcc',ax=ax)"
   ]
  },
  {
   "cell_type": "markdown",
   "id": "2b1577cc",
   "metadata": {},
   "source": [
    "# A1.2"
   ]
  },
  {
   "cell_type": "markdown",
   "id": "f1353df1",
   "metadata": {},
   "source": [
    "## Pre-pruning the tree"
   ]
  },
  {
   "cell_type": "code",
   "execution_count": 32,
   "id": "81657770",
   "metadata": {},
   "outputs": [],
   "source": [
    "train_df = pd.read_csv(\"WineTrain.csv\", index_col=0)\n",
    "test_df = pd.read_csv(\"WineTest.csv\", index_col=0)"
   ]
  },
  {
   "cell_type": "code",
   "execution_count": 33,
   "id": "ef6580cd",
   "metadata": {},
   "outputs": [],
   "source": [
    "from sklearn.tree import DecisionTreeClassifier\n",
    "import pandas as pd\n",
    "import numpy as np\n",
    "\n",
    "frame = pd.DataFrame(columns = [\"min_samples_split\", \"NodeCount\", \"TrainAcc\", \"TestAcc\"])\n",
    "\n",
    "# TODO: replace by your own python code\n",
    "\n",
    "# Set\n",
    "Ytrain = train_df['Quality']\n",
    "Xtrain = train_df.drop(['Quality'], axis = 1)\n",
    "Ytest = test_df['Quality']\n",
    "Xtest = test_df.drop(['Quality'], axis = 1)\n",
    "\n",
    "# Test each number of splits\n",
    "for split in range(2, 1000):\n",
    "    DecisionTree = DecisionTreeClassifier(random_state=0,  min_samples_split=split)\n",
    "    DecisionTree = DecisionTree.fit(Xtrain, Ytrain)\n",
    "    \n",
    "    # Prediction\n",
    "    y_train_pred = DecisionTree.predict(Xtrain)\n",
    "    y_test_pred = DecisionTree.predict(Xtest)\n",
    "    \n",
    "    #Nb_nodes\n",
    "    nb_nodes =  DecisionTree.tree_.node_count\n",
    "    \n",
    "    # Accuracy\n",
    "    TrainScore = accuracy_score(Ytrain, y_train_pred)\n",
    "    TestScore = accuracy_score(Ytest, y_test_pred)\n",
    "    \n",
    "    # Add on frame\n",
    "    run_row = {'min_samples_split':split, 'NodeCount':nb_nodes, 'TrainAcc':TrainScore, 'TestAcc':TestScore}\n",
    "    frame=frame.append(run_row, ignore_index=True)"
   ]
  },
  {
   "cell_type": "code",
   "execution_count": 37,
   "id": "824872b6",
   "metadata": {},
   "outputs": [],
   "source": [
    "from sklearn.tree import DecisionTreeClassifier\n",
    "import pandas as pd\n",
    "import numpy as np\n",
    "\n",
    "frame = pd.DataFrame(columns = [\"min_samples_split\", \"NodeCount\", \"TrainAcc\", \"TestAcc\"])\n",
    "\n",
    "# TODO: replace by your own python code\n",
    "\n",
    "# Set\n",
    "Ytrain = train_df['Quality']\n",
    "Xtrain = train_df.drop(['Quality'], axis = 1)\n",
    "Ytest = test_df['Quality']\n",
    "Xtest = test_df.drop(['Quality'], axis = 1)\n",
    "\n",
    "# Test each number of splits\n",
    "for split in (5, 100, 120):\n",
    "    DecisionTree = DecisionTreeClassifier(random_state=0,  min_samples_split=split)\n",
    "    DecisionTree = DecisionTree.fit(Xtrain, Ytrain)\n",
    "    \n",
    "    # Prediction\n",
    "    y_train_pred = DecisionTree.predict(Xtrain)\n",
    "    y_test_pred = DecisionTree.predict(Xtest)\n",
    "    \n",
    "    #Nb_nodes\n",
    "    nb_nodes =  DecisionTree.tree_.node_count\n",
    "    \n",
    "    # Accuracy\n",
    "    TrainScore = accuracy_score(Ytrain, y_train_pred)\n",
    "    TestScore = accuracy_score(Ytest, y_test_pred)\n",
    "    \n",
    "    # Add on frame\n",
    "    run_row = {'min_samples_split':split, 'NodeCount':nb_nodes, 'TrainAcc':TrainScore, 'TestAcc':TestScore}\n",
    "    frame=frame.append(run_row, ignore_index=True)"
   ]
  },
  {
   "cell_type": "code",
   "execution_count": 38,
   "id": "fec38f5b",
   "metadata": {},
   "outputs": [
    {
     "data": {
      "text/html": [
       "<div>\n",
       "<style scoped>\n",
       "    .dataframe tbody tr th:only-of-type {\n",
       "        vertical-align: middle;\n",
       "    }\n",
       "\n",
       "    .dataframe tbody tr th {\n",
       "        vertical-align: top;\n",
       "    }\n",
       "\n",
       "    .dataframe thead th {\n",
       "        text-align: right;\n",
       "    }\n",
       "</style>\n",
       "<table border=\"1\" class=\"dataframe\">\n",
       "  <thead>\n",
       "    <tr style=\"text-align: right;\">\n",
       "      <th></th>\n",
       "      <th>min_samples_split</th>\n",
       "      <th>NodeCount</th>\n",
       "      <th>TrainAcc</th>\n",
       "      <th>TestAcc</th>\n",
       "    </tr>\n",
       "  </thead>\n",
       "  <tbody>\n",
       "    <tr>\n",
       "      <th>0</th>\n",
       "      <td>5.0</td>\n",
       "      <td>367.0</td>\n",
       "      <td>0.960</td>\n",
       "      <td>0.484140</td>\n",
       "    </tr>\n",
       "    <tr>\n",
       "      <th>1</th>\n",
       "      <td>100.0</td>\n",
       "      <td>47.0</td>\n",
       "      <td>0.703</td>\n",
       "      <td>0.574290</td>\n",
       "    </tr>\n",
       "    <tr>\n",
       "      <th>2</th>\n",
       "      <td>120.0</td>\n",
       "      <td>31.0</td>\n",
       "      <td>0.699</td>\n",
       "      <td>0.584307</td>\n",
       "    </tr>\n",
       "  </tbody>\n",
       "</table>\n",
       "</div>"
      ],
      "text/plain": [
       "   min_samples_split  NodeCount  TrainAcc   TestAcc\n",
       "0                5.0      367.0     0.960  0.484140\n",
       "1              100.0       47.0     0.703  0.574290\n",
       "2              120.0       31.0     0.699  0.584307"
      ]
     },
     "execution_count": 38,
     "metadata": {},
     "output_type": "execute_result"
    }
   ],
   "source": [
    "frame"
   ]
  },
  {
   "cell_type": "code",
   "execution_count": 34,
   "id": "864a29cf",
   "metadata": {},
   "outputs": [
    {
     "data": {
      "text/plain": [
       "min_samples_split    120.000000\n",
       "NodeCount             31.000000\n",
       "TrainAcc               0.699000\n",
       "TestAcc                0.584307\n",
       "Name: 118, dtype: float64"
      ]
     },
     "execution_count": 34,
     "metadata": {},
     "output_type": "execute_result"
    }
   ],
   "source": [
    "frame.iloc[frame['TestAcc'].argmax()]"
   ]
  },
  {
   "cell_type": "code",
   "execution_count": 35,
   "id": "acef33e6",
   "metadata": {},
   "outputs": [
    {
     "data": {
      "text/plain": [
       "<AxesSubplot:xlabel='min_samples_split'>"
      ]
     },
     "execution_count": 35,
     "metadata": {},
     "output_type": "execute_result"
    },
    {
     "data": {
      "image/png": "[encoded data removed]",
      "text/plain": [
       "<Figure size 720x576 with 1 Axes>"
      ]
     },
     "metadata": {
      "needs_background": "light"
     },
     "output_type": "display_data"
    }
   ],
   "source": [
    "fig, ax = plt.subplots(figsize=(10,8))\n",
    "plt.suptitle('')\n",
    "frame.plot(kind='line',x='min_samples_split',y='TestAcc',ax=ax)"
   ]
  },
  {
   "cell_type": "code",
   "execution_count": 36,
   "id": "72e573bc",
   "metadata": {},
   "outputs": [
    {
     "data": {
      "text/plain": [
       "min_samples_split      5.00000\n",
       "NodeCount            367.00000\n",
       "TrainAcc               0.96000\n",
       "TestAcc                0.48414\n",
       "Name: 3, dtype: float64"
      ]
     },
     "execution_count": 36,
     "metadata": {},
     "output_type": "execute_result"
    }
   ],
   "source": [
    "frame.iloc[frame['TestAcc'].argmin()]"
   ]
  },
  {
   "cell_type": "markdown",
   "id": "71bce6d5",
   "metadata": {},
   "source": [
    "## Q2"
   ]
  },
  {
   "cell_type": "code",
   "execution_count": 83,
   "id": "bbe3acd6",
   "metadata": {},
   "outputs": [],
   "source": [
    "train_df = pd.read_csv(\"WineTrain.csv\", index_col=0)\n",
    "test_df = pd.read_csv(\"WineTest.csv\", index_col=0)"
   ]
  },
  {
   "cell_type": "code",
   "execution_count": 197,
   "id": "746644e6",
   "metadata": {},
   "outputs": [],
   "source": [
    "from sklearn.tree import DecisionTreeClassifier\n",
    "import pandas as pd\n",
    "from sklearn.metrics import accuracy_score\n",
    "\n",
    "frame = pd.DataFrame(columns = [\"min_samples_split\", \"Frac\", \"Run\", \"NodeCount\", \"TrainAcc\", \"TestAcc\"])\n",
    "\n",
    "# TODO: replace by your own python code\n",
    "\n",
    "# Test set\n",
    "Ytest = test_df['Quality']\n",
    "Xtest = test_df.drop(['Quality'], axis = 1)\n",
    "\n",
    "for split in range(60, 181, 5):\n",
    "    for frac in range(50, 100, 5):\n",
    "        frac = frac/100\n",
    "        # Train set - for each i\n",
    "        for i in range(0, 1001, 50):\n",
    "            sample_train = train_df.sample(frac=frac, random_state=i)\n",
    "\n",
    "            # Separate Quality and others\n",
    "            Ytrain = sample_train['Quality']\n",
    "            Xtrain = sample_train.drop(['Quality'], axis = 1)\n",
    "\n",
    "            # Creating classifier\n",
    "            DecisionTree = DecisionTreeClassifier(random_state=0, min_samples_split=split)\n",
    "            DecisionTree = DecisionTree.fit(Xtrain, Ytrain)\n",
    "\n",
    "            # Classifier\n",
    "            y_train_pred = DecisionTree.predict(Xtrain)\n",
    "            y_test_pred = DecisionTree.predict(Xtest)\n",
    "\n",
    "            #Nb_nodes\n",
    "            nb_nodes =  DecisionTree.tree_.node_count\n",
    "\n",
    "            # Accuracy\n",
    "            TrainScore = accuracy_score(Ytrain, y_train_pred)\n",
    "            TestScore = accuracy_score(Ytest, y_test_pred)\n",
    "\n",
    "            # Add on frame\n",
    "            run_row = {'min_samples_split':split, 'Frac':frac, 'Run':i, 'NodeCount':nb_nodes, 'TrainAcc':TrainScore, 'TestAcc':TestScore}\n",
    "            frame=frame.append(run_row, ignore_index=True)"
   ]
  },
  {
   "cell_type": "code",
   "execution_count": 198,
   "id": "82cb04ec",
   "metadata": {},
   "outputs": [
    {
     "data": {
      "text/html": [
       "<div>\n",
       "<style scoped>\n",
       "    .dataframe tbody tr th:only-of-type {\n",
       "        vertical-align: middle;\n",
       "    }\n",
       "\n",
       "    .dataframe tbody tr th {\n",
       "        vertical-align: top;\n",
       "    }\n",
       "\n",
       "    .dataframe thead th {\n",
       "        text-align: right;\n",
       "    }\n",
       "</style>\n",
       "<table border=\"1\" class=\"dataframe\">\n",
       "  <thead>\n",
       "    <tr style=\"text-align: right;\">\n",
       "      <th></th>\n",
       "      <th>min_samples_split</th>\n",
       "      <th>Frac</th>\n",
       "      <th>Run</th>\n",
       "      <th>NodeCount</th>\n",
       "      <th>TrainAcc</th>\n",
       "      <th>TestAcc</th>\n",
       "    </tr>\n",
       "  </thead>\n",
       "  <tbody>\n",
       "    <tr>\n",
       "      <th>0</th>\n",
       "      <td>60.0</td>\n",
       "      <td>0.50</td>\n",
       "      <td>0.0</td>\n",
       "      <td>43.0</td>\n",
       "      <td>0.726000</td>\n",
       "      <td>0.532554</td>\n",
       "    </tr>\n",
       "    <tr>\n",
       "      <th>1</th>\n",
       "      <td>60.0</td>\n",
       "      <td>0.50</td>\n",
       "      <td>50.0</td>\n",
       "      <td>37.0</td>\n",
       "      <td>0.726000</td>\n",
       "      <td>0.587646</td>\n",
       "    </tr>\n",
       "    <tr>\n",
       "      <th>2</th>\n",
       "      <td>60.0</td>\n",
       "      <td>0.50</td>\n",
       "      <td>100.0</td>\n",
       "      <td>35.0</td>\n",
       "      <td>0.720000</td>\n",
       "      <td>0.505843</td>\n",
       "    </tr>\n",
       "    <tr>\n",
       "      <th>3</th>\n",
       "      <td>60.0</td>\n",
       "      <td>0.50</td>\n",
       "      <td>150.0</td>\n",
       "      <td>39.0</td>\n",
       "      <td>0.724000</td>\n",
       "      <td>0.537563</td>\n",
       "    </tr>\n",
       "    <tr>\n",
       "      <th>4</th>\n",
       "      <td>60.0</td>\n",
       "      <td>0.50</td>\n",
       "      <td>200.0</td>\n",
       "      <td>33.0</td>\n",
       "      <td>0.738000</td>\n",
       "      <td>0.585977</td>\n",
       "    </tr>\n",
       "    <tr>\n",
       "      <th>...</th>\n",
       "      <td>...</td>\n",
       "      <td>...</td>\n",
       "      <td>...</td>\n",
       "      <td>...</td>\n",
       "      <td>...</td>\n",
       "      <td>...</td>\n",
       "    </tr>\n",
       "    <tr>\n",
       "      <th>5245</th>\n",
       "      <td>180.0</td>\n",
       "      <td>0.95</td>\n",
       "      <td>800.0</td>\n",
       "      <td>19.0</td>\n",
       "      <td>0.654737</td>\n",
       "      <td>0.535893</td>\n",
       "    </tr>\n",
       "    <tr>\n",
       "      <th>5246</th>\n",
       "      <td>180.0</td>\n",
       "      <td>0.95</td>\n",
       "      <td>850.0</td>\n",
       "      <td>19.0</td>\n",
       "      <td>0.653684</td>\n",
       "      <td>0.540902</td>\n",
       "    </tr>\n",
       "    <tr>\n",
       "      <th>5247</th>\n",
       "      <td>180.0</td>\n",
       "      <td>0.95</td>\n",
       "      <td>900.0</td>\n",
       "      <td>21.0</td>\n",
       "      <td>0.651579</td>\n",
       "      <td>0.554257</td>\n",
       "    </tr>\n",
       "    <tr>\n",
       "      <th>5248</th>\n",
       "      <td>180.0</td>\n",
       "      <td>0.95</td>\n",
       "      <td>950.0</td>\n",
       "      <td>19.0</td>\n",
       "      <td>0.651579</td>\n",
       "      <td>0.534224</td>\n",
       "    </tr>\n",
       "    <tr>\n",
       "      <th>5249</th>\n",
       "      <td>180.0</td>\n",
       "      <td>0.95</td>\n",
       "      <td>1000.0</td>\n",
       "      <td>13.0</td>\n",
       "      <td>0.637895</td>\n",
       "      <td>0.542571</td>\n",
       "    </tr>\n",
       "  </tbody>\n",
       "</table>\n",
       "<p>5250 rows × 6 columns</p>\n",
       "</div>"
      ],
      "text/plain": [
       "      min_samples_split  Frac     Run  NodeCount  TrainAcc   TestAcc\n",
       "0                  60.0  0.50     0.0       43.0  0.726000  0.532554\n",
       "1                  60.0  0.50    50.0       37.0  0.726000  0.587646\n",
       "2                  60.0  0.50   100.0       35.0  0.720000  0.505843\n",
       "3                  60.0  0.50   150.0       39.0  0.724000  0.537563\n",
       "4                  60.0  0.50   200.0       33.0  0.738000  0.585977\n",
       "...                 ...   ...     ...        ...       ...       ...\n",
       "5245              180.0  0.95   800.0       19.0  0.654737  0.535893\n",
       "5246              180.0  0.95   850.0       19.0  0.653684  0.540902\n",
       "5247              180.0  0.95   900.0       21.0  0.651579  0.554257\n",
       "5248              180.0  0.95   950.0       19.0  0.651579  0.534224\n",
       "5249              180.0  0.95  1000.0       13.0  0.637895  0.542571\n",
       "\n",
       "[5250 rows x 6 columns]"
      ]
     },
     "execution_count": 198,
     "metadata": {},
     "output_type": "execute_result"
    }
   ],
   "source": [
    "frame"
   ]
  },
  {
   "cell_type": "code",
   "execution_count": 199,
   "id": "e51c1b19",
   "metadata": {},
   "outputs": [
    {
     "data": {
      "text/plain": [
       "min_samples_split     75.000000\n",
       "Frac                   0.800000\n",
       "Run                  850.000000\n",
       "NodeCount             41.000000\n",
       "TrainAcc               0.701250\n",
       "TestAcc                0.631052\n",
       "Name: 773, dtype: float64"
      ]
     },
     "execution_count": 199,
     "metadata": {},
     "output_type": "execute_result"
    }
   ],
   "source": [
    "frame.iloc[frame['TestAcc'].argmax()]"
   ]
  },
  {
   "cell_type": "markdown",
   "id": "bf1b39f0",
   "metadata": {},
   "source": [
    "## Q3"
   ]
  },
  {
   "cell_type": "code",
   "execution_count": 184,
   "id": "efe05a8f",
   "metadata": {},
   "outputs": [],
   "source": [
    "train_df = pd.read_csv(\"WineTrain.csv\", index_col=0)\n",
    "test_df = pd.read_csv(\"WineTest.csv\", index_col=0)"
   ]
  },
  {
   "cell_type": "code",
   "execution_count": 207,
   "id": "332466d4",
   "metadata": {},
   "outputs": [],
   "source": [
    "from sklearn.tree import DecisionTreeClassifier\n",
    "import pandas as pd\n",
    "\n",
    "def my_best_tree(train):\n",
    "    # TODO: replace by your own python code\n",
    "    \n",
    "    sample_train = train.sample(frac=1, random_state=850)\n",
    "    \n",
    "    # Separate Quality and others\n",
    "    Ytrain = sample_train['Quality']\n",
    "    Xtrain = sample_train.drop(['Quality'], axis = 1)\n",
    "    \n",
    "    # Creating classifier\n",
    "    DecisionTree = DecisionTreeClassifier(random_state=0, min_samples_split=75)\n",
    "    DecisionTree = DecisionTree.fit(Xtrain, Ytrain)\n",
    "    \n",
    "    return DecisionTree"
   ]
  },
  {
   "cell_type": "code",
   "execution_count": 208,
   "id": "6c61cb2a",
   "metadata": {},
   "outputs": [],
   "source": [
    "a = my_best_tree(train_df)"
   ]
  },
  {
   "cell_type": "code",
   "execution_count": 209,
   "id": "6a8696a8",
   "metadata": {},
   "outputs": [],
   "source": [
    "TestScore = accuracy_score(Ytest, a.predict(Xtest))"
   ]
  },
  {
   "cell_type": "code",
   "execution_count": 210,
   "id": "f910a4ac",
   "metadata": {},
   "outputs": [
    {
     "data": {
      "text/plain": [
       "0.5609348914858097"
      ]
     },
     "execution_count": 210,
     "metadata": {},
     "output_type": "execute_result"
    }
   ],
   "source": [
    "TestScore"
   ]
  },
  {
   "cell_type": "code",
   "execution_count": 204,
   "id": "3098b834",
   "metadata": {},
   "outputs": [],
   "source": [
    "train_df = pd.read_csv(\"WineTrain.csv\", index_col=0)\n",
    "test_df = pd.read_csv(\"WineTest.csv\", index_col=0)"
   ]
  },
  {
   "cell_type": "code",
   "execution_count": 205,
   "id": "64c295a3",
   "metadata": {},
   "outputs": [],
   "source": [
    "Ytrain = train_df['Quality']\n",
    "Xtrain = train_df.drop(['Quality'], axis = 1)"
   ]
  },
  {
   "cell_type": "code",
   "execution_count": 206,
   "id": "12c582e3",
   "metadata": {},
   "outputs": [
    {
     "data": {
      "text/html": [
       "<div>\n",
       "<style scoped>\n",
       "    .dataframe tbody tr th:only-of-type {\n",
       "        vertical-align: middle;\n",
       "    }\n",
       "\n",
       "    .dataframe tbody tr th {\n",
       "        vertical-align: top;\n",
       "    }\n",
       "\n",
       "    .dataframe thead th {\n",
       "        text-align: right;\n",
       "    }\n",
       "</style>\n",
       "<table border=\"1\" class=\"dataframe\">\n",
       "  <thead>\n",
       "    <tr style=\"text-align: right;\">\n",
       "      <th></th>\n",
       "      <th>FixedAcidity</th>\n",
       "      <th>VolatileAcidity</th>\n",
       "      <th>CitricAcid</th>\n",
       "      <th>ResidualSugar</th>\n",
       "      <th>Chlorides</th>\n",
       "      <th>FreeSulfurDioxide</th>\n",
       "      <th>TotalSulfurDioxide</th>\n",
       "      <th>Density</th>\n",
       "      <th>pH</th>\n",
       "      <th>Sulphates</th>\n",
       "      <th>Alcohol</th>\n",
       "      <th>Quality</th>\n",
       "    </tr>\n",
       "  </thead>\n",
       "  <tbody>\n",
       "    <tr>\n",
       "      <th>1</th>\n",
       "      <td>7.4</td>\n",
       "      <td>0.70</td>\n",
       "      <td>0.00</td>\n",
       "      <td>1.90</td>\n",
       "      <td>0.076</td>\n",
       "      <td>11.0</td>\n",
       "      <td>34</td>\n",
       "      <td>0.99780</td>\n",
       "      <td>3.51</td>\n",
       "      <td>0.56</td>\n",
       "      <td>9.4</td>\n",
       "      <td>low</td>\n",
       "    </tr>\n",
       "    <tr>\n",
       "      <th>2</th>\n",
       "      <td>7.8</td>\n",
       "      <td>0.88</td>\n",
       "      <td>0.00</td>\n",
       "      <td>2.60</td>\n",
       "      <td>0.098</td>\n",
       "      <td>25.0</td>\n",
       "      <td>67</td>\n",
       "      <td>0.99680</td>\n",
       "      <td>3.20</td>\n",
       "      <td>0.68</td>\n",
       "      <td>9.8</td>\n",
       "      <td>low</td>\n",
       "    </tr>\n",
       "    <tr>\n",
       "      <th>3</th>\n",
       "      <td>7.8</td>\n",
       "      <td>0.76</td>\n",
       "      <td>0.04</td>\n",
       "      <td>2.30</td>\n",
       "      <td>0.092</td>\n",
       "      <td>15.0</td>\n",
       "      <td>54</td>\n",
       "      <td>0.99700</td>\n",
       "      <td>3.26</td>\n",
       "      <td>0.65</td>\n",
       "      <td>9.8</td>\n",
       "      <td>low</td>\n",
       "    </tr>\n",
       "    <tr>\n",
       "      <th>4</th>\n",
       "      <td>11.2</td>\n",
       "      <td>0.28</td>\n",
       "      <td>0.56</td>\n",
       "      <td>1.90</td>\n",
       "      <td>0.075</td>\n",
       "      <td>17.0</td>\n",
       "      <td>60</td>\n",
       "      <td>0.99800</td>\n",
       "      <td>3.16</td>\n",
       "      <td>0.58</td>\n",
       "      <td>9.8</td>\n",
       "      <td>medium</td>\n",
       "    </tr>\n",
       "    <tr>\n",
       "      <th>5</th>\n",
       "      <td>7.4</td>\n",
       "      <td>0.70</td>\n",
       "      <td>0.00</td>\n",
       "      <td>1.90</td>\n",
       "      <td>0.076</td>\n",
       "      <td>11.0</td>\n",
       "      <td>34</td>\n",
       "      <td>0.99780</td>\n",
       "      <td>3.51</td>\n",
       "      <td>0.56</td>\n",
       "      <td>9.4</td>\n",
       "      <td>low</td>\n",
       "    </tr>\n",
       "    <tr>\n",
       "      <th>...</th>\n",
       "      <td>...</td>\n",
       "      <td>...</td>\n",
       "      <td>...</td>\n",
       "      <td>...</td>\n",
       "      <td>...</td>\n",
       "      <td>...</td>\n",
       "      <td>...</td>\n",
       "      <td>...</td>\n",
       "      <td>...</td>\n",
       "      <td>...</td>\n",
       "      <td>...</td>\n",
       "      <td>...</td>\n",
       "    </tr>\n",
       "    <tr>\n",
       "      <th>996</th>\n",
       "      <td>7.7</td>\n",
       "      <td>0.60</td>\n",
       "      <td>0.06</td>\n",
       "      <td>2.00</td>\n",
       "      <td>0.079</td>\n",
       "      <td>19.0</td>\n",
       "      <td>41</td>\n",
       "      <td>0.99697</td>\n",
       "      <td>3.39</td>\n",
       "      <td>0.62</td>\n",
       "      <td>10.1</td>\n",
       "      <td>medium</td>\n",
       "    </tr>\n",
       "    <tr>\n",
       "      <th>997</th>\n",
       "      <td>5.6</td>\n",
       "      <td>0.66</td>\n",
       "      <td>0.00</td>\n",
       "      <td>2.20</td>\n",
       "      <td>0.087</td>\n",
       "      <td>3.0</td>\n",
       "      <td>11</td>\n",
       "      <td>0.99378</td>\n",
       "      <td>3.71</td>\n",
       "      <td>0.63</td>\n",
       "      <td>12.8</td>\n",
       "      <td>high</td>\n",
       "    </tr>\n",
       "    <tr>\n",
       "      <th>998</th>\n",
       "      <td>5.6</td>\n",
       "      <td>0.66</td>\n",
       "      <td>0.00</td>\n",
       "      <td>2.20</td>\n",
       "      <td>0.087</td>\n",
       "      <td>3.0</td>\n",
       "      <td>11</td>\n",
       "      <td>0.99378</td>\n",
       "      <td>3.71</td>\n",
       "      <td>0.63</td>\n",
       "      <td>12.8</td>\n",
       "      <td>high</td>\n",
       "    </tr>\n",
       "    <tr>\n",
       "      <th>999</th>\n",
       "      <td>8.9</td>\n",
       "      <td>0.84</td>\n",
       "      <td>0.34</td>\n",
       "      <td>1.40</td>\n",
       "      <td>0.050</td>\n",
       "      <td>4.0</td>\n",
       "      <td>10</td>\n",
       "      <td>0.99554</td>\n",
       "      <td>3.12</td>\n",
       "      <td>0.48</td>\n",
       "      <td>9.1</td>\n",
       "      <td>medium</td>\n",
       "    </tr>\n",
       "    <tr>\n",
       "      <th>1000</th>\n",
       "      <td>6.4</td>\n",
       "      <td>0.69</td>\n",
       "      <td>0.00</td>\n",
       "      <td>1.65</td>\n",
       "      <td>0.055</td>\n",
       "      <td>7.0</td>\n",
       "      <td>12</td>\n",
       "      <td>0.99162</td>\n",
       "      <td>3.47</td>\n",
       "      <td>0.53</td>\n",
       "      <td>12.9</td>\n",
       "      <td>medium</td>\n",
       "    </tr>\n",
       "  </tbody>\n",
       "</table>\n",
       "<p>1000 rows × 12 columns</p>\n",
       "</div>"
      ],
      "text/plain": [
       "      FixedAcidity  VolatileAcidity  CitricAcid  ResidualSugar  Chlorides  \\\n",
       "1              7.4             0.70        0.00           1.90      0.076   \n",
       "2              7.8             0.88        0.00           2.60      0.098   \n",
       "3              7.8             0.76        0.04           2.30      0.092   \n",
       "4             11.2             0.28        0.56           1.90      0.075   \n",
       "5              7.4             0.70        0.00           1.90      0.076   \n",
       "...            ...              ...         ...            ...        ...   \n",
       "996            7.7             0.60        0.06           2.00      0.079   \n",
       "997            5.6             0.66        0.00           2.20      0.087   \n",
       "998            5.6             0.66        0.00           2.20      0.087   \n",
       "999            8.9             0.84        0.34           1.40      0.050   \n",
       "1000           6.4             0.69        0.00           1.65      0.055   \n",
       "\n",
       "      FreeSulfurDioxide  TotalSulfurDioxide  Density    pH  Sulphates  \\\n",
       "1                  11.0                  34  0.99780  3.51       0.56   \n",
       "2                  25.0                  67  0.99680  3.20       0.68   \n",
       "3                  15.0                  54  0.99700  3.26       0.65   \n",
       "4                  17.0                  60  0.99800  3.16       0.58   \n",
       "5                  11.0                  34  0.99780  3.51       0.56   \n",
       "...                 ...                 ...      ...   ...        ...   \n",
       "996                19.0                  41  0.99697  3.39       0.62   \n",
       "997                 3.0                  11  0.99378  3.71       0.63   \n",
       "998                 3.0                  11  0.99378  3.71       0.63   \n",
       "999                 4.0                  10  0.99554  3.12       0.48   \n",
       "1000                7.0                  12  0.99162  3.47       0.53   \n",
       "\n",
       "      Alcohol Quality  \n",
       "1         9.4     low  \n",
       "2         9.8     low  \n",
       "3         9.8     low  \n",
       "4         9.8  medium  \n",
       "5         9.4     low  \n",
       "...       ...     ...  \n",
       "996      10.1  medium  \n",
       "997      12.8    high  \n",
       "998      12.8    high  \n",
       "999       9.1  medium  \n",
       "1000     12.9  medium  \n",
       "\n",
       "[1000 rows x 12 columns]"
      ]
     },
     "execution_count": 206,
     "metadata": {},
     "output_type": "execute_result"
    }
   ],
   "source": [
    "train_df"
   ]
  },
  {
   "cell_type": "code",
   "execution_count": 213,
   "id": "5a9b1e6c",
   "metadata": {},
   "outputs": [
    {
     "name": "stdout",
     "output_type": "stream",
     "text": [
      "[('Alcohol', 0.40969530798861314), ('Sulphates', 0.19701551826184524), ('TotalSulfurDioxide', 0.11964306600953911), ('VolatileAcidity', 0.08093660725005719), ('Density', 0.04883432925653212), ('ResidualSugar', 0.047823350531642175), ('pH', 0.04537789156773378), ('FreeSulfurDioxide', 0.028473810440852166), ('Chlorides', 0.02220011869318498), ('CitricAcid', 0.0), ('FixedAcidity', 0.0)]\n"
     ]
    }
   ],
   "source": [
    "f={(k,v) for k,v in zip(Xtrain.columns, a.feature_importances_)}\n",
    "print(sorted(f,key = lambda x:x[1], reverse = True))"
   ]
  },
  {
   "cell_type": "markdown",
   "id": "5731c987",
   "metadata": {},
   "source": [
    "# A1.3"
   ]
  },
  {
   "cell_type": "code",
   "execution_count": 223,
   "id": "6c6893cd",
   "metadata": {},
   "outputs": [],
   "source": [
    "train_df = pd.read_csv(\"WineTrain.csv\", index_col=0)\n",
    "test_df = pd.read_csv(\"WineTest.csv\", index_col=0)"
   ]
  },
  {
   "cell_type": "code",
   "execution_count": 224,
   "id": "eba188ac",
   "metadata": {},
   "outputs": [],
   "source": [
    "Ytrain = train_df['Quality']\n",
    "Xtrain = train_df.drop(['Quality'], axis = 1)"
   ]
  },
  {
   "cell_type": "code",
   "execution_count": 240,
   "id": "46a8cfc6",
   "metadata": {},
   "outputs": [],
   "source": [
    "Ytest = test_df['Quality']\n",
    "Xtest = test_df.drop(['Quality'], axis = 1)"
   ]
  },
  {
   "cell_type": "code",
   "execution_count": 226,
   "id": "068eb9ce",
   "metadata": {},
   "outputs": [],
   "source": [
    "wl = DecisionTreeClassifier(random_state=0, max_depth=2)"
   ]
  },
  {
   "cell_type": "code",
   "execution_count": 230,
   "id": "89a682d7",
   "metadata": {},
   "outputs": [],
   "source": [
    "Decision = wl.fit(Xtrain, Ytrain)"
   ]
  },
  {
   "cell_type": "code",
   "execution_count": 231,
   "id": "378a575c",
   "metadata": {},
   "outputs": [],
   "source": [
    "y_test_pred = Decision.predict(Xtest)"
   ]
  },
  {
   "cell_type": "code",
   "execution_count": 232,
   "id": "8ff0a434",
   "metadata": {},
   "outputs": [
    {
     "data": {
      "text/plain": [
       "0.5191986644407346"
      ]
     },
     "execution_count": 232,
     "metadata": {},
     "output_type": "execute_result"
    }
   ],
   "source": [
    "accuracy_score(Ytest, y_test_pred)"
   ]
  },
  {
   "cell_type": "markdown",
   "id": "41271e3d",
   "metadata": {},
   "source": [
    "# Q2"
   ]
  },
  {
   "cell_type": "code",
   "execution_count": 236,
   "id": "0e07e9ee",
   "metadata": {},
   "outputs": [],
   "source": [
    "from sklearn.tree import DecisionTreeClassifier\n",
    "from sklearn.ensemble import BaggingClassifier"
   ]
  },
  {
   "cell_type": "code",
   "execution_count": 247,
   "id": "7cf7dd8d",
   "metadata": {},
   "outputs": [],
   "source": [
    "Ytrain = train_df['Quality']\n",
    "Xtrain = train_df.drop(['Quality'], axis = 1)"
   ]
  },
  {
   "cell_type": "code",
   "execution_count": 270,
   "id": "15b98a71",
   "metadata": {},
   "outputs": [],
   "source": [
    "Classifier = BaggingClassifier(base_estimator=DecisionTreeClassifier(random_state=0, max_depth=2), n_estimators=100).fit(Xtrain, Ytrain)"
   ]
  },
  {
   "cell_type": "code",
   "execution_count": 267,
   "id": "ee375c1a",
   "metadata": {},
   "outputs": [],
   "source": [
    "a = Classifier.predict(Xtest)"
   ]
  },
  {
   "cell_type": "code",
   "execution_count": 268,
   "id": "3211c97f",
   "metadata": {},
   "outputs": [
    {
     "data": {
      "text/plain": [
       "0.5926544240400667"
      ]
     },
     "execution_count": 268,
     "metadata": {},
     "output_type": "execute_result"
    }
   ],
   "source": [
    "accuracy_score(Ytest, a)"
   ]
  },
  {
   "cell_type": "code",
   "execution_count": 281,
   "id": "bab3f2c6",
   "metadata": {},
   "outputs": [],
   "source": [
    "from sklearn.tree import DecisionTreeClassifier\n",
    "from sklearn.ensemble import BaggingClassifier\n",
    "import statistics\n",
    "\n",
    "\n",
    "# Train\n",
    "Ytrain = train_df['Quality']\n",
    "Xtrain = train_df.drop(['Quality'], axis = 1)\n",
    "\n",
    "# Test\n",
    "Ytest = test_df['Quality']\n",
    "Xtest = test_df.drop(['Quality'], axis = 1)\n",
    "\n",
    "# Accuracy result\n",
    "Acc = []\n",
    "\n",
    "# Classifier\n",
    "for i in range(0, 101, 10):\n",
    "    Classifier = BaggingClassifier(base_estimator=DecisionTreeClassifier(random_state=0, max_depth=2), n_estimators=j, random_state =i).fit(Xtrain, Ytrain)\n",
    "    Y_pred = Classifier.predict(Xtest) \n",
    "    Acc.append(accuracy_score(Ytest, Y_pred))\n",
    "\n",
    "# Accuracy mean\n",
    "mean_test_accur = statistics.mean(Acc)"
   ]
  },
  {
   "cell_type": "code",
   "execution_count": 282,
   "id": "d56b3eee",
   "metadata": {},
   "outputs": [
    {
     "data": {
      "text/plain": [
       "0.5818788890575202"
      ]
     },
     "execution_count": 282,
     "metadata": {},
     "output_type": "execute_result"
    }
   ],
   "source": [
    "mean_test_accur"
   ]
  },
  {
   "cell_type": "code",
   "execution_count": 284,
   "id": "938f69ec",
   "metadata": {},
   "outputs": [],
   "source": [
    "from sklearn.tree import DecisionTreeClassifier\n",
    "from sklearn.ensemble import BaggingClassifier\n",
    "import statistics\n",
    "\n",
    "def m(j):\n",
    "    # Train\n",
    "    Ytrain = train_df['Quality']\n",
    "    Xtrain = train_df.drop(['Quality'], axis = 1)\n",
    "\n",
    "    # Test\n",
    "    Ytest = test_df['Quality']\n",
    "    Xtest = test_df.drop(['Quality'], axis = 1)\n",
    "\n",
    "    # Accuracy result\n",
    "    Acc = []\n",
    "\n",
    "    # Classifier\n",
    "    for i in range(0, 101, 10):\n",
    "        Classifier = BaggingClassifier(base_estimator=DecisionTreeClassifier(random_state=0, max_depth=2), n_estimators=j, random_state =i).fit(Xtrain, Ytrain)\n",
    "        Y_pred = Classifier.predict(Xtest) \n",
    "        Acc.append(accuracy_score(Ytest, Y_pred))\n",
    "\n",
    "    # Accuracy mean\n",
    "    mean_test_accur = statistics.mean(Acc)\n",
    "    return mean_test_accur\n",
    "\n",
    "a ={}\n",
    "for i in range(2, 100):\n",
    "    a[i]=m(i)\n",
    "    "
   ]
  },
  {
   "cell_type": "code",
   "execution_count": 285,
   "id": "b2283d11",
   "metadata": {},
   "outputs": [
    {
     "data": {
      "text/plain": [
       "{2: 0.5635149491576871,\n",
       " 3: 0.5782364546972226,\n",
       " 4: 0.5773258461071483,\n",
       " 5: 0.5818788890575202,\n",
       " 6: 0.5903779025648809,\n",
       " 7: 0.5853695553194719,\n",
       " 8: 0.5881013810896949,\n",
       " 9: 0.584155410532706,\n",
       " 10: 0.5833965700409773,\n",
       " 11: 0.5823341933525573,\n",
       " 12: 0.5846107148277432,\n",
       " 13: 0.5856730915161633,\n",
       " 14: 0.5864319320078919,\n",
       " 15: 0.5868872363029292,\n",
       " 16: 0.5870390044012749,\n",
       " 17: 0.592502655941721,\n",
       " 18: 0.591440279253301,\n",
       " 19: 0.5978145393838216,\n",
       " 20: 0.5972074669904386,\n",
       " 21: 0.5961450903020186,\n",
       " 22: 0.5969039307937472,\n",
       " 23: 0.5972074669904386,\n",
       " 24: 0.5994839884656246,\n",
       " 25: 0.5994839884656246,\n",
       " 26: 0.5962968584003643,\n",
       " 27: 0.5973592350887843,\n",
       " 28: 0.5984216117772044,\n",
       " 29: 0.5984216117772044,\n",
       " 30: 0.59751100318713,\n",
       " 31: 0.5967521626954014,\n",
       " 32: 0.5959933222036728,\n",
       " 33: 0.5990286841705874,\n",
       " 34: 0.5959933222036728,\n",
       " 35: 0.5953862498102899,\n",
       " 36: 0.5962968584003643,\n",
       " 37: 0.5928061921384125,\n",
       " 38: 0.5972074669904386,\n",
       " 39: 0.5970556988920929,\n",
       " 40: 0.5969039307937472,\n",
       " 41: 0.5959933222036727,\n",
       " 42: 0.5984216117772044,\n",
       " 43: 0.5967521626954014,\n",
       " 44: 0.5994839884656246,\n",
       " 45: 0.6013052056457733,\n",
       " 46: 0.5990286841705873,\n",
       " 47: 0.5999392927606617,\n",
       " 48: 0.5987251479738959,\n",
       " 49: 0.5984216117772044,\n",
       " 50: 0.6006981332523904,\n",
       " 51: 0.6005463651540446,\n",
       " 52: 0.6000910608590074,\n",
       " 53: 0.6022158142358476,\n",
       " 54: 0.5984216117772044,\n",
       " 55: 0.601456973744119,\n",
       " 56: 0.6003945970556989,\n",
       " 57: 0.6010016694490818,\n",
       " 58: 0.6019122780391561,\n",
       " 59: 0.5996357565639703,\n",
       " 60: 0.6002428289573531,\n",
       " 61: 0.5993322203672788,\n",
       " 62: 0.6005463651540446,\n",
       " 63: 0.6006981332523903,\n",
       " 64: 0.6006981332523903,\n",
       " 65: 0.6010016694490818,\n",
       " 66: 0.6019122780391561,\n",
       " 67: 0.6008499013507361,\n",
       " 68: 0.6003945970556989,\n",
       " 69: 0.6005463651540446,\n",
       " 70: 0.6013052056457733,\n",
       " 71: 0.6010016694490818,\n",
       " 72: 0.603126422825922,\n",
       " 73: 0.6023675823341934,\n",
       " 74: 0.6019122780391561,\n",
       " 75: 0.6008499013507361,\n",
       " 76: 0.6017605099408104,\n",
       " 77: 0.6016087418424647,\n",
       " 78: 0.6006981332523903,\n",
       " 79: 0.5996357565639703,\n",
       " 80: 0.6006981332523904,\n",
       " 81: 0.6010016694490818,\n",
       " 82: 0.6000910608590074,\n",
       " 83: 0.5990286841705873,\n",
       " 84: 0.6013052056457733,\n",
       " 85: 0.6008499013507361,\n",
       " 86: 0.6010016694490818,\n",
       " 87: 0.601456973744119,\n",
       " 88: 0.601456973744119,\n",
       " 89: 0.6013052056457733,\n",
       " 90: 0.6016087418424647,\n",
       " 91: 0.6020640461375019,\n",
       " 92: 0.6022158142358476,\n",
       " 93: 0.6019122780391561,\n",
       " 94: 0.6025193504325391,\n",
       " 95: 0.6034299590226134,\n",
       " 96: 0.6029746547275763,\n",
       " 97: 0.6026711185308848,\n",
       " 98: 0.6019122780391561,\n",
       " 99: 0.6025193504325391}"
      ]
     },
     "execution_count": 285,
     "metadata": {},
     "output_type": "execute_result"
    }
   ],
   "source": [
    "a"
   ]
  },
  {
   "cell_type": "markdown",
   "id": "900309b0",
   "metadata": {},
   "source": [
    "# Q4"
   ]
  },
  {
   "cell_type": "code",
   "execution_count": 286,
   "id": "03f3b39c",
   "metadata": {},
   "outputs": [],
   "source": [
    "from sklearn.ensemble import RandomForestClassifier"
   ]
  },
  {
   "cell_type": "code",
   "execution_count": 287,
   "id": "d0f300d3",
   "metadata": {},
   "outputs": [],
   "source": [
    "# Train\n",
    "Ytrain = train_df['Quality']\n",
    "Xtrain = train_df.drop(['Quality'], axis = 1)\n",
    "\n",
    "# Test\n",
    "Ytest = test_df['Quality']\n",
    "Xtest = test_df.drop(['Quality'], axis = 1)"
   ]
  },
  {
   "cell_type": "markdown",
   "id": "c94cfa05",
   "metadata": {},
   "source": [
    "n_estimators max_depth min_samples_split criterion"
   ]
  },
  {
   "cell_type": "code",
   "execution_count": 288,
   "id": "1c44c57e",
   "metadata": {},
   "outputs": [],
   "source": [
    "import pandas as pd\n",
    "from sklearn.tree import DecisionTreeClassifier\n",
    "from sklearn import tree\n",
    "from sklearn.metrics import accuracy_score\n",
    "import matplotlib.pyplot as plt\n",
    "from sklearn.ensemble import RandomForestClassifier"
   ]
  },
  {
   "cell_type": "code",
   "execution_count": 291,
   "id": "a11f44cb",
   "metadata": {},
   "outputs": [],
   "source": [
    "# Train\n",
    "y_train = train_df['Quality']\n",
    "x_train = train_df.drop(['Quality'], axis = 1)\n",
    "\n",
    "# Test\n",
    "y_test = test_df['Quality']\n",
    "x_test = test_df.drop(['Quality'], axis = 1)"
   ]
  },
  {
   "cell_type": "code",
   "execution_count": 292,
   "id": "99769fcd",
   "metadata": {},
   "outputs": [],
   "source": [
    "clf = RandomForestClassifier(max_features='auto', min_samples_leaf=1,\n",
    "                       min_samples_split = 2, max_depth = 50, n_estimators = 50)\n",
    "clf = clf.fit(x_train, y_train)\n",
    "y_train_pred = clf.predict(x_train)\n",
    "y_test_pred = clf.predict(x_test)\n",
    "    \n",
    "train_acc = accuracy_score(y_train, y_train_pred)\n",
    "test_acc = accuracy_score(y_test, y_test_pred)"
   ]
  },
  {
   "cell_type": "code",
   "execution_count": 293,
   "id": "139392b4",
   "metadata": {},
   "outputs": [
    {
     "data": {
      "text/plain": [
       "1.0"
      ]
     },
     "execution_count": 293,
     "metadata": {},
     "output_type": "execute_result"
    }
   ],
   "source": [
    "train_acc"
   ]
  },
  {
   "cell_type": "code",
   "execution_count": 294,
   "id": "0f3f74e6",
   "metadata": {},
   "outputs": [
    {
     "data": {
      "text/plain": [
       "0.5976627712854758"
      ]
     },
     "execution_count": 294,
     "metadata": {},
     "output_type": "execute_result"
    }
   ],
   "source": [
    "test_acc"
   ]
  },
  {
   "cell_type": "code",
   "execution_count": 295,
   "id": "87fef32e",
   "metadata": {},
   "outputs": [],
   "source": [
    "## Tuning n_estimators"
   ]
  },
  {
   "cell_type": "code",
   "execution_count": 296,
   "id": "d3af0a76",
   "metadata": {},
   "outputs": [],
   "source": [
    "frame = pd.DataFrame(columns = [\"n_trees\", \"TrainAcc\", \"TestAcc\"])\n",
    "for n_trees in range(1, 200, 2):\n",
    "    clf = RandomForestClassifier(n_estimators=n_trees)\n",
    "    clf = clf.fit(x_train, y_train)\n",
    "    y_train_pred = clf.predict(x_train)\n",
    "    y_test_pred = clf.predict(x_test)\n",
    "    \n",
    "    train_acc = accuracy_score(y_train, y_train_pred)\n",
    "    test_acc = accuracy_score(y_test, y_test_pred)\n",
    "    \n",
    "    new_row = [n_trees, train_acc, test_acc]\n",
    "    frame.loc[len(frame)] = new_row"
   ]
  },
  {
   "cell_type": "code",
   "execution_count": 297,
   "id": "664b1be6",
   "metadata": {},
   "outputs": [
    {
     "data": {
      "text/plain": [
       "n_trees     113.000000\n",
       "TrainAcc      1.000000\n",
       "TestAcc       0.641068\n",
       "Name: 56, dtype: float64"
      ]
     },
     "execution_count": 297,
     "metadata": {},
     "output_type": "execute_result"
    }
   ],
   "source": [
    "frame.iloc[frame['TestAcc'].argmax()]"
   ]
  },
  {
   "cell_type": "code",
   "execution_count": 298,
   "id": "5cdece32",
   "metadata": {},
   "outputs": [],
   "source": [
    "## Tuning min_samples_split"
   ]
  },
  {
   "cell_type": "code",
   "execution_count": 299,
   "id": "b901e6fb",
   "metadata": {},
   "outputs": [],
   "source": [
    "frame = pd.DataFrame(columns = [\"min_samples_split\", \"TrainAcc\", \"TestAcc\"])\n",
    "\n",
    "for split in np.linspace(0.01, 1, num=100):\n",
    "    clf = RandomForestClassifier(n_estimators=113, min_samples_split=split)\n",
    "    clf = clf.fit(x_train, y_train)\n",
    "    y_train_pred = clf.predict(x_train)\n",
    "    y_test_pred = clf.predict(x_test)\n",
    "    \n",
    "    train_acc = accuracy_score(y_train, y_train_pred)\n",
    "    test_acc = accuracy_score(y_test, y_test_pred)\n",
    "    \n",
    "    new_row = [split, train_acc, test_acc]\n",
    "    frame.loc[len(frame)] = new_row"
   ]
  },
  {
   "cell_type": "code",
   "execution_count": 300,
   "id": "ddb71ce5",
   "metadata": {},
   "outputs": [
    {
     "data": {
      "text/plain": [
       "min_samples_split    0.040000\n",
       "TrainAcc             0.805000\n",
       "TestAcc              0.659432\n",
       "Name: 3, dtype: float64"
      ]
     },
     "execution_count": 300,
     "metadata": {},
     "output_type": "execute_result"
    }
   ],
   "source": [
    "frame.iloc[frame['TestAcc'].argmax()]"
   ]
  },
  {
   "cell_type": "code",
   "execution_count": 301,
   "id": "4956dc79",
   "metadata": {},
   "outputs": [],
   "source": [
    "## Tuning max_depth"
   ]
  },
  {
   "cell_type": "code",
   "execution_count": 305,
   "id": "f7c2fc49",
   "metadata": {},
   "outputs": [],
   "source": [
    "frame = pd.DataFrame(columns = [\"depth\", \"TrainAcc\", \"TestAcc\"])\n",
    "\n",
    "for depth in range(1, 100):\n",
    "    test_aux=[]\n",
    "    train_aux=[]\n",
    "    for i in range(10):\n",
    "        clf = RandomForestClassifier(n_estimators=113, min_samples_split=0.04, max_depth=depth)\n",
    "        clf = clf.fit(x_train, y_train)\n",
    "        y_train_pred = clf.predict(x_train)\n",
    "        y_test_pred = clf.predict(x_test)\n",
    "    \n",
    "        train_acc = accuracy_score(y_train, y_train_pred)\n",
    "        test_acc = accuracy_score(y_test, y_test_pred)\n",
    "        test_aux.append(test_acc)\n",
    "        train_aux.append(train_acc)\n",
    "    \n",
    "    new_row = [depth, sum(train_aux)/len(train_aux), sum(test_aux)/len(test_aux)]\n",
    "    frame.loc[len(frame)] = new_row"
   ]
  },
  {
   "cell_type": "code",
   "execution_count": 306,
   "id": "2df4af52",
   "metadata": {},
   "outputs": [
    {
     "data": {
      "text/plain": [
       "depth       6.000000\n",
       "TrainAcc    0.761100\n",
       "TestAcc     0.644574\n",
       "Name: 5, dtype: float64"
      ]
     },
     "execution_count": 306,
     "metadata": {},
     "output_type": "execute_result"
    }
   ],
   "source": [
    "frame.iloc[frame['TestAcc'].argmax()]"
   ]
  },
  {
   "cell_type": "code",
   "execution_count": null,
   "id": "3d9257b9",
   "metadata": {},
   "outputs": [],
   "source": [
    "## Tuning min_samples_leaf"
   ]
  },
  {
   "cell_type": "code",
   "execution_count": null,
   "id": "cb48265c",
   "metadata": {},
   "outputs": [],
   "source": [
    "frame = pd.DataFrame(columns = [\"min_samples_leaf\", \"TrainAcc\", \"TestAcc\"])\n",
    "\n",
    "for samples in range(1, 200):\n",
    "    clf = RandomForestClassifier(n_estimators=113, min_samples_split=0.04,\n",
    "                                 max_depth=132, min_samples_leaf=samples)\n",
    "    clf = clf.fit(x_train, y_train)\n",
    "    y_train_pred = clf.predict(x_train)\n",
    "    y_test_pred = clf.predict(x_test)\n",
    "    \n",
    "    train_acc = accuracy_score(y_train, y_train_pred)\n",
    "    test_acc = accuracy_score(y_test, y_test_pred)\n",
    "    \n",
    "    new_row = [samples, train_acc, test_acc]\n",
    "    frame.loc[len(frame)] = new_row"
   ]
  },
  {
   "cell_type": "code",
   "execution_count": null,
   "id": "ce984a99",
   "metadata": {},
   "outputs": [],
   "source": [
    "frame.iloc[frame['TestAcc'].argmax()]"
   ]
  }
 ],
 "metadata": {
  "kernelspec": {
   "display_name": "Python 3",
   "language": "python",
   "name": "python3"
  },
  "language_info": {
   "codemirror_mode": {
    "name": "ipython",
    "version": 3
   },
   "file_extension": ".py",
   "mimetype": "text/x-python",
   "name": "python",
   "nbconvert_exporter": "python",
   "pygments_lexer": "ipython3",
   "version": "3.8.8"
  }
 },
 "nbformat": 4,
 "nbformat_minor": 5
}
