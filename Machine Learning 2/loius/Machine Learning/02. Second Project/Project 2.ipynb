{
 "cells": [
  {
   "cell_type": "code",
   "execution_count": 41,
   "id": "dcc07b9d",
   "metadata": {},
   "outputs": [],
   "source": [
    "import pandas as pd\n",
    "\n",
    "train_df = pd.read_csv(\"HeartTrain.csv\", index_col=0)\n",
    "test_df = pd.read_csv(\"HeartTest.csv\", index_col=0)"
   ]
  },
  {
   "cell_type": "code",
   "execution_count": 10,
   "id": "1cf25a0e",
   "metadata": {},
   "outputs": [
    {
     "data": {
      "text/html": [
       "<div>\n",
       "<style scoped>\n",
       "    .dataframe tbody tr th:only-of-type {\n",
       "        vertical-align: middle;\n",
       "    }\n",
       "\n",
       "    .dataframe tbody tr th {\n",
       "        vertical-align: top;\n",
       "    }\n",
       "\n",
       "    .dataframe thead th {\n",
       "        text-align: right;\n",
       "    }\n",
       "</style>\n",
       "<table border=\"1\" class=\"dataframe\">\n",
       "  <thead>\n",
       "    <tr style=\"text-align: right;\">\n",
       "      <th></th>\n",
       "      <th>F_1</th>\n",
       "      <th>F_2</th>\n",
       "      <th>F_3</th>\n",
       "      <th>F_4</th>\n",
       "      <th>F_5</th>\n",
       "      <th>F_6</th>\n",
       "      <th>F_7</th>\n",
       "      <th>F_8</th>\n",
       "      <th>F_9</th>\n",
       "      <th>F_10</th>\n",
       "      <th>...</th>\n",
       "      <th>F_36</th>\n",
       "      <th>F_37</th>\n",
       "      <th>F_38</th>\n",
       "      <th>F_39</th>\n",
       "      <th>F_40</th>\n",
       "      <th>F_41</th>\n",
       "      <th>F_42</th>\n",
       "      <th>F_43</th>\n",
       "      <th>F_44</th>\n",
       "      <th>labels</th>\n",
       "    </tr>\n",
       "  </thead>\n",
       "  <tbody>\n",
       "    <tr>\n",
       "      <th>33</th>\n",
       "      <td>70.000000</td>\n",
       "      <td>66.000000</td>\n",
       "      <td>61.000000</td>\n",
       "      <td>66.000000</td>\n",
       "      <td>61.000000</td>\n",
       "      <td>58.000000</td>\n",
       "      <td>69.000000</td>\n",
       "      <td>69.000000</td>\n",
       "      <td>72.000000</td>\n",
       "      <td>68.000000</td>\n",
       "      <td>...</td>\n",
       "      <td>69.000000</td>\n",
       "      <td>70.000000</td>\n",
       "      <td>66.000000</td>\n",
       "      <td>70.000000</td>\n",
       "      <td>64.000000</td>\n",
       "      <td>60.000000</td>\n",
       "      <td>55.000000</td>\n",
       "      <td>49.000000</td>\n",
       "      <td>41.000000</td>\n",
       "      <td>1</td>\n",
       "    </tr>\n",
       "    <tr>\n",
       "      <th>395</th>\n",
       "      <td>67.097783</td>\n",
       "      <td>66.035652</td>\n",
       "      <td>57.874202</td>\n",
       "      <td>68.196439</td>\n",
       "      <td>61.463222</td>\n",
       "      <td>73.805403</td>\n",
       "      <td>65.848647</td>\n",
       "      <td>74.078184</td>\n",
       "      <td>61.040613</td>\n",
       "      <td>61.978926</td>\n",
       "      <td>...</td>\n",
       "      <td>72.891768</td>\n",
       "      <td>68.033461</td>\n",
       "      <td>66.472281</td>\n",
       "      <td>68.383302</td>\n",
       "      <td>75.823928</td>\n",
       "      <td>70.487639</td>\n",
       "      <td>72.317613</td>\n",
       "      <td>60.216174</td>\n",
       "      <td>61.041945</td>\n",
       "      <td>0</td>\n",
       "    </tr>\n",
       "    <tr>\n",
       "      <th>191</th>\n",
       "      <td>68.000000</td>\n",
       "      <td>66.000000</td>\n",
       "      <td>70.000000</td>\n",
       "      <td>70.000000</td>\n",
       "      <td>62.000000</td>\n",
       "      <td>67.000000</td>\n",
       "      <td>73.000000</td>\n",
       "      <td>74.000000</td>\n",
       "      <td>69.000000</td>\n",
       "      <td>70.000000</td>\n",
       "      <td>...</td>\n",
       "      <td>62.000000</td>\n",
       "      <td>74.000000</td>\n",
       "      <td>68.000000</td>\n",
       "      <td>81.000000</td>\n",
       "      <td>75.000000</td>\n",
       "      <td>74.000000</td>\n",
       "      <td>70.000000</td>\n",
       "      <td>65.000000</td>\n",
       "      <td>58.000000</td>\n",
       "      <td>1</td>\n",
       "    </tr>\n",
       "    <tr>\n",
       "      <th>244</th>\n",
       "      <td>76.000000</td>\n",
       "      <td>59.000000</td>\n",
       "      <td>82.000000</td>\n",
       "      <td>76.000000</td>\n",
       "      <td>80.000000</td>\n",
       "      <td>56.000000</td>\n",
       "      <td>74.000000</td>\n",
       "      <td>67.000000</td>\n",
       "      <td>67.000000</td>\n",
       "      <td>58.000000</td>\n",
       "      <td>...</td>\n",
       "      <td>66.000000</td>\n",
       "      <td>73.000000</td>\n",
       "      <td>61.000000</td>\n",
       "      <td>71.000000</td>\n",
       "      <td>49.000000</td>\n",
       "      <td>53.000000</td>\n",
       "      <td>45.000000</td>\n",
       "      <td>29.000000</td>\n",
       "      <td>15.000000</td>\n",
       "      <td>1</td>\n",
       "    </tr>\n",
       "    <tr>\n",
       "      <th>44</th>\n",
       "      <td>64.000000</td>\n",
       "      <td>75.000000</td>\n",
       "      <td>52.000000</td>\n",
       "      <td>46.000000</td>\n",
       "      <td>59.000000</td>\n",
       "      <td>54.000000</td>\n",
       "      <td>79.000000</td>\n",
       "      <td>78.000000</td>\n",
       "      <td>61.000000</td>\n",
       "      <td>68.000000</td>\n",
       "      <td>...</td>\n",
       "      <td>75.000000</td>\n",
       "      <td>51.000000</td>\n",
       "      <td>73.000000</td>\n",
       "      <td>60.000000</td>\n",
       "      <td>56.000000</td>\n",
       "      <td>41.000000</td>\n",
       "      <td>21.000000</td>\n",
       "      <td>33.000000</td>\n",
       "      <td>22.000000</td>\n",
       "      <td>1</td>\n",
       "    </tr>\n",
       "    <tr>\n",
       "      <th>...</th>\n",
       "      <td>...</td>\n",
       "      <td>...</td>\n",
       "      <td>...</td>\n",
       "      <td>...</td>\n",
       "      <td>...</td>\n",
       "      <td>...</td>\n",
       "      <td>...</td>\n",
       "      <td>...</td>\n",
       "      <td>...</td>\n",
       "      <td>...</td>\n",
       "      <td>...</td>\n",
       "      <td>...</td>\n",
       "      <td>...</td>\n",
       "      <td>...</td>\n",
       "      <td>...</td>\n",
       "      <td>...</td>\n",
       "      <td>...</td>\n",
       "      <td>...</td>\n",
       "      <td>...</td>\n",
       "      <td>...</td>\n",
       "      <td>...</td>\n",
       "    </tr>\n",
       "    <tr>\n",
       "      <th>5</th>\n",
       "      <td>74.000000</td>\n",
       "      <td>76.000000</td>\n",
       "      <td>72.000000</td>\n",
       "      <td>74.000000</td>\n",
       "      <td>70.000000</td>\n",
       "      <td>71.000000</td>\n",
       "      <td>73.000000</td>\n",
       "      <td>77.000000</td>\n",
       "      <td>70.000000</td>\n",
       "      <td>73.000000</td>\n",
       "      <td>...</td>\n",
       "      <td>72.000000</td>\n",
       "      <td>62.000000</td>\n",
       "      <td>67.000000</td>\n",
       "      <td>71.000000</td>\n",
       "      <td>75.000000</td>\n",
       "      <td>61.000000</td>\n",
       "      <td>62.000000</td>\n",
       "      <td>49.000000</td>\n",
       "      <td>51.000000</td>\n",
       "      <td>1</td>\n",
       "    </tr>\n",
       "    <tr>\n",
       "      <th>10</th>\n",
       "      <td>62.000000</td>\n",
       "      <td>54.000000</td>\n",
       "      <td>68.000000</td>\n",
       "      <td>70.000000</td>\n",
       "      <td>51.000000</td>\n",
       "      <td>28.000000</td>\n",
       "      <td>54.000000</td>\n",
       "      <td>23.000000</td>\n",
       "      <td>54.000000</td>\n",
       "      <td>54.000000</td>\n",
       "      <td>...</td>\n",
       "      <td>29.000000</td>\n",
       "      <td>63.000000</td>\n",
       "      <td>58.000000</td>\n",
       "      <td>48.000000</td>\n",
       "      <td>44.000000</td>\n",
       "      <td>28.000000</td>\n",
       "      <td>10.000000</td>\n",
       "      <td>15.000000</td>\n",
       "      <td>28.000000</td>\n",
       "      <td>1</td>\n",
       "    </tr>\n",
       "    <tr>\n",
       "      <th>36</th>\n",
       "      <td>72.000000</td>\n",
       "      <td>62.000000</td>\n",
       "      <td>69.000000</td>\n",
       "      <td>67.000000</td>\n",
       "      <td>78.000000</td>\n",
       "      <td>82.000000</td>\n",
       "      <td>74.000000</td>\n",
       "      <td>65.000000</td>\n",
       "      <td>69.000000</td>\n",
       "      <td>63.000000</td>\n",
       "      <td>...</td>\n",
       "      <td>71.000000</td>\n",
       "      <td>63.000000</td>\n",
       "      <td>60.000000</td>\n",
       "      <td>69.000000</td>\n",
       "      <td>73.000000</td>\n",
       "      <td>67.000000</td>\n",
       "      <td>71.000000</td>\n",
       "      <td>56.000000</td>\n",
       "      <td>58.000000</td>\n",
       "      <td>1</td>\n",
       "    </tr>\n",
       "    <tr>\n",
       "      <th>319</th>\n",
       "      <td>69.063208</td>\n",
       "      <td>60.026683</td>\n",
       "      <td>64.894407</td>\n",
       "      <td>70.760276</td>\n",
       "      <td>65.946915</td>\n",
       "      <td>70.407838</td>\n",
       "      <td>70.951992</td>\n",
       "      <td>63.092196</td>\n",
       "      <td>71.766128</td>\n",
       "      <td>71.541718</td>\n",
       "      <td>...</td>\n",
       "      <td>63.222866</td>\n",
       "      <td>54.504194</td>\n",
       "      <td>52.962963</td>\n",
       "      <td>72.637203</td>\n",
       "      <td>60.654169</td>\n",
       "      <td>76.801566</td>\n",
       "      <td>63.226401</td>\n",
       "      <td>58.290955</td>\n",
       "      <td>49.890528</td>\n",
       "      <td>0</td>\n",
       "    </tr>\n",
       "    <tr>\n",
       "      <th>266</th>\n",
       "      <td>54.000000</td>\n",
       "      <td>53.000000</td>\n",
       "      <td>73.000000</td>\n",
       "      <td>68.000000</td>\n",
       "      <td>77.000000</td>\n",
       "      <td>65.000000</td>\n",
       "      <td>65.000000</td>\n",
       "      <td>72.000000</td>\n",
       "      <td>60.000000</td>\n",
       "      <td>50.000000</td>\n",
       "      <td>...</td>\n",
       "      <td>70.000000</td>\n",
       "      <td>55.000000</td>\n",
       "      <td>49.000000</td>\n",
       "      <td>70.000000</td>\n",
       "      <td>61.000000</td>\n",
       "      <td>73.000000</td>\n",
       "      <td>70.000000</td>\n",
       "      <td>61.000000</td>\n",
       "      <td>61.000000</td>\n",
       "      <td>1</td>\n",
       "    </tr>\n",
       "  </tbody>\n",
       "</table>\n",
       "<p>220 rows × 45 columns</p>\n",
       "</div>"
      ],
      "text/plain": [
       "           F_1        F_2        F_3        F_4        F_5        F_6  \\\n",
       "33   70.000000  66.000000  61.000000  66.000000  61.000000  58.000000   \n",
       "395  67.097783  66.035652  57.874202  68.196439  61.463222  73.805403   \n",
       "191  68.000000  66.000000  70.000000  70.000000  62.000000  67.000000   \n",
       "244  76.000000  59.000000  82.000000  76.000000  80.000000  56.000000   \n",
       "44   64.000000  75.000000  52.000000  46.000000  59.000000  54.000000   \n",
       "..         ...        ...        ...        ...        ...        ...   \n",
       "5    74.000000  76.000000  72.000000  74.000000  70.000000  71.000000   \n",
       "10   62.000000  54.000000  68.000000  70.000000  51.000000  28.000000   \n",
       "36   72.000000  62.000000  69.000000  67.000000  78.000000  82.000000   \n",
       "319  69.063208  60.026683  64.894407  70.760276  65.946915  70.407838   \n",
       "266  54.000000  53.000000  73.000000  68.000000  77.000000  65.000000   \n",
       "\n",
       "           F_7        F_8        F_9       F_10  ...       F_36       F_37  \\\n",
       "33   69.000000  69.000000  72.000000  68.000000  ...  69.000000  70.000000   \n",
       "395  65.848647  74.078184  61.040613  61.978926  ...  72.891768  68.033461   \n",
       "191  73.000000  74.000000  69.000000  70.000000  ...  62.000000  74.000000   \n",
       "244  74.000000  67.000000  67.000000  58.000000  ...  66.000000  73.000000   \n",
       "44   79.000000  78.000000  61.000000  68.000000  ...  75.000000  51.000000   \n",
       "..         ...        ...        ...        ...  ...        ...        ...   \n",
       "5    73.000000  77.000000  70.000000  73.000000  ...  72.000000  62.000000   \n",
       "10   54.000000  23.000000  54.000000  54.000000  ...  29.000000  63.000000   \n",
       "36   74.000000  65.000000  69.000000  63.000000  ...  71.000000  63.000000   \n",
       "319  70.951992  63.092196  71.766128  71.541718  ...  63.222866  54.504194   \n",
       "266  65.000000  72.000000  60.000000  50.000000  ...  70.000000  55.000000   \n",
       "\n",
       "          F_38       F_39       F_40       F_41       F_42       F_43  \\\n",
       "33   66.000000  70.000000  64.000000  60.000000  55.000000  49.000000   \n",
       "395  66.472281  68.383302  75.823928  70.487639  72.317613  60.216174   \n",
       "191  68.000000  81.000000  75.000000  74.000000  70.000000  65.000000   \n",
       "244  61.000000  71.000000  49.000000  53.000000  45.000000  29.000000   \n",
       "44   73.000000  60.000000  56.000000  41.000000  21.000000  33.000000   \n",
       "..         ...        ...        ...        ...        ...        ...   \n",
       "5    67.000000  71.000000  75.000000  61.000000  62.000000  49.000000   \n",
       "10   58.000000  48.000000  44.000000  28.000000  10.000000  15.000000   \n",
       "36   60.000000  69.000000  73.000000  67.000000  71.000000  56.000000   \n",
       "319  52.962963  72.637203  60.654169  76.801566  63.226401  58.290955   \n",
       "266  49.000000  70.000000  61.000000  73.000000  70.000000  61.000000   \n",
       "\n",
       "          F_44  labels  \n",
       "33   41.000000       1  \n",
       "395  61.041945       0  \n",
       "191  58.000000       1  \n",
       "244  15.000000       1  \n",
       "44   22.000000       1  \n",
       "..         ...     ...  \n",
       "5    51.000000       1  \n",
       "10   28.000000       1  \n",
       "36   58.000000       1  \n",
       "319  49.890528       0  \n",
       "266  61.000000       1  \n",
       "\n",
       "[220 rows x 45 columns]"
      ]
     },
     "execution_count": 10,
     "metadata": {},
     "output_type": "execute_result"
    }
   ],
   "source": [
    "train_df"
   ]
  },
  {
   "cell_type": "markdown",
   "id": "8a5723c9",
   "metadata": {},
   "source": [
    "# Question 1"
   ]
  },
  {
   "cell_type": "code",
   "execution_count": 20,
   "id": "e1200207",
   "metadata": {},
   "outputs": [],
   "source": [
    "# Import\n",
    "import pandas as pd\n",
    "import numpy as np\n",
    "from sklearn.svm import SVC\n",
    "\n",
    "# Evaluation\n",
    "from sklearn.metrics import mean_squared_error, make_scorer\n",
    "from sklearn.metrics import accuracy_score\n",
    "\n",
    "# Split data\n",
    "from sklearn.model_selection import KFold, train_test_split \n",
    "\n",
    "# Cross_validation\n",
    "accuracy_model = []\n",
    "cross_validation = KFold(n_splits=10, shuffle=False)\n",
    "\n",
    "# Divide the dataset\n",
    "Ytrain = train_df['labels']\n",
    "Xtrain = train_df.drop(['labels'], axis = 1)\n",
    "\n",
    "Ytest = test_df['labels']\n",
    "Xtest = test_df.drop(['labels'], axis = 1)\n",
    "\n",
    "# Model\n",
    "for train_index, validation_index in cross_validation.split(train_df):\n",
    "    X_train, X_validation = Xtrain.values[train_index], Xtrain.values[validation_index]\n",
    "    Y_train, Y_validation = Ytrain.values[train_index], Ytrain.values[validation_index]\n",
    "    \n",
    "    # Model initialization\n",
    "    model = model = SVC(kernel=\"linear\")\n",
    "    model.fit(X_train, Y_train)\n",
    "    \n",
    "    # Predict Y\n",
    "    Y_pred = model.predict(X_validation)\n",
    "    \n",
    "    # Accuracy\n",
    "    accuracy_model.append(accuracy_score(Y_validation, Y_pred))\n",
    "    \n",
    "cv_acc = np.mean(accuracy_model)"
   ]
  },
  {
   "cell_type": "code",
   "execution_count": null,
   "id": "971b7181",
   "metadata": {},
   "outputs": [],
   "source": []
  },
  {
   "cell_type": "code",
   "execution_count": 21,
   "id": "e8390a31",
   "metadata": {},
   "outputs": [
    {
     "data": {
      "text/plain": [
       "0.7727272727272727"
      ]
     },
     "execution_count": 21,
     "metadata": {},
     "output_type": "execute_result"
    }
   ],
   "source": [
    "cv_acc"
   ]
  },
  {
   "cell_type": "markdown",
   "id": "739ecfc9",
   "metadata": {},
   "source": [
    "# Question 2"
   ]
  },
  {
   "cell_type": "code",
   "execution_count": 22,
   "id": "068c4839",
   "metadata": {},
   "outputs": [],
   "source": [
    "# Import\n",
    "import pandas as pd\n",
    "import numpy as np\n",
    "from sklearn.svm import SVC\n",
    "\n",
    "# Evaluation\n",
    "from sklearn.metrics import mean_squared_error, make_scorer\n",
    "from sklearn.metrics import accuracy_score\n",
    "\n",
    "# Split data\n",
    "from sklearn.model_selection import KFold, train_test_split \n",
    "\n",
    "# Cross_validation\n",
    "accuracy_model = {}\n",
    "cross_validation = KFold(n_splits=10, shuffle=False)\n",
    "\n",
    "# Divide the dataset\n",
    "Ytrain = train_df['labels']\n",
    "Xtrain = train_df.drop(['labels'], axis = 1)\n",
    "\n",
    "Ytest = test_df['labels']\n",
    "Xtest = test_df.drop(['labels'], axis = 1)\n",
    "\n",
    "# For each degree\n",
    "for degree_test in range(21):\n",
    "    accuracy_degree = []\n",
    "\n",
    "\n",
    "    # Model\n",
    "    for train_index, validation_index in cross_validation.split(train_df):\n",
    "        X_train, X_validation = Xtrain.values[train_index], Xtrain.values[validation_index]\n",
    "        Y_train, Y_validation = Ytrain.values[train_index], Ytrain.values[validation_index]\n",
    "\n",
    "        # Model initialization\n",
    "        model = model = SVC(kernel=\"poly\", degree = degree_test)\n",
    "        model.fit(X_train, Y_train)\n",
    "\n",
    "        # Predict Y\n",
    "        Y_pred = model.predict(X_validation)\n",
    "\n",
    "        # Accuracy\n",
    "        accuracy_degree.append(accuracy_score(Y_validation, Y_pred))\n",
    "    \n",
    "    accuracy_model[degree_test]=(np.mean(accuracy_degree)) \n",
    "    \n",
    "#cv_acc = np.mean(accuracy_model)"
   ]
  },
  {
   "cell_type": "code",
   "execution_count": 30,
   "id": "0d049c7b",
   "metadata": {},
   "outputs": [],
   "source": [
    "# Import\n",
    "import pandas as pd\n",
    "import numpy as np\n",
    "from sklearn.svm import SVC\n",
    "\n",
    "# Evaluation\n",
    "from sklearn.metrics import mean_squared_error, make_scorer\n",
    "from sklearn.metrics import accuracy_score\n",
    "\n",
    "# Split data\n",
    "from sklearn.model_selection import KFold, train_test_split \n",
    "\n",
    "# Cross_validation\n",
    "accuracy_model = []\n",
    "cross_validation = KFold(n_splits=10, shuffle=False)\n",
    "\n",
    "# Divide the dataset\n",
    "Ytrain = train_df['labels']\n",
    "Xtrain = train_df.drop(['labels'], axis = 1)\n",
    "\n",
    "Ytest = test_df['labels']\n",
    "Xtest = test_df.drop(['labels'], axis = 1)\n",
    "\n",
    "# Model\n",
    "for train_index, validation_index in cross_validation.split(train_df):\n",
    "    X_train, X_validation = Xtrain.values[train_index], Xtrain.values[validation_index]\n",
    "    Y_train, Y_validation = Ytrain.values[train_index], Ytrain.values[validation_index]\n",
    "    \n",
    "    # Model initialization\n",
    "    model = model = SVC(kernel=\"poly\", degree = 16)\n",
    "    model.fit(X_train, Y_train)\n",
    "    \n",
    "    # Predict Y\n",
    "    Y_pred = model.predict(X_validation)\n",
    "    \n",
    "    # Accuracy\n",
    "    accuracy_model.append(accuracy_score(Y_validation, Y_pred))\n",
    "    \n",
    "cv_acc = np.mean(accuracy_model)"
   ]
  },
  {
   "cell_type": "code",
   "execution_count": 31,
   "id": "0264629b",
   "metadata": {},
   "outputs": [
    {
     "data": {
      "text/plain": [
       "0.8318181818181817"
      ]
     },
     "execution_count": 31,
     "metadata": {},
     "output_type": "execute_result"
    }
   ],
   "source": [
    "cv_acc"
   ]
  },
  {
   "cell_type": "code",
   "execution_count": 28,
   "id": "37eae0d2",
   "metadata": {},
   "outputs": [
    {
     "data": {
      "text/plain": [
       "0.8318181818181817"
      ]
     },
     "execution_count": 28,
     "metadata": {},
     "output_type": "execute_result"
    }
   ],
   "source": [
    "max(accuracy_model.values())"
   ]
  },
  {
   "cell_type": "code",
   "execution_count": 29,
   "id": "17ed81e3",
   "metadata": {},
   "outputs": [
    {
     "data": {
      "text/plain": [
       "{0: 0.43636363636363634,\n",
       " 1: 0.8,\n",
       " 2: 0.8045454545454545,\n",
       " 3: 0.7954545454545454,\n",
       " 4: 0.8,\n",
       " 5: 0.8,\n",
       " 6: 0.8,\n",
       " 7: 0.8045454545454545,\n",
       " 8: 0.8045454545454545,\n",
       " 9: 0.8045454545454545,\n",
       " 10: 0.8,\n",
       " 11: 0.8,\n",
       " 12: 0.8045454545454545,\n",
       " 13: 0.8181818181818181,\n",
       " 14: 0.8181818181818181,\n",
       " 15: 0.8227272727272726,\n",
       " 16: 0.8318181818181817,\n",
       " 17: 0.8227272727272726,\n",
       " 18: 0.8227272727272726,\n",
       " 19: 0.8090909090909092,\n",
       " 20: 0.8090909090909092}"
      ]
     },
     "execution_count": 29,
     "metadata": {},
     "output_type": "execute_result"
    }
   ],
   "source": [
    "accuracy_model"
   ]
  },
  {
   "cell_type": "markdown",
   "id": "387ea22b",
   "metadata": {},
   "source": [
    "# Question 3"
   ]
  },
  {
   "cell_type": "code",
   "execution_count": 35,
   "id": "97a12da8",
   "metadata": {},
   "outputs": [],
   "source": [
    "# Import\n",
    "import pandas as pd\n",
    "import numpy as np\n",
    "from sklearn.svm import SVC\n",
    "from sklearn.model_selection import KFold\n",
    "from sklearn.model_selection import GridSearchCV\n",
    "\n",
    "# Import preprocessing\n",
    "from sklearn.preprocessing import MinMaxScaler\n",
    "from sklearn import preprocessing\n",
    "from sklearn import feature_selection\n",
    "from sklearn.utils.fixes import loguniform\n",
    "\n",
    "# Evaluation\n",
    "from sklearn.metrics import mean_squared_error, make_scorer\n",
    "from sklearn.metrics import accuracy_score\n",
    "\n",
    "# Split data\n",
    "from sklearn.model_selection import KFold, train_test_split \n",
    "\n",
    "# Cross_validation\n",
    "accuracy_model = {}\n",
    "cross_validation = KFold(n_splits=10, shuffle=False)\n",
    "\n",
    "# Divide the dataset\n",
    "Ytrain = train_df['labels']\n",
    "Xtrain = train_df.drop(['F_21','F_22','F_31','F_33','labels'], axis = 1)"
   ]
  },
  {
   "cell_type": "code",
   "execution_count": 36,
   "id": "b7845ddb",
   "metadata": {},
   "outputs": [
    {
     "data": {
      "text/plain": [
       "GridSearchCV(cv=KFold(n_splits=10, random_state=None, shuffle=False),\n",
       "             estimator=SVC(),\n",
       "             param_grid={'C': array([1.e+00, 1.e+01, 1.e+02, 1.e+03, 1.e+04]),\n",
       "                         'coef0': [0, 0.1, 0.15],\n",
       "                         'degree': [6, 8, 10, 12, 14, 16, 18, 20],\n",
       "                         'gamma': array([0.0001, 0.001 , 0.01  , 0.1   ]),\n",
       "                         'kernel': ['poly'],\n",
       "                         'tol': array([0.001, 0.01 , 0.1  , 1.   ])})"
      ]
     },
     "execution_count": 36,
     "metadata": {},
     "output_type": "execute_result"
    }
   ],
   "source": [
    "# Param\n",
    "params_grid = {'C': np.logspace(0, 4, num=5),\n",
    " 'gamma': np.logspace(-4, -1, num=4),\n",
    " 'degree': [6,8,10,12,14,16,18,20],\n",
    " 'kernel': ['poly'],\n",
    " 'tol': np.logspace(-3, 0, num=4),\n",
    " 'coef0': [0, 0.1, 0.15]}\n",
    "\n",
    "# Initialization\n",
    "MySVC = SVC()\n",
    "clf = GridSearchCV(MySVC, params_grid, cv=KFold(n_splits=10, shuffle=False))\n",
    "clf.fit(Xtrain, Ytrain)"
   ]
  },
  {
   "cell_type": "code",
   "execution_count": 38,
   "id": "819a1982",
   "metadata": {},
   "outputs": [
    {
     "data": {
      "text/plain": [
       "mean_fit_time                                                 0.009373\n",
       "std_fit_time                                                  0.007653\n",
       "mean_score_time                                               0.001562\n",
       "std_score_time                                                0.004686\n",
       "param_C                                                            1.0\n",
       "param_coef0                                                          0\n",
       "param_degree                                                        14\n",
       "param_gamma                                                     0.0001\n",
       "param_kernel                                                      poly\n",
       "param_tol                                                          0.1\n",
       "params               {'C': 1.0, 'coef0': 0, 'degree': 14, 'gamma': ...\n",
       "split0_test_score                                             0.727273\n",
       "split1_test_score                                             0.863636\n",
       "split2_test_score                                             0.818182\n",
       "split3_test_score                                             0.818182\n",
       "split4_test_score                                             0.818182\n",
       "split5_test_score                                             0.818182\n",
       "split6_test_score                                                  1.0\n",
       "split7_test_score                                             0.954545\n",
       "split8_test_score                                             0.772727\n",
       "split9_test_score                                             0.727273\n",
       "mean_test_score                                               0.831818\n",
       "std_test_score                                                0.083937\n",
       "rank_test_score                                                      1\n",
       "Name: 66, dtype: object"
      ]
     },
     "execution_count": 38,
     "metadata": {},
     "output_type": "execute_result"
    }
   ],
   "source": [
    "results = pd.DataFrame(clf.cv_results_)\n",
    "results.iloc[results['mean_test_score'].argmax()]"
   ]
  },
  {
   "cell_type": "code",
   "execution_count": 40,
   "id": "faa04661",
   "metadata": {},
   "outputs": [
    {
     "data": {
      "text/plain": [
       "0.8318181818181817"
      ]
     },
     "execution_count": 40,
     "metadata": {},
     "output_type": "execute_result"
    }
   ],
   "source": [
    "from sklearn.metrics import accuracy_score\n",
    "from sklearn.model_selection import cross_validate\n",
    "from sklearn.model_selection import KFold\n",
    "from sklearn.svm import SVC\n",
    "\n",
    "y_train = train_df['labels']\n",
    "x_train = train_df.drop(['labels'], axis = 1)\n",
    "\n",
    "clf = SVC(kernel='poly', C=1, degree=16, gamma=0.0001)\n",
    "cv_results = cross_validate(clf, x_train, y_train, cv=KFold(n_splits=10, shuffle=False))\n",
    "\n",
    "cv_acc = cv_results['test_score'].mean()\n",
    "cv_acc"
   ]
  },
  {
   "cell_type": "code",
   "execution_count": 37,
   "id": "4b2d4bcd",
   "metadata": {},
   "outputs": [
    {
     "data": {
      "text/plain": [
       "GridSearchCV(cv=KFold(n_splits=10, random_state=None, shuffle=False),\n",
       "             estimator=SVC(),\n",
       "             param_grid={'C': [1], 'coef0': [0, 0.1, 0.15], 'degree': [16],\n",
       "                         'gamma': [0.0001], 'kernel': ['poly'],\n",
       "                         'tol': array([0.001, 0.01 , 0.1  , 1.   ])})"
      ]
     },
     "execution_count": 37,
     "metadata": {},
     "output_type": "execute_result"
    }
   ],
   "source": [
    "from sklearn.metrics import accuracy_score\n",
    "from sklearn.model_selection import cross_validate\n",
    "from sklearn.model_selection import KFold\n",
    "from sklearn.svm import SVC\n",
    "from sklearn.model_selection import GridSearchCV\n",
    "\n",
    "params_grid = {'C': [1],\n",
    " 'gamma': [0.0001],\n",
    " 'degree': [16],\n",
    " 'kernel': ['poly'],\n",
    " 'tol': np.logspace(-3, 0, num=4),\n",
    " 'coef0': [0, 0.1, 0.15]}\n",
    "\n",
    "MySVC = SVC()\n",
    "\n",
    "clf = GridSearchCV(MySVC, params_grid, cv=KFold(n_splits=10, shuffle=False))\n",
    "\n",
    "clf.fit(Xtrain, Ytrain)"
   ]
  },
  {
   "cell_type": "code",
   "execution_count": 38,
   "id": "528e3281",
   "metadata": {},
   "outputs": [
    {
     "data": {
      "text/plain": [
       "mean_fit_time                                                 0.067648\n",
       "std_fit_time                                                  0.012172\n",
       "mean_score_time                                               0.010197\n",
       "std_score_time                                                0.002894\n",
       "param_C                                                              1\n",
       "param_coef0                                                          0\n",
       "param_degree                                                        16\n",
       "param_gamma                                                     0.0001\n",
       "param_kernel                                                      poly\n",
       "param_tol                                                        0.001\n",
       "params               {'C': 1, 'coef0': 0, 'degree': 16, 'gamma': 0....\n",
       "split0_test_score                                             0.727273\n",
       "split1_test_score                                             0.909091\n",
       "split2_test_score                                             0.818182\n",
       "split3_test_score                                             0.818182\n",
       "split4_test_score                                             0.727273\n",
       "split5_test_score                                             0.863636\n",
       "split6_test_score                                             0.909091\n",
       "split7_test_score                                             0.954545\n",
       "split8_test_score                                             0.863636\n",
       "split9_test_score                                             0.727273\n",
       "mean_test_score                                               0.831818\n",
       "std_test_score                                                0.078861\n",
       "rank_test_score                                                      1\n",
       "Name: 0, dtype: object"
      ]
     },
     "execution_count": 38,
     "metadata": {},
     "output_type": "execute_result"
    }
   ],
   "source": [
    "results = pd.DataFrame(clf.cv_results_)\n",
    "results.iloc[results['mean_test_score'].argmax()]"
   ]
  },
  {
   "cell_type": "code",
   "execution_count": 40,
   "id": "40527814",
   "metadata": {},
   "outputs": [
    {
     "data": {
      "text/plain": [
       "0.8318181818181817"
      ]
     },
     "execution_count": 40,
     "metadata": {},
     "output_type": "execute_result"
    }
   ],
   "source": [
    "from sklearn.metrics import accuracy_score\n",
    "from sklearn.model_selection import cross_validate\n",
    "from sklearn.model_selection import KFold\n",
    "from sklearn.svm import SVC\n",
    "\n",
    "y_train = train_df['labels']\n",
    "x_train = train_df.drop(['labels'], axis = 1)\n",
    "\n",
    "clf = SVC(kernel='poly', C=1, degree=16, gamma=0.0001, tol=0.001, coef0=0)\n",
    "cv_results = cross_validate(clf, x_train, y_train, cv=KFold(n_splits=10, shuffle=False))\n",
    "\n",
    "cv_acc = cv_results['test_score'].mean()\n",
    "cv_acc"
   ]
  },
  {
   "cell_type": "code",
   "execution_count": null,
   "id": "d1b718b2",
   "metadata": {},
   "outputs": [],
   "source": [
    "SVC(kernel='poly', C=1, degree=16, gamma=0.0001, tol=0.001, coef0=0)"
   ]
  },
  {
   "cell_type": "code",
   "execution_count": 42,
   "id": "670d4cd7",
   "metadata": {},
   "outputs": [
    {
     "data": {
      "text/plain": [
       "SVC(C=1, coef0=0, degree=16, gamma=0.0001, kernel='poly')"
      ]
     },
     "execution_count": 42,
     "metadata": {},
     "output_type": "execute_result"
    }
   ],
   "source": [
    "from sklearn.svm import SVC\n",
    "\n",
    "# TODO preprocess train_df (optional)\n",
    "\n",
    "# Divide the dataset\n",
    "Ytrain = train_df['labels']\n",
    "Xtrain = train_df.drop(['labels'], axis = 1)\n",
    "\n",
    "my_poly_svm = SVC(kernel='poly', C=1, degree=16, gamma=0.0001, tol=0.001, coef0=0)\n",
    "my_poly_svm.fit(Xtrain, Ytrain)"
   ]
  },
  {
   "cell_type": "code",
   "execution_count": 43,
   "id": "36abfb30",
   "metadata": {},
   "outputs": [],
   "source": [
    "cv_results = cross_validate(clf, x_train, y_train, cv=KFold(n_splits=10, shuffle=False))"
   ]
  },
  {
   "cell_type": "code",
   "execution_count": 44,
   "id": "f8c66484",
   "metadata": {},
   "outputs": [],
   "source": [
    "cv_acc = cv_results['test_score'].mean()"
   ]
  },
  {
   "cell_type": "code",
   "execution_count": 45,
   "id": "34598ccd",
   "metadata": {},
   "outputs": [
    {
     "data": {
      "text/plain": [
       "0.8318181818181817"
      ]
     },
     "execution_count": 45,
     "metadata": {},
     "output_type": "execute_result"
    }
   ],
   "source": [
    "cv_acc"
   ]
  },
  {
   "cell_type": "markdown",
   "id": "d5013c68",
   "metadata": {},
   "source": [
    "# Q4"
   ]
  },
  {
   "cell_type": "code",
   "execution_count": 50,
   "id": "13b883f5",
   "metadata": {},
   "outputs": [
    {
     "data": {
      "text/plain": [
       "GridSearchCV(cv=KFold(n_splits=10, random_state=None, shuffle=False),\n",
       "             estimator=SVC(),\n",
       "             param_grid={'C': array([   1.,   10.,  100., 1000.]),\n",
       "                         'coef0': [0, 0.1, 0.15, 0.2],\n",
       "                         'gamma': array([0.0001, 0.001 , 0.01  , 0.1   ]),\n",
       "                         'kernel': ['rbf'],\n",
       "                         'tol': array([0.001, 0.01 , 0.1  , 1.   ])})"
      ]
     },
     "execution_count": 50,
     "metadata": {},
     "output_type": "execute_result"
    }
   ],
   "source": [
    "from sklearn.metrics import accuracy_score\n",
    "from sklearn.model_selection import cross_validate\n",
    "from sklearn.model_selection import KFold\n",
    "from sklearn.svm import SVC\n",
    "from sklearn.model_selection import GridSearchCV\n",
    "\n",
    "Ytrain = train_df['labels']\n",
    "Xtrain = train_df.drop(['labels'], axis = 1)\n",
    "\n",
    "params_grid = {'C': np.logspace(0, 3, num=4),\n",
    " 'gamma': np.logspace(-4, -1, num=4),\n",
    " 'kernel': ['rbf'],\n",
    " 'tol': np.logspace(-3, 0, num=4),\n",
    " 'coef0': [0, 0.1, 0.15, 0.2]}\n",
    "\n",
    "MySVC = SVC()\n",
    "\n",
    "clf = GridSearchCV(MySVC, params_grid, cv=KFold(n_splits=10, shuffle=False))\n",
    "\n",
    "clf.fit(Xtrain, Ytrain)"
   ]
  },
  {
   "cell_type": "code",
   "execution_count": 51,
   "id": "80fce87c",
   "metadata": {},
   "outputs": [
    {
     "data": {
      "text/plain": [
       "mean_fit_time                                                 0.007811\n",
       "std_fit_time                                                  0.007811\n",
       "mean_score_time                                                    0.0\n",
       "std_score_time                                                     0.0\n",
       "param_C                                                           10.0\n",
       "param_coef0                                                          0\n",
       "param_gamma                                                     0.0001\n",
       "param_kernel                                                       rbf\n",
       "param_tol                                                          1.0\n",
       "params               {'C': 10.0, 'coef0': 0, 'gamma': 0.0001, 'kern...\n",
       "split0_test_score                                             0.818182\n",
       "split1_test_score                                             0.863636\n",
       "split2_test_score                                             0.863636\n",
       "split3_test_score                                             0.727273\n",
       "split4_test_score                                             0.863636\n",
       "split5_test_score                                             0.909091\n",
       "split6_test_score                                             0.954545\n",
       "split7_test_score                                             0.909091\n",
       "split8_test_score                                             0.818182\n",
       "split9_test_score                                             0.818182\n",
       "mean_test_score                                               0.854545\n",
       "std_test_score                                                0.060302\n",
       "rank_test_score                                                      1\n",
       "Name: 67, dtype: object"
      ]
     },
     "execution_count": 51,
     "metadata": {},
     "output_type": "execute_result"
    }
   ],
   "source": [
    "results = pd.DataFrame(clf.cv_results_)\n",
    "results.iloc[results['mean_test_score'].argmax()]"
   ]
  },
  {
   "cell_type": "code",
   "execution_count": 52,
   "id": "43c8c3c7",
   "metadata": {},
   "outputs": [
    {
     "data": {
      "text/plain": [
       "0.8545454545454545"
      ]
     },
     "execution_count": 52,
     "metadata": {},
     "output_type": "execute_result"
    }
   ],
   "source": [
    "from sklearn.metrics import accuracy_score\n",
    "from sklearn.model_selection import cross_validate\n",
    "from sklearn.model_selection import KFold\n",
    "from sklearn.svm import SVC\n",
    "\n",
    "y_train = train_df['labels']\n",
    "x_train = train_df.drop(['labels'], axis = 1)\n",
    "\n",
    "clf = SVC(kernel='rbf', C=10, gamma=0.0001, tol=1.0, coef0=0)\n",
    "cv_results = cross_validate(clf, Xtrain, Ytrain, cv=KFold(n_splits=10, shuffle=False))\n",
    "\n",
    "cv_acc = cv_results['test_score'].mean()\n",
    "cv_acc"
   ]
  },
  {
   "cell_type": "markdown",
   "id": "90eb61b1",
   "metadata": {},
   "source": [
    "# Question 5"
   ]
  },
  {
   "cell_type": "code",
   "execution_count": 54,
   "id": "241f189f",
   "metadata": {},
   "outputs": [],
   "source": [
    "# Divide the dataset\n",
    "Ytrain = train_df['labels']\n",
    "Xtrain = train_df.drop(['labels'], axis = 1)\n",
    "\n",
    "Ytest = test_df['labels']\n",
    "Xtest = test_df.drop(['labels'], axis = 1)"
   ]
  },
  {
   "cell_type": "code",
   "execution_count": 55,
   "id": "69ae8b14",
   "metadata": {
    "scrolled": true
   },
   "outputs": [
    {
     "data": {
      "text/plain": [
       "0.8375634517766497"
      ]
     },
     "execution_count": 55,
     "metadata": {},
     "output_type": "execute_result"
    }
   ],
   "source": [
    "# Model\n",
    "model = SVC(kernel='poly', C=1, degree=16, gamma=0.0001, tol=0.001, coef0=0)\n",
    "model.fit(Xtrain, Ytrain)\n",
    "Ypred = model.predict(Xtest)\n",
    "accuracy_score(Ytest, Ypred)"
   ]
  },
  {
   "cell_type": "code",
   "execution_count": 56,
   "id": "08b03f8f",
   "metadata": {},
   "outputs": [
    {
     "data": {
      "text/plain": [
       "0.48223350253807107"
      ]
     },
     "execution_count": 56,
     "metadata": {},
     "output_type": "execute_result"
    }
   ],
   "source": [
    "# Model\n",
    "model = SVC(kernel='sigmoid', C=1, gamma=0.0001, tol=0.001, coef0=0)\n",
    "model.fit(Xtrain, Ytrain)\n",
    "Ypred = model.predict(Xtest)\n",
    "accuracy_score(Ytest, Ypred)"
   ]
  },
  {
   "cell_type": "code",
   "execution_count": 57,
   "id": "ba36e92e",
   "metadata": {},
   "outputs": [
    {
     "data": {
      "text/plain": [
       "0.883248730964467"
      ]
     },
     "execution_count": 57,
     "metadata": {},
     "output_type": "execute_result"
    }
   ],
   "source": [
    "# Model\n",
    "model = SVC(kernel='rbf', C=10, gamma=0.0001, tol=1.0, coef0=0)\n",
    "model.fit(Xtrain, Ytrain)\n",
    "Ypred = model.predict(Xtest)\n",
    "accuracy_score(Ytest, Ypred)"
   ]
  },
  {
   "cell_type": "markdown",
   "id": "54e6d2e0",
   "metadata": {},
   "source": [
    "# A3"
   ]
  },
  {
   "cell_type": "markdown",
   "id": "4767185c",
   "metadata": {},
   "source": [
    "# Q1"
   ]
  },
  {
   "cell_type": "code",
   "execution_count": 391,
   "id": "0afd3d30",
   "metadata": {},
   "outputs": [],
   "source": [
    "def perceptron(x, y, b, w_init, eta, epoch):\n",
    "    y = np.asarray(y)\n",
    "    y = np.where(y==0,-1,1)\n",
    "    x = x.to_numpy()\n",
    "    x = np.insert(x, 0, 1, axis=1)   # Add column 1, values = 1\n",
    "    w = np.reshape(np.asarray(w_init), (-1, 1)) # Reshape to column\n",
    "                               # The results\n",
    "    transform_matrix = x.copy()                 # Matrix to multiply\n",
    "    \n",
    "    for i in range(x.shape[0]):\n",
    "        transform_matrix[i] = y[i] * x[i]       # Multiplication Y and X\n",
    "    \n",
    "    for k in range(epoch):\n",
    "        index = (k % x.shape[0])                # Index of training\n",
    "        product = np.dot(transform_matrix[index], w) # Product from matrix\n",
    "        \n",
    "        if product <= b:                        # Adjusting W\n",
    "            w += eta*(np.reshape(transform_matrix[index], (-1,1)))\n",
    "        \n",
    "        if (np.dot(transform_matrix, w)>b).all():# Convergence\n",
    "            return (np.reshape(w, (1, -1))[0])  \n",
    "    return (np.reshape(w, (1, -1))[0])          # No converge"
   ]
  },
  {
   "cell_type": "code",
   "execution_count": 415,
   "id": "7ce803c5",
   "metadata": {},
   "outputs": [],
   "source": [
    "ww=perceptron(Xtrain, Ytrain, 0.001,np.zeros(Xtrain.shape[1]+1), 0.01, 1000)"
   ]
  },
  {
   "cell_type": "code",
   "execution_count": 416,
   "id": "5341b386",
   "metadata": {},
   "outputs": [],
   "source": [
    "def predict(w, x):\n",
    "    Y_Prediction = []\n",
    "    \n",
    "    x = np.insert(x.to_numpy(), 0, 1, axis=1)\n",
    "    w = np.reshape(w, (-1, 1))\n",
    "    y = np.dot(x, w)\n",
    "    \n",
    "    for i in y:\n",
    "        if i<0:\n",
    "            Y_Prediction.append(0)\n",
    "        else:\n",
    "            Y_Prediction.append(1)\n",
    "    \n",
    "    return Y_Prediction"
   ]
  },
  {
   "cell_type": "code",
   "execution_count": 417,
   "id": "2931fdca",
   "metadata": {},
   "outputs": [
    {
     "data": {
      "text/plain": [
       "0.7318181818181818"
      ]
     },
     "execution_count": 417,
     "metadata": {},
     "output_type": "execute_result"
    }
   ],
   "source": [
    "accuracy_score(Ytrain, predict(ww, Xtrain))"
   ]
  },
  {
   "cell_type": "code",
   "execution_count": null,
   "id": "3d6222a6",
   "metadata": {},
   "outputs": [],
   "source": []
  }
 ],
 "metadata": {
  "kernelspec": {
   "display_name": "Python 3",
   "language": "python",
   "name": "python3"
  },
  "language_info": {
   "codemirror_mode": {
    "name": "ipython",
    "version": 3
   },
   "file_extension": ".py",
   "mimetype": "text/x-python",
   "name": "python",
   "nbconvert_exporter": "python",
   "pygments_lexer": "ipython3",
   "version": "3.8.8"
  }
 },
 "nbformat": 4,
 "nbformat_minor": 5
}
