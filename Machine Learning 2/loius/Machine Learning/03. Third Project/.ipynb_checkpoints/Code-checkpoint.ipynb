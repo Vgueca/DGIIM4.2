{
 "cells": [
  {
   "cell_type": "code",
   "execution_count": 6,
   "id": "340b9479",
   "metadata": {},
   "outputs": [
    {
     "name": "stdout",
     "output_type": "stream",
     "text": [
      "           S_1    S_2\n",
      "Error     80.0  112.0\n",
      "Correct  720.0  688.0\n",
      "p-value =  0.016908\n"
     ]
    }
   ],
   "source": [
    "from scipy import stats\n",
    "from pandas import *\n",
    "# Store sample sizes and number of errors\n",
    "n1 = 800\n",
    "m1 = n1*0.1\n",
    "n2 = n1\n",
    "m2 = n2*0.14\n",
    "# Store errors and correct classifications in a 2x2 table\n",
    "perf = DataFrame([[m1, m2], [n1-m1, n2-m2]], index=[\"Error\", \"Correct\"])\n",
    "perf.columns = [\"S_1\", \"S_2\"]\n",
    "print(perf)\n",
    "pvalue = stats.fisher_exact(perf)[1]\n",
    "print(\"p-value = \", '{0:.6f}'.format(pvalue))"
   ]
  },
  {
   "cell_type": "code",
   "execution_count": 4,
   "id": "c3668c48",
   "metadata": {},
   "outputs": [
    {
     "data": {
      "text/plain": [
       "0.513891"
      ]
     },
     "execution_count": 4,
     "metadata": {},
     "output_type": "execute_result"
    }
   ],
   "source": [
    "0.513891"
   ]
  },
  {
   "cell_type": "code",
   "execution_count": null,
   "id": "8e63369f",
   "metadata": {},
   "outputs": [],
   "source": [
    "from scipy import stats\n",
    "from pandas import *\n",
    "# Store sample sizes and number of errors\n",
    "n1 = 50\n",
    "m1 = 15\n",
    "n2 = 50\n",
    "m2 = 18\n",
    "# Store errors and correct classifications in a 2x2 table\n",
    "perf = DataFrame([[m1, m2], [n1-m1, n2-m2]], index=[\"Error\", \"Correct\"])\n",
    "perf.columns = [\"S_1\", \"S_2\"]\n",
    "print(perf)\n",
    "pvalue = stats.fisher_exact(perf)[1]\n",
    "print(\"p-value = \", ’{0:.6f}’.format(pvalue))\n",
    "\"\"\"\n",
    "S_1 S_2\n",
    "Error 15 18\n",
    "Correct 35 32\n",
    "p-value = 0.670942"
   ]
  }
 ],
 "metadata": {
  "kernelspec": {
   "display_name": "Python 3",
   "language": "python",
   "name": "python3"
  },
  "language_info": {
   "codemirror_mode": {
    "name": "ipython",
    "version": 3
   },
   "file_extension": ".py",
   "mimetype": "text/x-python",
   "name": "python",
   "nbconvert_exporter": "python",
   "pygments_lexer": "ipython3",
   "version": "3.8.8"
  }
 },
 "nbformat": 4,
 "nbformat_minor": 5
}
