{
 "cells": [
  {
   "cell_type": "code",
   "execution_count": 2,
   "id": "initial-choice",
   "metadata": {},
   "outputs": [
    {
     "data": {
      "text/html": [
       "<div>\n",
       "<style scoped>\n",
       "    .dataframe tbody tr th:only-of-type {\n",
       "        vertical-align: middle;\n",
       "    }\n",
       "\n",
       "    .dataframe tbody tr th {\n",
       "        vertical-align: top;\n",
       "    }\n",
       "\n",
       "    .dataframe thead th {\n",
       "        text-align: right;\n",
       "    }\n",
       "</style>\n",
       "<table border=\"1\" class=\"dataframe\">\n",
       "  <thead>\n",
       "    <tr style=\"text-align: right;\">\n",
       "      <th></th>\n",
       "      <th>crim</th>\n",
       "      <th>zn</th>\n",
       "      <th>indus</th>\n",
       "      <th>chas</th>\n",
       "      <th>nox</th>\n",
       "      <th>rm</th>\n",
       "      <th>age</th>\n",
       "      <th>dis</th>\n",
       "      <th>rad</th>\n",
       "      <th>tax</th>\n",
       "      <th>ptratio</th>\n",
       "      <th>black</th>\n",
       "      <th>lstat</th>\n",
       "      <th>class</th>\n",
       "    </tr>\n",
       "  </thead>\n",
       "  <tbody>\n",
       "    <tr>\n",
       "      <th>352</th>\n",
       "      <td>0.07950</td>\n",
       "      <td>60.0</td>\n",
       "      <td>1.69</td>\n",
       "      <td>0</td>\n",
       "      <td>0.411</td>\n",
       "      <td>6.579</td>\n",
       "      <td>35.9</td>\n",
       "      <td>10.7103</td>\n",
       "      <td>4</td>\n",
       "      <td>411</td>\n",
       "      <td>18.3</td>\n",
       "      <td>370.78</td>\n",
       "      <td>5.49</td>\n",
       "      <td>high</td>\n",
       "    </tr>\n",
       "    <tr>\n",
       "      <th>351</th>\n",
       "      <td>0.06211</td>\n",
       "      <td>40.0</td>\n",
       "      <td>1.25</td>\n",
       "      <td>0</td>\n",
       "      <td>0.429</td>\n",
       "      <td>6.490</td>\n",
       "      <td>44.4</td>\n",
       "      <td>8.7921</td>\n",
       "      <td>1</td>\n",
       "      <td>335</td>\n",
       "      <td>19.7</td>\n",
       "      <td>396.90</td>\n",
       "      <td>5.98</td>\n",
       "      <td>high</td>\n",
       "    </tr>\n",
       "    <tr>\n",
       "      <th>316</th>\n",
       "      <td>0.25356</td>\n",
       "      <td>0.0</td>\n",
       "      <td>9.90</td>\n",
       "      <td>0</td>\n",
       "      <td>0.544</td>\n",
       "      <td>5.705</td>\n",
       "      <td>77.7</td>\n",
       "      <td>3.9450</td>\n",
       "      <td>4</td>\n",
       "      <td>304</td>\n",
       "      <td>18.4</td>\n",
       "      <td>396.42</td>\n",
       "      <td>11.50</td>\n",
       "      <td>low</td>\n",
       "    </tr>\n",
       "    <tr>\n",
       "      <th>285</th>\n",
       "      <td>0.00906</td>\n",
       "      <td>90.0</td>\n",
       "      <td>2.97</td>\n",
       "      <td>0</td>\n",
       "      <td>0.400</td>\n",
       "      <td>7.088</td>\n",
       "      <td>20.8</td>\n",
       "      <td>7.3073</td>\n",
       "      <td>1</td>\n",
       "      <td>285</td>\n",
       "      <td>15.3</td>\n",
       "      <td>394.72</td>\n",
       "      <td>7.85</td>\n",
       "      <td>high</td>\n",
       "    </tr>\n",
       "    <tr>\n",
       "      <th>393</th>\n",
       "      <td>11.57790</td>\n",
       "      <td>0.0</td>\n",
       "      <td>18.10</td>\n",
       "      <td>0</td>\n",
       "      <td>0.700</td>\n",
       "      <td>5.036</td>\n",
       "      <td>97.0</td>\n",
       "      <td>1.7700</td>\n",
       "      <td>24</td>\n",
       "      <td>666</td>\n",
       "      <td>20.2</td>\n",
       "      <td>396.90</td>\n",
       "      <td>25.68</td>\n",
       "      <td>low</td>\n",
       "    </tr>\n",
       "  </tbody>\n",
       "</table>\n",
       "</div>"
      ],
      "text/plain": [
       "         crim    zn  indus  chas    nox     rm   age      dis  rad  tax  \\\n",
       "352   0.07950  60.0   1.69     0  0.411  6.579  35.9  10.7103    4  411   \n",
       "351   0.06211  40.0   1.25     0  0.429  6.490  44.4   8.7921    1  335   \n",
       "316   0.25356   0.0   9.90     0  0.544  5.705  77.7   3.9450    4  304   \n",
       "285   0.00906  90.0   2.97     0  0.400  7.088  20.8   7.3073    1  285   \n",
       "393  11.57790   0.0  18.10     0  0.700  5.036  97.0   1.7700   24  666   \n",
       "\n",
       "     ptratio   black  lstat class  \n",
       "352     18.3  370.78   5.49  high  \n",
       "351     19.7  396.90   5.98  high  \n",
       "316     18.4  396.42  11.50   low  \n",
       "285     15.3  394.72   7.85  high  \n",
       "393     20.2  396.90  25.68   low  "
      ]
     },
     "execution_count": 2,
     "metadata": {},
     "output_type": "execute_result"
    }
   ],
   "source": [
    "import os\n",
    "import pandas as pd\n",
    "from sklearn.tree import DecisionTreeClassifier, export_graphviz\n",
    "\n",
    "dataset_path = os.path.join(os.curdir, \"datasets\")\n",
    "train_df = pd.read_csv(os.path.join(dataset_path, \"BostonHouseTrain.csv\"), index_col=0)\n",
    "test_df = pd.read_csv(os.path.join(dataset_path, \"BostonHouseTest.csv\"), index_col=0)\n",
    "\n",
    "train_df.head(5)"
   ]
  },
  {
   "cell_type": "code",
   "execution_count": 3,
   "id": "proper-citizen",
   "metadata": {},
   "outputs": [
    {
     "name": "stdout",
     "output_type": "stream",
     "text": [
      "Number of nodes in the final decision tree :: 145\n",
      "Accuracy score on the train data :: 1.000\n",
      "Accuracy score on the test data :: 0.764\n"
     ]
    }
   ],
   "source": [
    "clf = DecisionTreeClassifier(random_state=0)\n",
    "\n",
    "X_train = train_df.values[:,:-1]\n",
    "y_train = train_df.values[:,-1]\n",
    "X_test = test_df.values[:,:-1]\n",
    "y_test = test_df.values[:,-1]\n",
    "\n",
    "clf.fit(X_train, y_train)\n",
    "y_train_pred = clf.predict(X_train)\n",
    "y_test_pred = clf.predict(X_test)\n",
    "\n",
    "from sklearn.metrics import accuracy_score\n",
    "print(f\"Number of nodes in the final decision tree :: {clf.tree_.node_count}\")\n",
    "print(f\"Accuracy score on the train data :: {accuracy_score(y_train, y_train_pred):.3f}\")\n",
    "print(f\"Accuracy score on the test data :: {accuracy_score(y_test, y_test_pred):.3f}\")"
   ]
  },
  {
   "cell_type": "code",
   "execution_count": 4,
   "id": "offshore-presentation",
   "metadata": {},
   "outputs": [
    {
     "data": {
      "text/plain": [
       "array(['high', 'high', 'average', 'average', 'low'], dtype=object)"
      ]
     },
     "execution_count": 4,
     "metadata": {},
     "output_type": "execute_result"
    }
   ],
   "source": [
    "y_test_pred[:5]"
   ]
  },
  {
   "cell_type": "code",
   "execution_count": 7,
   "id": "impaired-default",
   "metadata": {},
   "outputs": [],
   "source": [
    "def get_data_as_ndarray(df):\n",
    "    X = df.values[:,:-1] \n",
    "    y = df.values[:,-1] \n",
    "    return X, y\n",
    "\n",
    "NB_EXP = 100\n",
    "FRAC = .25\n",
    "\n",
    "cols = [\"Run\", \"NodeCount\", \"TrainAcc\", \"TestAcc\"]\n",
    "frame = pd.DataFrame(columns = cols)\n",
    "\n",
    "X_test, y_test = get_data_as_ndarray(test_df)\n",
    "for exp in range(NB_EXP):\n",
    "    sample_train = train_df.sample(frac=FRAC, random_state=exp)\n",
    "    X_train, y_train = get_data_as_ndarray(sample_train)\n",
    "    \n",
    "    clf = DecisionTreeClassifier(random_state=exp).fit(X_train, y_train)\n",
    "    \n",
    "    y_train_pred = clf.predict(X_train)\n",
    "    y_test_pred = clf.predict(X_test)\n",
    "    \n",
    "    train_acc = accuracy_score(y_train, y_train_pred) \n",
    "    test_acc = accuracy_score(y_test, y_test_pred) \n",
    "    node_count = clf.tree_.node_count\n",
    "    \n",
    "    frame = frame.append(dict(zip(cols, [exp, node_count, train_acc, test_acc])), ignore_index=True)\n",
    "\n",
    "mean_nb_nodes = int(frame[\"NodeCount\"].mean())\n",
    "mean_train_accur = frame[\"TrainAcc\"].mean()\n",
    "mean_test_accur = frame[\"TestAcc\"].mean()"
   ]
  },
  {
   "cell_type": "code",
   "execution_count": 8,
   "id": "synthetic-burlington",
   "metadata": {},
   "outputs": [
    {
     "data": {
      "text/plain": [
       "38"
      ]
     },
     "execution_count": 8,
     "metadata": {},
     "output_type": "execute_result"
    }
   ],
   "source": [
    "mean_nb_nodes"
   ]
  },
  {
   "cell_type": "code",
   "execution_count": 24,
   "id": "eight-ecuador",
   "metadata": {},
   "outputs": [],
   "source": [
    "def get_data_as_ndarray(df):\n",
    "    X = df.values[:,:-1] \n",
    "    y = df.values[:,-1] \n",
    "    return X, y\n",
    "\n",
    "NB_EXP = 100\n",
    "\n",
    "cols = [\"Frac\", \"Run\", \"NodeCount\", \"TrainAcc\", \"TestAcc\"]\n",
    "frame = pd.DataFrame(columns = cols)\n",
    "\n",
    "X_test, y_test = get_data_as_ndarray(test_df)\n",
    "for frac in [.05, .1, .2, .5, .99]:\n",
    "    for exp in range(NB_EXP):\n",
    "        sample_train = train_df.sample(frac=frac, random_state=exp)\n",
    "        X_train, y_train = get_data_as_ndarray(sample_train)\n",
    "        \n",
    "        clf = DecisionTreeClassifier(random_state=exp).fit(X_train, y_train)\n",
    "        \n",
    "        y_train_pred = clf.predict(X_train)\n",
    "        y_test_pred = clf.predict(X_test)\n",
    "        \n",
    "        train_acc = accuracy_score(y_train, y_train_pred) \n",
    "        test_acc = accuracy_score(y_test, y_test_pred) \n",
    "        node_count = clf.tree_.node_count\n",
    "        \n",
    "        frame = frame.append(dict(zip(cols, [frac, exp, node_count, train_acc, test_acc])), ignore_index=True)\n",
    "    "
   ]
  },
  {
   "cell_type": "code",
   "execution_count": 32,
   "id": "assigned-priority",
   "metadata": {},
   "outputs": [
    {
     "data": {
      "text/plain": [
       "Frac\n",
       "0.05    2.298440\n",
       "0.10    2.924228\n",
       "0.20    4.692181\n",
       "0.50    6.320561\n",
       "0.99    4.831881\n",
       "Name: NodeCount, dtype: float64"
      ]
     },
     "execution_count": 32,
     "metadata": {},
     "output_type": "execute_result"
    }
   ],
   "source": [
    "frame.groupby(\"Frac\")[\"NodeCount\"].std()"
   ]
  },
  {
   "cell_type": "code",
   "execution_count": 33,
   "id": "finished-ottawa",
   "metadata": {},
   "outputs": [
    {
     "data": {
      "text/plain": [
       "Frac\n",
       "0.05    AxesSubplot(0.125,0.125;0.775x0.755)\n",
       "0.10    AxesSubplot(0.125,0.125;0.775x0.755)\n",
       "0.20    AxesSubplot(0.125,0.125;0.775x0.755)\n",
       "0.50    AxesSubplot(0.125,0.125;0.775x0.755)\n",
       "0.99    AxesSubplot(0.125,0.125;0.775x0.755)\n",
       "Name: TestAcc, dtype: object"
      ]
     },
     "execution_count": 33,
     "metadata": {},
     "output_type": "execute_result"
    },
    {
     "data": {
      "image/png": "[encoded data removed]",
      "text/plain": [
       "<Figure size 432x288 with 1 Axes>"
      ]
     },
     "metadata": {
      "needs_background": "light"
     },
     "output_type": "display_data"
    }
   ],
   "source": [
    "frame.groupby(\"Frac\")[\"TestAcc\"].plot()"
   ]
  },
  {
   "cell_type": "code",
   "execution_count": 35,
   "id": "excited-olive",
   "metadata": {},
   "outputs": [
    {
     "data": {
      "text/plain": [
       "<AxesSubplot:xlabel='Frac'>"
      ]
     },
     "execution_count": 35,
     "metadata": {},
     "output_type": "execute_result"
    },
    {
     "data": {
      "image/png": "[encoded data removed]",
      "text/plain": [
       "<Figure size 432x288 with 1 Axes>"
      ]
     },
     "metadata": {
      "needs_background": "light"
     },
     "output_type": "display_data"
    }
   ],
   "source": [
    "frame.groupby(\"Frac\")[\"TestAcc\"].std().plot(kind=\"bar\")"
   ]
  },
  {
   "cell_type": "code",
   "execution_count": 41,
   "id": "dramatic-bride",
   "metadata": {},
   "outputs": [
    {
     "data": {
      "text/plain": [
       "<AxesSubplot:xlabel='TestAcc', ylabel='NodeCount'>"
      ]
     },
     "execution_count": 41,
     "metadata": {},
     "output_type": "execute_result"
    },
    {
     "data": {
      "image/png": "[encoded data removed]",
      "text/plain": [
       "<Figure size 432x288 with 1 Axes>"
      ]
     },
     "metadata": {
      "needs_background": "light"
     },
     "output_type": "display_data"
    }
   ],
   "source": [
    "frame[[\"TestAcc\", \"NodeCount\"]].plot(x=\"TestAcc\", y=\"NodeCount\", kind=\"scatter\")\n",
    "(frame[\"TestAcc\"]/frame[\"NodeCount\"]).plot()"
   ]
  }
 ],
 "metadata": {
  "kernelspec": {
   "display_name": "lingi2262",
   "language": "python",
   "name": "lingi2262"
  },
  "language_info": {
   "codemirror_mode": {
    "name": "ipython",
    "version": 3
   },
   "file_extension": ".py",
   "mimetype": "text/x-python",
   "name": "python",
   "nbconvert_exporter": "python",
   "pygments_lexer": "ipython3",
   "version": "3.7.6"
  }
 },
 "nbformat": 4,
 "nbformat_minor": 5
}
