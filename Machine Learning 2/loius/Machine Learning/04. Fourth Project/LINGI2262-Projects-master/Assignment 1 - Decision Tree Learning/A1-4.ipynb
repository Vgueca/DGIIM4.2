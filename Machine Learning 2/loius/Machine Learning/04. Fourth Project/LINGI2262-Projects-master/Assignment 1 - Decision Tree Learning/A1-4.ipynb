{
 "cells": [
  {
   "cell_type": "code",
   "execution_count": 2,
   "id": "pacific-grounds",
   "metadata": {},
   "outputs": [
    {
     "data": {
      "text/html": [
       "<div>\n",
       "<style scoped>\n",
       "    .dataframe tbody tr th:only-of-type {\n",
       "        vertical-align: middle;\n",
       "    }\n",
       "\n",
       "    .dataframe tbody tr th {\n",
       "        vertical-align: top;\n",
       "    }\n",
       "\n",
       "    .dataframe thead th {\n",
       "        text-align: right;\n",
       "    }\n",
       "</style>\n",
       "<table border=\"1\" class=\"dataframe\">\n",
       "  <thead>\n",
       "    <tr style=\"text-align: right;\">\n",
       "      <th></th>\n",
       "      <th>crim</th>\n",
       "      <th>zn</th>\n",
       "      <th>indus</th>\n",
       "      <th>chas</th>\n",
       "      <th>nox</th>\n",
       "      <th>rm</th>\n",
       "      <th>age</th>\n",
       "      <th>dis</th>\n",
       "      <th>rad</th>\n",
       "      <th>tax</th>\n",
       "      <th>ptratio</th>\n",
       "      <th>black</th>\n",
       "      <th>lstat</th>\n",
       "      <th>class</th>\n",
       "    </tr>\n",
       "  </thead>\n",
       "  <tbody>\n",
       "    <tr>\n",
       "      <th>352</th>\n",
       "      <td>0.07950</td>\n",
       "      <td>60.0</td>\n",
       "      <td>1.69</td>\n",
       "      <td>0</td>\n",
       "      <td>0.411</td>\n",
       "      <td>6.579</td>\n",
       "      <td>35.9</td>\n",
       "      <td>10.7103</td>\n",
       "      <td>4</td>\n",
       "      <td>411</td>\n",
       "      <td>18.3</td>\n",
       "      <td>370.78</td>\n",
       "      <td>5.49</td>\n",
       "      <td>high</td>\n",
       "    </tr>\n",
       "    <tr>\n",
       "      <th>351</th>\n",
       "      <td>0.06211</td>\n",
       "      <td>40.0</td>\n",
       "      <td>1.25</td>\n",
       "      <td>0</td>\n",
       "      <td>0.429</td>\n",
       "      <td>6.490</td>\n",
       "      <td>44.4</td>\n",
       "      <td>8.7921</td>\n",
       "      <td>1</td>\n",
       "      <td>335</td>\n",
       "      <td>19.7</td>\n",
       "      <td>396.90</td>\n",
       "      <td>5.98</td>\n",
       "      <td>high</td>\n",
       "    </tr>\n",
       "    <tr>\n",
       "      <th>316</th>\n",
       "      <td>0.25356</td>\n",
       "      <td>0.0</td>\n",
       "      <td>9.90</td>\n",
       "      <td>0</td>\n",
       "      <td>0.544</td>\n",
       "      <td>5.705</td>\n",
       "      <td>77.7</td>\n",
       "      <td>3.9450</td>\n",
       "      <td>4</td>\n",
       "      <td>304</td>\n",
       "      <td>18.4</td>\n",
       "      <td>396.42</td>\n",
       "      <td>11.50</td>\n",
       "      <td>low</td>\n",
       "    </tr>\n",
       "    <tr>\n",
       "      <th>285</th>\n",
       "      <td>0.00906</td>\n",
       "      <td>90.0</td>\n",
       "      <td>2.97</td>\n",
       "      <td>0</td>\n",
       "      <td>0.400</td>\n",
       "      <td>7.088</td>\n",
       "      <td>20.8</td>\n",
       "      <td>7.3073</td>\n",
       "      <td>1</td>\n",
       "      <td>285</td>\n",
       "      <td>15.3</td>\n",
       "      <td>394.72</td>\n",
       "      <td>7.85</td>\n",
       "      <td>high</td>\n",
       "    </tr>\n",
       "    <tr>\n",
       "      <th>393</th>\n",
       "      <td>11.57790</td>\n",
       "      <td>0.0</td>\n",
       "      <td>18.10</td>\n",
       "      <td>0</td>\n",
       "      <td>0.700</td>\n",
       "      <td>5.036</td>\n",
       "      <td>97.0</td>\n",
       "      <td>1.7700</td>\n",
       "      <td>24</td>\n",
       "      <td>666</td>\n",
       "      <td>20.2</td>\n",
       "      <td>396.90</td>\n",
       "      <td>25.68</td>\n",
       "      <td>low</td>\n",
       "    </tr>\n",
       "  </tbody>\n",
       "</table>\n",
       "</div>"
      ],
      "text/plain": [
       "         crim    zn  indus  chas    nox     rm   age      dis  rad  tax  \\\n",
       "352   0.07950  60.0   1.69     0  0.411  6.579  35.9  10.7103    4  411   \n",
       "351   0.06211  40.0   1.25     0  0.429  6.490  44.4   8.7921    1  335   \n",
       "316   0.25356   0.0   9.90     0  0.544  5.705  77.7   3.9450    4  304   \n",
       "285   0.00906  90.0   2.97     0  0.400  7.088  20.8   7.3073    1  285   \n",
       "393  11.57790   0.0  18.10     0  0.700  5.036  97.0   1.7700   24  666   \n",
       "\n",
       "     ptratio   black  lstat class  \n",
       "352     18.3  370.78   5.49  high  \n",
       "351     19.7  396.90   5.98  high  \n",
       "316     18.4  396.42  11.50   low  \n",
       "285     15.3  394.72   7.85  high  \n",
       "393     20.2  396.90  25.68   low  "
      ]
     },
     "execution_count": 2,
     "metadata": {},
     "output_type": "execute_result"
    }
   ],
   "source": [
    "import os\n",
    "import pandas as pd\n",
    "\n",
    "dataset_path = os.path.join(os.curdir, \"datasets\")\n",
    "train_df = pd.read_csv(os.path.join(dataset_path, \"BostonHouseTrain.csv\"), index_col=0)\n",
    "test_df = pd.read_csv(os.path.join(dataset_path, \"BostonHouseTest.csv\"), index_col=0)\n",
    "\n",
    "X_train = train_df.values[:,:-1]\n",
    "y_train = train_df.values[:,-1]\n",
    "X_test = test_df.values[:,:-1]\n",
    "y_test = test_df.values[:,-1]\n",
    "\n",
    "train_df.head(5)"
   ]
  },
  {
   "cell_type": "markdown",
   "id": "alike-orchestra",
   "metadata": {},
   "source": [
    "A simple weak learner (DecisionTreeClassifier)\n",
    "---"
   ]
  },
  {
   "cell_type": "code",
   "execution_count": 32,
   "id": "center-mortality",
   "metadata": {},
   "outputs": [
    {
     "name": "stdout",
     "output_type": "stream",
     "text": [
      "The accuracy of the weak learner on the training set is 0.7830\n"
     ]
    }
   ],
   "source": [
    "from sklearn.tree import DecisionTreeClassifier\n",
    "from sklearn.metrics import accuracy_score\n",
    "\n",
    "wl = DecisionTreeClassifier(random_state=0, max_depth=2)\n",
    "wl.fit(X_train, y_train)\n",
    "\n",
    "y_train_pred = wl.predict(X_train)\n",
    "acc_train = accuracy_score(y_train, y_train_pred)\n",
    "\n",
    "y_test_pred = wl.predict(X_test)\n",
    "acc_test = accuracy_score(y_test, y_test_pred)\n",
    "\n",
    "print(f\"The accuracy of the weak learner on the training set is {acc_test:.4f}\")"
   ]
  },
  {
   "cell_type": "markdown",
   "id": "electoral-taylor",
   "metadata": {},
   "source": [
    "Bootstrap Aggregating Ensemble learner\n",
    "---"
   ]
  },
  {
   "cell_type": "code",
   "execution_count": 34,
   "id": "unavailable-potato",
   "metadata": {},
   "outputs": [],
   "source": [
    "import numpy as np\n",
    "from sklearn.base import clone\n",
    "from sklearn.metrics import accuracy_score\n",
    "from sklearn.tree import DecisionTreeClassifier\n",
    "\n",
    "class BootstrapAggLearner:\n",
    "    def __init__(self, learner, n_bootstrap):\n",
    "        self.learner = learner\n",
    "        self.n_bootstrap = n_bootstrap \n",
    "        self.learners = [clone(self.learner) for _ in range(self.n_bootstrap)]\n",
    "    \n",
    "    def fit(self, X, y):\n",
    "        assert len(X) == len(y), f\"Not same size for X :: {X.shape} and y :: {y.shape}\"\n",
    "        indices = np.arange(len(X))\n",
    "        for idx in range(self.n_bootstrap):\n",
    "            bootstrap_indices = np.random.choice(indices, replace=True, size=len(X))\n",
    "            Xt, yt = X[bootstrap_indices], y[bootstrap_indices] \n",
    "            self.learners[idx].fit(Xt, yt)\n",
    "        return self\n",
    "    \n",
    "    def predict(self, X):\n",
    "        y_hat_ensemble = list(zip(*[learner.predict(X) for learner in self.learners]))\n",
    "        y_hat = np.array([max(set(y_ensemble), key=lambda x: y_ensemble.count(x)) for y_ensemble in y_hat_ensemble])\n",
    "        return y_hat\n",
    "    \n",
    "wl = DecisionTreeClassifier(random_state=0, max_depth=2)\n",
    "N_BOOTSTRAP = 100\n",
    "N_RUNS = 10\n",
    "\n",
    "test_accur = [.0]*N_RUNS\n",
    "for test_id in range(len(test_accur)):\n",
    "    clf = BootstrapAggLearner(wl, N_BOOTSTRAP)\n",
    "    clf.fit(X_train, y_train)\n",
    "    \n",
    "    y_test_pred = clf.predict(X_test)\n",
    "    test_accur[test_id] = accuracy_score(y_test, y_test_pred)\n",
    "mean_test_accur = np.mean(test_accur)"
   ]
  },
  {
   "cell_type": "markdown",
   "id": "selected-emergency",
   "metadata": {},
   "source": [
    "Random Forest Ensemble learner\n",
    "---\n",
    "\n",
    "#### First, let's make a Randomized search\n"
   ]
  },
  {
   "cell_type": "code",
   "execution_count": 42,
   "id": "familiar-kingston",
   "metadata": {},
   "outputs": [
    {
     "name": "stdout",
     "output_type": "stream",
     "text": [
      "Fitting 3 folds for each of 100 candidates, totalling 300 fits\n"
     ]
    },
    {
     "name": "stderr",
     "output_type": "stream",
     "text": [
      "[Parallel(n_jobs=-1)]: Using backend LokyBackend with 24 concurrent workers.\n",
      "[Parallel(n_jobs=-1)]: Done 114 tasks      | elapsed:    9.4s\n",
      "[Parallel(n_jobs=-1)]: Done 300 out of 300 | elapsed:   23.8s finished\n"
     ]
    },
    {
     "name": "stdout",
     "output_type": "stream",
     "text": [
      "The accuracy of the test set with the best estimator give us :: 0.8585\n",
      "best params :: {'n_estimators': 200, 'min_samples_split': 2, 'min_samples_leaf': 2, 'max_features': 'auto', 'max_depth': 30, 'bootstrap': True}\n"
     ]
    }
   ],
   "source": [
    "from sklearn.ensemble import RandomForestClassifier\n",
    "from sklearn.model_selection import GridSearchCV, RandomizedSearchCV\n",
    "\n",
    "# Number of trees in random forest\n",
    "n_estimators = [int(x) for x in range(200,2000,200)]\n",
    "# Number of features to consider at every split\n",
    "max_features = ['auto', 'sqrt']\n",
    "# Maximum number of levels in tree\n",
    "max_depth = [int(x) for x in np.linspace(10, 110, num = 11)]\n",
    "max_depth.append(None)\n",
    "# Minimum number of samples required to split a node\n",
    "min_samples_split = [2, 5, 10]\n",
    "# Minimum number of samples required at each leaf node\n",
    "min_samples_leaf = [1, 2, 4]\n",
    "# Method of selecting samples for training each tree\n",
    "bootstrap = [True, False]\n",
    "# Create the random grid\n",
    "random_grid = {'n_estimators': n_estimators,\n",
    "               'max_features': max_features,\n",
    "               'max_depth': max_depth,\n",
    "               'min_samples_split': min_samples_split,\n",
    "               'min_samples_leaf': min_samples_leaf,\n",
    "               'bootstrap': bootstrap}\n",
    "\n",
    "rf = RandomForestClassifier()\n",
    "# Random search of parameters, using 3 fold cross validation, \n",
    "# search across 100 different combinations, and use all available cores\n",
    "rf_random = RandomizedSearchCV(estimator = rf, param_distributions = random_grid, n_iter = 100, cv = 3, verbose=2, random_state=42, n_jobs = -1)\n",
    "# Fit the random search model\n",
    "rf_random.fit(X_train, y_train)\n",
    "\n",
    "y_test_pred = rf_random.best_estimator_.predict(X_test)\n",
    "acc_test = accuracy_score(y_test, y_test_pred)\n",
    "\n",
    "print(f\"The accuracy of the test set with the best estimator give us :: {acc_test:.4f}\")\n",
    "print(f\"best params :: {rf_random.best_params_}\")\n"
   ]
  },
  {
   "cell_type": "markdown",
   "id": "urban-prophet",
   "metadata": {},
   "source": [
    "#### Let's try a grid search"
   ]
  },
  {
   "cell_type": "code",
   "execution_count": 43,
   "id": "balanced-projection",
   "metadata": {},
   "outputs": [
    {
     "name": "stdout",
     "output_type": "stream",
     "text": [
      "Fitting 3 folds for each of 320 candidates, totalling 960 fits\n"
     ]
    },
    {
     "name": "stderr",
     "output_type": "stream",
     "text": [
      "[Parallel(n_jobs=-1)]: Using backend LokyBackend with 24 concurrent workers.\n",
      "[Parallel(n_jobs=-1)]: Done 114 tasks      | elapsed:   12.6s\n",
      "[Parallel(n_jobs=-1)]: Done 317 tasks      | elapsed:   33.8s\n",
      "[Parallel(n_jobs=-1)]: Done 600 tasks      | elapsed:  1.0min\n",
      "[Parallel(n_jobs=-1)]: Done 960 out of 960 | elapsed:  1.7min finished\n"
     ]
    },
    {
     "name": "stdout",
     "output_type": "stream",
     "text": [
      "The accuracy of the test set with the best estimator give us :: 0.8491\n",
      "{'bootstrap': True, 'max_depth': 15, 'max_features': 2, 'min_samples_leaf': 3, 'min_samples_split': 6, 'n_estimators': 1300}\n"
     ]
    }
   ],
   "source": [
    "# Create the parameter grid based on the results of random search \n",
    "param_grid = {\n",
    "    'bootstrap': [True],\n",
    "    'max_depth': [10,15],\n",
    "    'max_features': [2, 3],\n",
    "    'min_samples_leaf': [3, 4, 5,6],\n",
    "    'min_samples_split': [3,4,5,6],\n",
    "    'n_estimators': [1150, 1200, 1250, 1300,1350]\n",
    "}\n",
    "# Create a based model\n",
    "rf = RandomForestClassifier()\n",
    "# Instantiate the grid search model\n",
    "grid_search = GridSearchCV(estimator = rf, param_grid = param_grid, \n",
    "                          cv = 3, n_jobs = -1, verbose = 2)\n",
    "\n",
    "grid_search.fit(X_train, y_train)\n",
    "\n",
    "y_test_pred = grid_search.best_estimator_.predict(X_test)\n",
    "acc_test = accuracy_score(y_test, y_test_pred)\n",
    "\n",
    "print(f\"The accuracy of the test set with the best estimator give us :: {acc_test:.4f}\")\n",
    "print(grid_search.best_params_)"
   ]
  },
  {
   "cell_type": "code",
   "execution_count": null,
   "id": "racial-static",
   "metadata": {},
   "outputs": [],
   "source": []
  }
 ],
 "metadata": {
  "kernelspec": {
   "display_name": "Python 3",
   "language": "python",
   "name": "python3"
  },
  "language_info": {
   "codemirror_mode": {
    "name": "ipython",
    "version": 3
   },
   "file_extension": ".py",
   "mimetype": "text/x-python",
   "name": "python",
   "nbconvert_exporter": "python",
   "pygments_lexer": "ipython3",
   "version": "3.8.5"
  }
 },
 "nbformat": 4,
 "nbformat_minor": 5
}
