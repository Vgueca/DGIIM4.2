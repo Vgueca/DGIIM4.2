{
 "cells": [
  {
   "cell_type": "code",
   "execution_count": 131,
   "id": "lesbian-ground",
   "metadata": {},
   "outputs": [],
   "source": [
    "import numpy as np\n",
    "\n",
    "def perceptron(x, y, b, w_init, eta, epoch):\n",
    "    \"\"\"\n",
    "    Implements a binary single-sample perceptron with margin\n",
    "    Inputs:    x a feature matrix containing a sample on each row [pandas DataFrame]\n",
    "               y a vector with the class of each sample (either +1 or -1) [list or numpy array]\n",
    "               b a margin [int]\n",
    "               w_init a vector with the initial weight values (intercept in w_init[0]) [list or numpy array]\n",
    "               eta a fixed learning rate [int]\n",
    "               epoch the maximal number of iterations (1 epoch = 1 iteration\n",
    "                       of the \"repeat\" loop in the lecture slides) [int]\n",
    "    Precond:   Data is assumed to be homogeneous\n",
    "    Output:    A weight vector [list or numpy array]\n",
    "    \"\"\"\n",
    "    n = len(x)\n",
    "    x = np.c_[np.ones(n, dtype=np.float32), x] # Wrap bias + original x\n",
    "    x *= y[:,None].astype(np.float32) # Multiply by y to get y(w.T@x) > b\n",
    "    w = w_init[:] # copy of the initial weights\n",
    "    for k in range(epoch):\n",
    "        if np.all(x@w > b): break\n",
    "        i = k%n \n",
    "        if (w.T @ x[i,] <= b):\n",
    "            w += eta * x[i,]\n",
    "    return w\n",
    "\n",
    "def predict(w, x):\n",
    "    return np.sign(np.c_[np.ones(len(x)), x]@w) # Return the sign of the [bias, x] dot the weights"
   ]
  },
  {
   "cell_type": "code",
   "execution_count": 132,
   "id": "continental-airplane",
   "metadata": {},
   "outputs": [
    {
     "name": "stdout",
     "output_type": "stream",
     "text": [
      "[-1. -1. -1. -1. -1.  1.  1.  1.  1.  1.]\n"
     ]
    }
   ],
   "source": [
    "import numpy as np\n",
    "\n",
    "n = 10\n",
    "X = np.arange(n).reshape(n)\n",
    "y = np.r_[-np.ones(n//2), np.ones(n-n//2)]\n",
    "W0 = np.random.rand(2)\n",
    "W0 = np.zeros(2)\n",
    "w = perceptron(X, y, .5, W0, 1e-3, 100000)\n",
    "print(predict(w, X))"
   ]
  },
  {
   "cell_type": "code",
   "execution_count": 130,
   "id": "weekly-honduras",
   "metadata": {},
   "outputs": [
    {
     "data": {
      "text/plain": [
       "[(1, 2), (1, 3), (2, 2), (2, 3)]"
      ]
     },
     "execution_count": 130,
     "metadata": {},
     "output_type": "execute_result"
    }
   ],
   "source": [
    "import itertools\n",
    "\n",
    "list(itertools.product([1,2], [2,3]))"
   ]
  }
 ],
 "metadata": {
  "kernelspec": {
   "display_name": "Python 3",
   "language": "python",
   "name": "python3"
  },
  "language_info": {
   "codemirror_mode": {
    "name": "ipython",
    "version": 3
   },
   "file_extension": ".py",
   "mimetype": "text/x-python",
   "name": "python",
   "nbconvert_exporter": "python",
   "pygments_lexer": "ipython3",
   "version": "3.8.5"
  }
 },
 "nbformat": 4,
 "nbformat_minor": 5
}
