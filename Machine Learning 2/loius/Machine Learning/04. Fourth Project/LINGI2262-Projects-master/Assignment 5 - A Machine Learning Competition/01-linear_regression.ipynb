{
 "cells": [
  {
   "cell_type": "code",
   "execution_count": 3,
   "id": "96641288",
   "metadata": {},
   "outputs": [],
   "source": [
    "import os \n",
    "import pickle\n",
    "import numpy as np\n",
    "from os.path import join  \n",
    "\n",
    "os.environ[\"CUDA_VISIBLE_DEVICES\"] = \"1\"\n",
    "\n",
    "from sklearn.linear_model import LinearRegression\n",
    "from sklearn.model_selection import train_test_split, StratifiedKFold\n",
    "from sklearn.metrics import balanced_accuracy_score\n",
    "\n",
    "from utils import Report\n",
    "\n",
    "datasets = join(os.getcwd(), \"datasets\")\n",
    "preprocessed_datasets = join(datasets, \"preprocessed\")\n",
    "\n",
    "X_all, y_all, X_test = pickle.load(open(join(preprocessed_datasets, \"cleaned_ohe.pickle\"), 'rb'))"
   ]
  },
  {
   "cell_type": "markdown",
   "id": "9f20d167",
   "metadata": {},
   "source": [
    "Fit the linear model with raw cleaned data\n",
    "---"
   ]
  },
  {
   "cell_type": "code",
   "execution_count": 4,
   "id": "3d6afc04",
   "metadata": {},
   "outputs": [
    {
     "name": "stdout",
     "output_type": "stream",
     "text": [
      "--------------- Report for LinearRegression ----------------\n",
      "\n",
      "P score : 0.605\n",
      "BCR     : 1.000\n",
      "BCR hat : 0.605\n",
      "--------------- Report for LinearRegression ----------------\n",
      "\n",
      "P score : 0.631\n",
      "BCR     : 1.000\n",
      "BCR hat : 0.630\n",
      "--------------- Report for LinearRegression ----------------\n",
      "\n",
      "P score : 0.641\n",
      "BCR     : 1.000\n",
      "BCR hat : 0.640\n",
      "--------------- Report for LinearRegression ----------------\n",
      "\n",
      "P score : 0.624\n",
      "BCR     : 1.000\n",
      "BCR hat : 0.623\n"
     ]
    }
   ],
   "source": [
    "kf = StratifiedKFold(4)\n",
    "\n",
    "for train, val in kf.split(X_all, y_all):\n",
    "    \n",
    "    clf = LinearRegression()\n",
    "    \n",
    "    X_train, y_train = X_all[train], y_all[train]\n",
    "    X_val, y_val = X_all[val], y_all[val]\n",
    "    \n",
    "    clf.fit(X_train, y_train)\n",
    "    \n",
    "    Report(clf, X_train, y_train, X_val, y_val).to_stdout()"
   ]
  }
 ],
 "metadata": {
  "kernelspec": {
   "display_name": "rapidsai",
   "language": "python",
   "name": "rapidsai"
  },
  "language_info": {
   "codemirror_mode": {
    "name": "ipython",
    "version": 3
   },
   "file_extension": ".py",
   "mimetype": "text/x-python",
   "name": "python",
   "nbconvert_exporter": "python",
   "pygments_lexer": "ipython3",
   "version": "3.7.10"
  }
 },
 "nbformat": 4,
 "nbformat_minor": 5
}
