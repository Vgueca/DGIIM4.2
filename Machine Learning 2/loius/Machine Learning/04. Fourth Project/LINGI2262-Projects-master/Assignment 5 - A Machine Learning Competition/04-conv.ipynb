{
 "cells": [
  {
   "cell_type": "code",
   "execution_count": null,
   "id": "3d49a359",
   "metadata": {},
   "outputs": [],
   "source": [
    "import os \n",
    "import pickle\n",
    "import numpy as np\n",
    "from os.path import join  \n",
    "\n",
    "from sklearn.model_selection import train_test_split\n",
    "\n",
    "import tensorflow as tf\n",
    "from tensorflow import keras\n",
    "from tensorflow.keras import backend as K\n",
    "from tensorflow.distribute import MirroredStrategy, OneDeviceStrategy\n",
    "\n",
    "for device in tf.config.list_physical_devices(\"GPU\"):\n",
    "    tf.config.experimental.set_memory_growth(device, True)\n",
    "\n",
    "from utils import *\n",
    "\n",
    "datasets = join(os.getcwd(), \"datasets\")\n",
    "preprocessed_datasets = join(datasets, \"preprocessed\")\n",
    "\n",
    "X_all, y_all, X_test = pickle.load(open(join(preprocessed_datasets, \"cleaned_separated.pickle\"), 'rb'))\n",
    "\n",
    "strategy = OneDeviceStrategy(\"CPU\")"
   ]
  },
  {
   "cell_type": "code",
   "execution_count": null,
   "id": "1c7482ee",
   "metadata": {},
   "outputs": [],
   "source": [
    "def train_test_tuple_split(X, y, train_size, seed=None):\n",
    "    def apply_tuple_split(X, split):\n",
    "        train, test = [], []\n",
    "        for x in X:\n",
    "            train.append(x[:split])\n",
    "            test.append(x[split:])\n",
    "        return tuple(train), tuple(test)\n",
    "    \n",
    "    np.random.seed(seed)\n",
    "    \n",
    "    indices_ = np.arange(len(y))\n",
    "    np.random.shuffle(indices_)\n",
    "    \n",
    "    splitter_indice = int(len(y) * train_size)\n",
    "    train_indices, test_indices = np.split(indices_, [splitter_indice])\n",
    "    \n",
    "    X_train, X_test = apply_tuple_split(X, splitter_indice)\n",
    "    y_train, y_test = y[train_indices], y[test_indices]\n",
    "    \n",
    "    return X_train, X_test, y_train, y_test\n",
    "    \n",
    "\n",
    "X_train, X_val, y_train, y_val = train_test_tuple_split(X_all, y_all, .75, seed=42)"
   ]
  },
  {
   "cell_type": "code",
   "execution_count": null,
   "id": "8cea42c4",
   "metadata": {},
   "outputs": [],
   "source": [
    "with strategy.scope():\n",
    "    \n",
    "    conv_len = X_train[0].shape[-1]\n",
    "    vp_len = X_train[1].shape[-1]\n",
    "    vocab_dim = int(np.unique(np.r_[X_train[1], X_test[1]]).max())+1\n",
    "    \n",
    "    conv_input = tf.keras.layers.Input(shape=(conv_len,), name=\"conv_layer_input\")\n",
    "    conv_reshaped = tf.keras.layers.Reshape((-1, 1), name=\"conv_reshaped_2D\")(conv_input)\n",
    "    conv_output = tf.keras.layers.Conv1D(2, kernel_size=5, activation='relu', name=\"conv_layer\")(conv_reshaped)\n",
    "    flatten_conv = tf.keras.layers.Flatten()(conv_output)\n",
    "    \n",
    "    vp_input = tf.keras.layers.Input(shape=(vp_len,))\n",
    "    embedded = tf.keras.layers.Embedding(vocab_dim, 128, input_length=vp_len)(vp_input)\n",
    "    dense_emb = tf.keras.layers.Dense(1, activation='relu')(embedded)\n",
    "    flatten_emb = tf.keras.layers.Flatten()(dense_emb)\n",
    "    \n",
    "    concat = tf.keras.layers.Concatenate()([flatten_conv, flatten_emb])\n",
    "    \n",
    "    output = tf.keras.layers.Dense(1, kernel_initializer='glorot_uniform', kernel_regularizer=tf.keras.regularizers.L1(1e-2), activation='sigmoid')(concat)\n",
    "    \n",
    "    model = tf.keras.models.Model(inputs=[conv_input, vp_input], outputs=output)\n",
    "    \n",
    "    model.compile(\n",
    "        loss=tf.keras.losses.BinaryCrossentropy(),\n",
    "        optimizer=tf.keras.optimizers.Adam(learning_rate=1e-3),\n",
    "        metrics=[bcr, p1, p2, m1, m2, \"accuracy\"]\n",
    "    )\n",
    "\n",
    "callbacks = [\n",
    "    tf.keras.callbacks.ReduceLROnPlateau(monitor='val_bcr', factor=.5, patience=10, verbose=2),\n",
    "    BCREarlyStopping(patience=30, restore_best_weights=True)\n",
    "]\n",
    "\n",
    "model.summary()"
   ]
  },
  {
   "cell_type": "code",
   "execution_count": null,
   "id": "f84c00e2",
   "metadata": {},
   "outputs": [],
   "source": [
    "with strategy.scope():\n",
    "    history = model.fit(X_train, y_train, \n",
    "                        validation_data=(X_val, y_val),\n",
    "                        batch_size=120,\n",
    "                        epochs=200,\n",
    "                        callbacks=callbacks\n",
    "                       )"
   ]
  },
  {
   "cell_type": "code",
   "execution_count": null,
   "id": "e403428f",
   "metadata": {
    "scrolled": true
   },
   "outputs": [],
   "source": [
    "report = Report(model, X_train, y_train, X_val, y_val).to_stdout()"
   ]
  }
 ],
 "metadata": {
  "kernelspec": {
   "display_name": "deep",
   "language": "python",
   "name": "deep"
  },
  "language_info": {
   "codemirror_mode": {
    "name": "ipython",
    "version": 3
   },
   "file_extension": ".py",
   "mimetype": "text/x-python",
   "name": "python",
   "nbconvert_exporter": "python",
   "pygments_lexer": "ipython3",
   "version": "3.9.4"
  }
 },
 "nbformat": 4,
 "nbformat_minor": 5
}
