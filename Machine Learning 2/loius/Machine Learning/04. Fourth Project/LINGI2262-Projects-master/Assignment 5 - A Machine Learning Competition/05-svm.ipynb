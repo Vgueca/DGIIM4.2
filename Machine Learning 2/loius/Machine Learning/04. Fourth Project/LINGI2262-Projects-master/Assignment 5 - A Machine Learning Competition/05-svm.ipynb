{
 "cells": [
  {
   "cell_type": "code",
   "execution_count": 1,
   "metadata": {},
   "outputs": [],
   "source": [
    "import os \n",
    "import pickle\n",
    "import numpy as np\n",
    "from os.path import join  \n",
    "\n",
    "os.environ[\"CUDA_VISIBLE_DEVICES\"] = \"1\"\n",
    "\n",
    "from sklearn.model_selection import train_test_split, KFold, StratifiedKFold\n",
    "from sklearn.preprocessing import StandardScaler\n",
    "from cuml.svm import SVC\n",
    "from cuml.neighbors import KNeighborsClassifier\n",
    "from cuml.ensemble import RandomForestClassifier\n",
    "from cuml.naive_bayes import MultinomialNB\n",
    "from sklearn.ensemble import BaggingClassifier, VotingClassifier\n",
    "\n",
    "\n",
    "from utils import *\n",
    "\n",
    "datasets = join(os.getcwd(), \"datasets\")\n",
    "preprocessed_datasets = join(datasets, \"preprocessed\")\n",
    "\n",
    "X_all, y_all, X_test = pickle.load(open(join(preprocessed_datasets, \"cleaned_ohe.pickle\"), 'rb'))\n",
    "y_all = y_all.reshape(-1)"
   ]
  },
  {
   "cell_type": "code",
   "execution_count": 2,
   "metadata": {},
   "outputs": [
    {
     "name": "stdout",
     "output_type": "stream",
     "text": [
      "---------------------- Report for SVC ----------------------\n",
      "\n",
      "P score : 0.671\n",
      "BCR     : 1.000\n",
      "BCR hat : 0.668\n",
      "---------------------- Report for SVC ----------------------\n",
      "\n",
      "P score : 0.658\n",
      "BCR     : 1.000\n",
      "BCR hat : 0.656\n",
      "---------------------- Report for SVC ----------------------\n",
      "\n",
      "P score : 0.693\n",
      "BCR     : 1.000\n",
      "BCR hat : 0.691\n",
      "---------------------- Report for SVC ----------------------\n",
      "\n",
      "P score : 0.618\n",
      "BCR     : 1.000\n",
      "BCR hat : 0.617\n",
      "---------------------- Report for SVC ----------------------\n",
      "\n",
      "P score : 0.608\n",
      "BCR     : 1.000\n",
      "BCR hat : 0.607\n",
      "---------------------- Report for SVC ----------------------\n",
      "\n",
      "P score : 0.678\n",
      "BCR     : 1.000\n",
      "BCR hat : 0.675\n"
     ]
    }
   ],
   "source": [
    "\n",
    "kf = StratifiedKFold(6)\n",
    "\n",
    "for train, val in kf.split(X_all, y_all):\n",
    "    \n",
    "    clf = SVC(kernel='poly', C=10, gamma=1)\n",
    "    \n",
    "    X_train, y_train = X_all[train], y_all[train]\n",
    "    X_val, y_val = X_all[val], y_all[val]\n",
    "    \n",
    "    clf.fit(X_train, y_train)\n",
    "    \n",
    "    Report(clf, X_train, y_train, X_val, y_val).to_stdout()"
   ]
  },
  {
   "cell_type": "code",
   "execution_count": null,
   "metadata": {},
   "outputs": [],
   "source": []
  }
 ],
 "metadata": {
  "kernelspec": {
   "display_name": "rapidsai",
   "language": "python",
   "name": "rapidsai"
  },
  "language_info": {
   "codemirror_mode": {
    "name": "ipython",
    "version": 3
   },
   "file_extension": ".py",
   "mimetype": "text/x-python",
   "name": "python",
   "nbconvert_exporter": "python",
   "pygments_lexer": "ipython3",
   "version": "3.7.10"
  }
 },
 "nbformat": 4,
 "nbformat_minor": 4
}
