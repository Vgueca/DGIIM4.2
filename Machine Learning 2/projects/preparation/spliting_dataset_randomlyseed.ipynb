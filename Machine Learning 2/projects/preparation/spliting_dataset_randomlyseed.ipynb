{
 "cells": [
  {
   "cell_type": "code",
   "execution_count": null,
   "id": "32e69986",
   "metadata": {},
   "outputs": [],
   "source": [
    "# There are some assumptions in the exercise, so here is just the solution"
   ]
  },
  {
   "cell_type": "code",
   "execution_count": null,
   "id": "3e0b4194",
   "metadata": {},
   "outputs": [],
   "source": [
    "data = {}\n",
    "\n",
    "# TODO replace by your own python code\n",
    "for i in range(10):\n",
    "    df_sample = df.sample(n=25,random_state=i)\n",
    "    data[i] = df_sample"
   ]
  }
 ],
 "metadata": {
  "kernelspec": {
   "display_name": "Python 3 (ipykernel)",
   "language": "python",
   "name": "python3"
  },
  "language_info": {
   "codemirror_mode": {
    "name": "ipython",
    "version": 3
   },
   "file_extension": ".py",
   "mimetype": "text/x-python",
   "name": "python",
   "nbconvert_exporter": "python",
   "pygments_lexer": "ipython3",
   "version": "3.9.13"
  }
 },
 "nbformat": 4,
 "nbformat_minor": 5
}
