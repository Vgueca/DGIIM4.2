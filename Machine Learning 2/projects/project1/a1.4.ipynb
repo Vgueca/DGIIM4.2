{
 "cells": [
  {
   "cell_type": "code",
   "execution_count": 1,
   "id": "ca8a62c4",
   "metadata": {},
   "outputs": [],
   "source": [
    "import pandas as pd\n",
    "import matplotlib.pyplot as plt\n",
    "import numpy as np\n",
    "import matplotlib.pyplot as plt\n",
    "%matplotlib inline\n",
    "import seaborn as sns\n",
    "import time\n",
    "import sklearn\n",
    "from sklearn import tree\n",
    "from sklearn.metrics import accuracy_score"
   ]
  },
  {
   "cell_type": "code",
   "execution_count": 2,
   "id": "b9de435b",
   "metadata": {},
   "outputs": [],
   "source": [
    "from sklearn.tree import DecisionTreeClassifier"
   ]
  },
  {
   "cell_type": "code",
   "execution_count": 3,
   "id": "136c0360",
   "metadata": {},
   "outputs": [],
   "source": [
    "train_df = pd.read_csv(\"CalHouseTrain.csv\", index_col=0)\n",
    "test_df = pd.read_csv(\"CalHouseTest.csv\", index_col=0)"
   ]
  },
  {
   "cell_type": "code",
   "execution_count": 4,
   "id": "7e3afa2b",
   "metadata": {},
   "outputs": [],
   "source": [
    "x_train = train_df.drop('class', axis=1)\n",
    "y_test = test_df.drop('class', axis=1)"
   ]
  },
  {
   "cell_type": "code",
   "execution_count": 5,
   "id": "e87b2809",
   "metadata": {},
   "outputs": [],
   "source": [
    "y_train_pred = []\n",
    "y_test_pred = []"
   ]
  },
  {
   "cell_type": "code",
   "execution_count": 6,
   "id": "3d27c48c",
   "metadata": {},
   "outputs": [],
   "source": [
    "wl = DecisionTreeClassifier(random_state=0, min_impurity_decrease=0.025)\n",
    "wl.fit(x_train,train_df['class'])\n",
    "y_train_pred = wl.predict(x_train)\n",
    "y_test_pred = wl.predict(y_test)\n",
    "\n",
    "training_accuracy = accuracy_score(y_train_pred,train_df['class'])\n",
    "test_accuracy = accuracy_score(y_test_pred,test_df['class'])  "
   ]
  },
  {
   "cell_type": "code",
   "execution_count": 7,
   "id": "d4eff3ed",
   "metadata": {
    "scrolled": true
   },
   "outputs": [
    {
     "data": {
      "text/plain": [
       "0.612"
      ]
     },
     "execution_count": 7,
     "metadata": {},
     "output_type": "execute_result"
    }
   ],
   "source": [
    "test_accuracy"
   ]
  },
  {
   "cell_type": "code",
   "execution_count": 8,
   "id": "b76d9fee",
   "metadata": {},
   "outputs": [],
   "source": [
    "from sklearn.tree import DecisionTreeClassifier\n",
    "\n",
    "def bagging_fit(train_df, nb_trees, seeds):\n",
    "    list_trees = []\n",
    "    for i in range(nb_trees):\n",
    "        #Sampling with the same size as training dataset, and allowing replacement\n",
    "        train_sample = train_df.sample(frac=1, replace= True)\n",
    "        x_train =train_sample.drop('class', axis = 1)\n",
    "        y_train =train_sample['class']\n",
    "        \n",
    "        #Create the Decision Tree with same parameters of the previous question\n",
    "        clf = DecisionTreeClassifier(random_state=0, min_impurity_decrease=0.025)\n",
    "        clf.fit(x_train, y_train)\n",
    "        \n",
    "        list_trees.append(clf)\n",
    "    return list_trees  # TODO: replace by your own python code\n"
   ]
  },
  {
   "cell_type": "code",
   "execution_count": 9,
   "id": "843dc164",
   "metadata": {},
   "outputs": [],
   "source": [
    "\n",
    "def bagging_predict(tree_list, x_test):\n",
    "    y_predicted = []\n",
    "    n_observations = x_test.shape[0]\n",
    "    list_observations = []\n",
    "    final_prediction = []\n",
    "    for i in range(n_observations):\n",
    "        list_observations.append(i)    \n",
    "    \n",
    "    frame = pd.DataFrame(columns = list_observations) #We create a empty dataframe with as columns as observations to predict in the test set\n",
    "\n",
    "    #We add each predicted values from each decision tree to the dataframe, being each prediction a row.\n",
    "    for i in range(len(tree_list)):\n",
    "        y_predicted = tree_list[i].predict(x_test)\n",
    "        frame.loc[i] = y_predicted\n",
    "    \n",
    "    #We compute for each column the value that appeared more often. In case of tie, sorted them alphabetically     \n",
    "    column_names = frame.columns.tolist()\n",
    "    for i in range(n_observations):\n",
    "        count_values = frame[column_names[i]].value_counts()\n",
    "        \n",
    "        value = count_values.idxmax()\n",
    "        same_counts = sorted(count_values.index[count_values == count_values[value]])\n",
    "        most_common_value = same_counts[0]\n",
    "        final_prediction.append(most_common_value)\n",
    "        \n",
    "    return final_prediction  # TODO: replace by your own python code"
   ]
  },
  {
   "cell_type": "code",
   "execution_count": 10,
   "id": "fb841e6a",
   "metadata": {
    "scrolled": true
   },
   "outputs": [],
   "source": [
    "tree_list = bagging_fit(train_df,100,[])"
   ]
  },
  {
   "cell_type": "code",
   "execution_count": 11,
   "id": "c5afc46d",
   "metadata": {},
   "outputs": [],
   "source": [
    "prediction = bagging_predict(tree_list, y_test)"
   ]
  },
  {
   "cell_type": "code",
   "execution_count": 12,
   "id": "ce9c2a1f",
   "metadata": {
    "scrolled": true
   },
   "outputs": [
    {
     "data": {
      "text/plain": [
       "500"
      ]
     },
     "execution_count": 12,
     "metadata": {},
     "output_type": "execute_result"
    }
   ],
   "source": [
    "len(prediction)"
   ]
  },
  {
   "cell_type": "code",
   "execution_count": 13,
   "id": "c7b1d1db",
   "metadata": {},
   "outputs": [
    {
     "data": {
      "text/plain": [
       "0.644"
      ]
     },
     "execution_count": 13,
     "metadata": {},
     "output_type": "execute_result"
    }
   ],
   "source": [
    "accuracy_score(prediction, test_df['class'])"
   ]
  },
  {
   "cell_type": "code",
   "execution_count": 17,
   "id": "d8f2d422",
   "metadata": {},
   "outputs": [
    {
     "name": "stdout",
     "output_type": "stream",
     "text": [
      "0.6168199999999999\n",
      "0.6077199999999997\n",
      "0.6362200000000002\n",
      "0.63258\n",
      "0.6418200000000002\n",
      "0.6361800000000002\n",
      "0.6456599999999998\n",
      "0.6424600000000001\n",
      "0.6433600000000003\n",
      "0.6446000000000006\n"
     ]
    }
   ],
   "source": [
    "for i in range (10):\n",
    "    frame3 = pd.DataFrame(columns = [\"nb_trees\", \"TestAcc\"])\n",
    "    for j in range(100):\n",
    "        tree_list = bagging_fit(train_df,i+1,[])\n",
    "        prediction = bagging_predict(tree_list, y_test)\n",
    "        test_acurr= accuracy_score(prediction, test_df['class'])\n",
    "        \n",
    "        frame3.loc[j] = [100*(i+1), test_acurr]\n",
    "    media = frame3['TestAcc'].mean()\n",
    "    print(media)"
   ]
  },
  {
   "cell_type": "code",
   "execution_count": 18,
   "id": "973e33f7",
   "metadata": {},
   "outputs": [
    {
     "name": "stdout",
     "output_type": "stream",
     "text": [
      "    nb_trees  TestAcc\n",
      "0     1000.0    0.648\n",
      "1     1000.0    0.648\n",
      "2     1000.0    0.654\n",
      "3     1000.0    0.638\n",
      "4     1000.0    0.620\n",
      "..       ...      ...\n",
      "95    1000.0    0.658\n",
      "96    1000.0    0.646\n",
      "97    1000.0    0.632\n",
      "98    1000.0    0.650\n",
      "99    1000.0    0.660\n",
      "\n",
      "[100 rows x 2 columns]\n"
     ]
    }
   ],
   "source": [
    "print(frame3)"
   ]
  },
  {
   "cell_type": "code",
   "execution_count": 20,
   "id": "ef0cfdb5",
   "metadata": {},
   "outputs": [
    {
     "name": "stdout",
     "output_type": "stream",
     "text": [
      "0.6433800000000001\n",
      "0.6445000000000003\n",
      "0.6473800000000002\n",
      "0.6479000000000003\n",
      "0.6474800000000002\n",
      "0.64656\n",
      "0.6472800000000002\n",
      "0.6478800000000001\n",
      "0.6469600000000004\n",
      "0.6447800000000005\n"
     ]
    }
   ],
   "source": [
    "for i in range (10):\n",
    "    frame3 = pd.DataFrame(columns = [\"nb_trees\", \"TestAcc\"])\n",
    "    for j in range(100):\n",
    "        tree_list = bagging_fit(train_df,(i+1)*5,[])\n",
    "        prediction = bagging_predict(tree_list, y_test)\n",
    "        test_acurr= accuracy_score(prediction, test_df['class'])\n",
    "        \n",
    "        frame3.loc[j] = [i+1, test_acurr]\n",
    "    media = frame3['TestAcc'].mean()\n",
    "    print(media)"
   ]
  },
  {
   "cell_type": "code",
   "execution_count": null,
   "id": "dc4af13c",
   "metadata": {},
   "outputs": [],
   "source": []
  },
  {
   "cell_type": "code",
   "execution_count": null,
   "id": "2f07101a",
   "metadata": {},
   "outputs": [],
   "source": []
  },
  {
   "cell_type": "code",
   "execution_count": null,
   "id": "02b750a0",
   "metadata": {},
   "outputs": [],
   "source": []
  },
  {
   "cell_type": "code",
   "execution_count": 21,
   "id": "4eea980f",
   "metadata": {},
   "outputs": [],
   "source": [
    "from sklearn.ensemble import RandomForestClassifier\n",
    "from sklearn.datasets import make_classification"
   ]
  },
  {
   "cell_type": "code",
   "execution_count": 23,
   "id": "2c8a5469",
   "metadata": {},
   "outputs": [
    {
     "name": "stdout",
     "output_type": "stream",
     "text": [
      "Best parameters for Random Forest Classifier: {'max_depth': None, 'max_features': 'log2', 'min_samples_leaf': 1, 'min_samples_split': 2, 'n_estimators': 100}\n",
      "Best accuracy score for Random Forest Classifier: 0.766\n"
     ]
    }
   ],
   "source": [
    "from sklearn.ensemble import RandomForestClassifier\n",
    "from sklearn.model_selection import GridSearchCV\n",
    "\n",
    "# Define the hyperparameters to search over\n",
    "param_grid = {\n",
    "    'n_estimators': [10, 50, 100, 200],\n",
    "    'max_depth': [None, 5, 10, 20],\n",
    "    'max_features': ['sqrt', 'log2'],\n",
    "    'min_samples_split': [2, 5, 10],\n",
    "    'min_samples_leaf': [1, 2, 4]\n",
    "}\n",
    "\n",
    "# Define the Random Forest Classifier\n",
    "rfc = RandomForestClassifier(random_state=0)\n",
    "\n",
    "# Perform the grid search\n",
    "grid_search_rfc = GridSearchCV(rfc, param_grid=param_grid, cv=5, scoring='accuracy')\n",
    "grid_search_rfc.fit(x_train, train_df['class'])\n",
    "\n",
    "# Get the best parameters and the corresponding accuracy score\n",
    "best_params_rfc = grid_search_rfc.best_params_\n",
    "best_score_rfc = grid_search_rfc.best_score_\n",
    "\n",
    "print(f'Best parameters for Random Forest Classifier: {best_params_rfc}')\n",
    "print(f'Best accuracy score for Random Forest Classifier: {best_score_rfc:.3f}')"
   ]
  },
  {
   "cell_type": "code",
   "execution_count": 44,
   "id": "84a58638",
   "metadata": {},
   "outputs": [],
   "source": [
    "rfc = RandomForestClassifier(max_depth = None, max_features = 'log2', min_samples_leaf = 1, min_samples_split = 2, n_estimators = 100)"
   ]
  },
  {
   "cell_type": "code",
   "execution_count": 45,
   "id": "384670f2",
   "metadata": {},
   "outputs": [],
   "source": [
    "rfc.fit(x_train, train_df['class'])\n",
    "prediction = rfc.predict(y_test)"
   ]
  },
  {
   "cell_type": "code",
   "execution_count": 46,
   "id": "6eb68b72",
   "metadata": {
    "scrolled": true
   },
   "outputs": [
    {
     "data": {
      "text/plain": [
       "0.722"
      ]
     },
     "execution_count": 46,
     "metadata": {},
     "output_type": "execute_result"
    }
   ],
   "source": [
    "accuracy_score(prediction, test_df['class'])"
   ]
  },
  {
   "cell_type": "code",
   "execution_count": 29,
   "id": "4150a2fd",
   "metadata": {},
   "outputs": [],
   "source": [
    "from sklearn.ensemble import BaggingClassifier"
   ]
  },
  {
   "cell_type": "code",
   "execution_count": 35,
   "id": "37ab3501",
   "metadata": {},
   "outputs": [],
   "source": [
    "bg = BaggingClassifier(random_state=0, n_estimators = 100)"
   ]
  },
  {
   "cell_type": "code",
   "execution_count": 36,
   "id": "d309d14e",
   "metadata": {},
   "outputs": [
    {
     "data": {
      "text/plain": [
       "0.726"
      ]
     },
     "execution_count": 36,
     "metadata": {},
     "output_type": "execute_result"
    }
   ],
   "source": [
    "bg.fit(x_train, train_df['class'])\n",
    "prediction = rfc.predict(y_test)\n",
    "accuracy_score(prediction, test_df['class'])"
   ]
  },
  {
   "cell_type": "code",
   "execution_count": 41,
   "id": "a6037272",
   "metadata": {},
   "outputs": [],
   "source": [
    "def bagging_fit(train_df, nb_trees, seeds):\n",
    "    list_trees = []\n",
    "    nb_trees = 7 # We have chosen this amount of trees as during the tune of the metaparameters it seems to outperform the rest\n",
    "    for i in range(nb_trees): \n",
    "        #Sampling with the same size as training dataset, and allowing replacement\n",
    "        train_sample = train_df.sample(frac=1, replace= True, random_state= 0)\n",
    "        x_train =train_sample.drop('class', axis = 1)\n",
    "        y_train =train_sample['class']\n",
    "        \n",
    "        #Create the Decision Tree with same parameters of the previous question\n",
    "        clf = DecisionTreeClassifier(random_state=0, min_samples_split = 16, min_impurity_decrease= 0.003)\n",
    "        clf.fit(x_train, y_train)\n",
    "        \n",
    "        list_trees.append(clf)\n",
    "    return list_trees  # TODO: replace by your own python code"
   ]
  },
  {
   "cell_type": "code",
   "execution_count": 43,
   "id": "dbabc0f2",
   "metadata": {},
   "outputs": [
    {
     "name": "stdout",
     "output_type": "stream",
     "text": [
      "0.6379999999999995\n"
     ]
    }
   ],
   "source": [
    "for j in range(100):\n",
    "    tree_list = bagging_fit(train_df,5,[])\n",
    "    prediction = bagging_predict(tree_list, y_test)\n",
    "    test_acurr= accuracy_score(prediction, test_df['class'])\n",
    "        \n",
    "    frame3.loc[j] = [100*(i+1), test_acurr]\n",
    "media = frame3['TestAcc'].mean()\n",
    "print(media)"
   ]
  },
  {
   "cell_type": "code",
   "execution_count": null,
   "id": "994ea414",
   "metadata": {},
   "outputs": [],
   "source": []
  }
 ],
 "metadata": {
  "kernelspec": {
   "display_name": "Python 3 (ipykernel)",
   "language": "python",
   "name": "python3"
  },
  "language_info": {
   "codemirror_mode": {
    "name": "ipython",
    "version": 3
   },
   "file_extension": ".py",
   "mimetype": "text/x-python",
   "name": "python",
   "nbconvert_exporter": "python",
   "pygments_lexer": "ipython3",
   "version": "3.9.13"
  }
 },
 "nbformat": 4,
 "nbformat_minor": 5
}
