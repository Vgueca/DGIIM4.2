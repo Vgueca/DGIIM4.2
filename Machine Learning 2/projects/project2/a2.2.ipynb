{
 "cells": [
  {
   "cell_type": "code",
   "execution_count": 1,
   "id": "a851bef4",
   "metadata": {},
   "outputs": [],
   "source": [
    "import pandas as pd\n",
    "import matplotlib.pyplot as plt\n",
    "import numpy as np\n",
    "import matplotlib.pyplot as plt\n",
    "%matplotlib inline\n",
    "import seaborn as sns\n",
    "import time\n",
    "import sklearn\n",
    "from sklearn.svm import SVC\n",
    "from sklearn.model_selection import cross_val_score\n",
    "from sklearn.model_selection import GridSearchCV\n",
    "from sklearn.model_selection import cross_val_score\n",
    "from sklearn.feature_selection import VarianceThreshold\n",
    "from sklearn.model_selection import KFold\n",
    "from sklearn.preprocessing import StandardScaler"
   ]
  },
  {
   "cell_type": "code",
   "execution_count": 2,
   "id": "0587b378",
   "metadata": {},
   "outputs": [],
   "source": [
    "import pandas as pd\n",
    "\n",
    "train_df = pd.read_csv(\"DiabetesTrain.csv\", index_col=0)\n",
    "test_df = pd.read_csv(\"DiabetesTest.csv\", index_col=0)"
   ]
  },
  {
   "cell_type": "code",
   "execution_count": 3,
   "id": "1edde344",
   "metadata": {},
   "outputs": [
    {
     "data": {
      "text/html": [
       "<div>\n",
       "<style scoped>\n",
       "    .dataframe tbody tr th:only-of-type {\n",
       "        vertical-align: middle;\n",
       "    }\n",
       "\n",
       "    .dataframe tbody tr th {\n",
       "        vertical-align: top;\n",
       "    }\n",
       "\n",
       "    .dataframe thead th {\n",
       "        text-align: right;\n",
       "    }\n",
       "</style>\n",
       "<table border=\"1\" class=\"dataframe\">\n",
       "  <thead>\n",
       "    <tr style=\"text-align: right;\">\n",
       "      <th></th>\n",
       "      <th>Age</th>\n",
       "      <th>Sex</th>\n",
       "      <th>HighChol</th>\n",
       "      <th>CholCheck</th>\n",
       "      <th>BMI</th>\n",
       "      <th>Smoker</th>\n",
       "      <th>HeartDiseaseorAttack</th>\n",
       "      <th>PhysActivity</th>\n",
       "      <th>Fruits</th>\n",
       "      <th>Veggies</th>\n",
       "      <th>HvyAlcoholConsump</th>\n",
       "      <th>GenHlth</th>\n",
       "      <th>MentHlth</th>\n",
       "      <th>PhysHlth</th>\n",
       "      <th>DiffWalk</th>\n",
       "      <th>Stroke</th>\n",
       "      <th>HighBP</th>\n",
       "      <th>Diabetes</th>\n",
       "    </tr>\n",
       "  </thead>\n",
       "  <tbody>\n",
       "    <tr>\n",
       "      <th>1</th>\n",
       "      <td>10.0</td>\n",
       "      <td>1.0</td>\n",
       "      <td>1.0</td>\n",
       "      <td>1.0</td>\n",
       "      <td>33.0</td>\n",
       "      <td>0.0</td>\n",
       "      <td>0.0</td>\n",
       "      <td>0.0</td>\n",
       "      <td>0.0</td>\n",
       "      <td>1.0</td>\n",
       "      <td>0.0</td>\n",
       "      <td>4.0</td>\n",
       "      <td>0.0</td>\n",
       "      <td>30.0</td>\n",
       "      <td>0.0</td>\n",
       "      <td>0.0</td>\n",
       "      <td>1.0</td>\n",
       "      <td>1.0</td>\n",
       "    </tr>\n",
       "    <tr>\n",
       "      <th>2</th>\n",
       "      <td>10.0</td>\n",
       "      <td>1.0</td>\n",
       "      <td>0.0</td>\n",
       "      <td>1.0</td>\n",
       "      <td>21.0</td>\n",
       "      <td>0.0</td>\n",
       "      <td>1.0</td>\n",
       "      <td>1.0</td>\n",
       "      <td>0.0</td>\n",
       "      <td>0.0</td>\n",
       "      <td>0.0</td>\n",
       "      <td>5.0</td>\n",
       "      <td>0.0</td>\n",
       "      <td>30.0</td>\n",
       "      <td>1.0</td>\n",
       "      <td>0.0</td>\n",
       "      <td>1.0</td>\n",
       "      <td>1.0</td>\n",
       "    </tr>\n",
       "    <tr>\n",
       "      <th>3</th>\n",
       "      <td>4.0</td>\n",
       "      <td>0.0</td>\n",
       "      <td>0.0</td>\n",
       "      <td>1.0</td>\n",
       "      <td>32.0</td>\n",
       "      <td>0.0</td>\n",
       "      <td>0.0</td>\n",
       "      <td>1.0</td>\n",
       "      <td>1.0</td>\n",
       "      <td>1.0</td>\n",
       "      <td>0.0</td>\n",
       "      <td>3.0</td>\n",
       "      <td>0.0</td>\n",
       "      <td>7.0</td>\n",
       "      <td>0.0</td>\n",
       "      <td>0.0</td>\n",
       "      <td>0.0</td>\n",
       "      <td>0.0</td>\n",
       "    </tr>\n",
       "    <tr>\n",
       "      <th>4</th>\n",
       "      <td>11.0</td>\n",
       "      <td>1.0</td>\n",
       "      <td>1.0</td>\n",
       "      <td>1.0</td>\n",
       "      <td>35.0</td>\n",
       "      <td>1.0</td>\n",
       "      <td>0.0</td>\n",
       "      <td>1.0</td>\n",
       "      <td>0.0</td>\n",
       "      <td>1.0</td>\n",
       "      <td>0.0</td>\n",
       "      <td>4.0</td>\n",
       "      <td>0.0</td>\n",
       "      <td>10.0</td>\n",
       "      <td>1.0</td>\n",
       "      <td>0.0</td>\n",
       "      <td>1.0</td>\n",
       "      <td>1.0</td>\n",
       "    </tr>\n",
       "    <tr>\n",
       "      <th>5</th>\n",
       "      <td>10.0</td>\n",
       "      <td>0.0</td>\n",
       "      <td>1.0</td>\n",
       "      <td>1.0</td>\n",
       "      <td>27.0</td>\n",
       "      <td>0.0</td>\n",
       "      <td>0.0</td>\n",
       "      <td>1.0</td>\n",
       "      <td>1.0</td>\n",
       "      <td>1.0</td>\n",
       "      <td>0.0</td>\n",
       "      <td>2.0</td>\n",
       "      <td>0.0</td>\n",
       "      <td>0.0</td>\n",
       "      <td>0.0</td>\n",
       "      <td>0.0</td>\n",
       "      <td>1.0</td>\n",
       "      <td>0.0</td>\n",
       "    </tr>\n",
       "    <tr>\n",
       "      <th>...</th>\n",
       "      <td>...</td>\n",
       "      <td>...</td>\n",
       "      <td>...</td>\n",
       "      <td>...</td>\n",
       "      <td>...</td>\n",
       "      <td>...</td>\n",
       "      <td>...</td>\n",
       "      <td>...</td>\n",
       "      <td>...</td>\n",
       "      <td>...</td>\n",
       "      <td>...</td>\n",
       "      <td>...</td>\n",
       "      <td>...</td>\n",
       "      <td>...</td>\n",
       "      <td>...</td>\n",
       "      <td>...</td>\n",
       "      <td>...</td>\n",
       "      <td>...</td>\n",
       "    </tr>\n",
       "    <tr>\n",
       "      <th>996</th>\n",
       "      <td>9.0</td>\n",
       "      <td>1.0</td>\n",
       "      <td>1.0</td>\n",
       "      <td>1.0</td>\n",
       "      <td>44.0</td>\n",
       "      <td>1.0</td>\n",
       "      <td>0.0</td>\n",
       "      <td>1.0</td>\n",
       "      <td>1.0</td>\n",
       "      <td>0.0</td>\n",
       "      <td>0.0</td>\n",
       "      <td>3.0</td>\n",
       "      <td>0.0</td>\n",
       "      <td>0.0</td>\n",
       "      <td>0.0</td>\n",
       "      <td>0.0</td>\n",
       "      <td>1.0</td>\n",
       "      <td>0.0</td>\n",
       "    </tr>\n",
       "    <tr>\n",
       "      <th>997</th>\n",
       "      <td>3.0</td>\n",
       "      <td>0.0</td>\n",
       "      <td>1.0</td>\n",
       "      <td>1.0</td>\n",
       "      <td>33.0</td>\n",
       "      <td>0.0</td>\n",
       "      <td>0.0</td>\n",
       "      <td>0.0</td>\n",
       "      <td>1.0</td>\n",
       "      <td>1.0</td>\n",
       "      <td>0.0</td>\n",
       "      <td>3.0</td>\n",
       "      <td>0.0</td>\n",
       "      <td>0.0</td>\n",
       "      <td>0.0</td>\n",
       "      <td>0.0</td>\n",
       "      <td>0.0</td>\n",
       "      <td>0.0</td>\n",
       "    </tr>\n",
       "    <tr>\n",
       "      <th>998</th>\n",
       "      <td>9.0</td>\n",
       "      <td>0.0</td>\n",
       "      <td>1.0</td>\n",
       "      <td>1.0</td>\n",
       "      <td>41.0</td>\n",
       "      <td>0.0</td>\n",
       "      <td>1.0</td>\n",
       "      <td>1.0</td>\n",
       "      <td>0.0</td>\n",
       "      <td>1.0</td>\n",
       "      <td>0.0</td>\n",
       "      <td>5.0</td>\n",
       "      <td>20.0</td>\n",
       "      <td>30.0</td>\n",
       "      <td>1.0</td>\n",
       "      <td>1.0</td>\n",
       "      <td>1.0</td>\n",
       "      <td>1.0</td>\n",
       "    </tr>\n",
       "    <tr>\n",
       "      <th>999</th>\n",
       "      <td>12.0</td>\n",
       "      <td>0.0</td>\n",
       "      <td>1.0</td>\n",
       "      <td>1.0</td>\n",
       "      <td>34.0</td>\n",
       "      <td>0.0</td>\n",
       "      <td>1.0</td>\n",
       "      <td>1.0</td>\n",
       "      <td>1.0</td>\n",
       "      <td>1.0</td>\n",
       "      <td>0.0</td>\n",
       "      <td>3.0</td>\n",
       "      <td>0.0</td>\n",
       "      <td>0.0</td>\n",
       "      <td>0.0</td>\n",
       "      <td>0.0</td>\n",
       "      <td>1.0</td>\n",
       "      <td>0.0</td>\n",
       "    </tr>\n",
       "    <tr>\n",
       "      <th>1000</th>\n",
       "      <td>6.0</td>\n",
       "      <td>0.0</td>\n",
       "      <td>0.0</td>\n",
       "      <td>1.0</td>\n",
       "      <td>31.0</td>\n",
       "      <td>1.0</td>\n",
       "      <td>0.0</td>\n",
       "      <td>1.0</td>\n",
       "      <td>0.0</td>\n",
       "      <td>1.0</td>\n",
       "      <td>0.0</td>\n",
       "      <td>3.0</td>\n",
       "      <td>1.0</td>\n",
       "      <td>0.0</td>\n",
       "      <td>0.0</td>\n",
       "      <td>0.0</td>\n",
       "      <td>0.0</td>\n",
       "      <td>1.0</td>\n",
       "    </tr>\n",
       "  </tbody>\n",
       "</table>\n",
       "<p>1000 rows × 18 columns</p>\n",
       "</div>"
      ],
      "text/plain": [
       "       Age  Sex  HighChol  CholCheck   BMI  Smoker  HeartDiseaseorAttack  \\\n",
       "1     10.0  1.0       1.0        1.0  33.0     0.0                   0.0   \n",
       "2     10.0  1.0       0.0        1.0  21.0     0.0                   1.0   \n",
       "3      4.0  0.0       0.0        1.0  32.0     0.0                   0.0   \n",
       "4     11.0  1.0       1.0        1.0  35.0     1.0                   0.0   \n",
       "5     10.0  0.0       1.0        1.0  27.0     0.0                   0.0   \n",
       "...    ...  ...       ...        ...   ...     ...                   ...   \n",
       "996    9.0  1.0       1.0        1.0  44.0     1.0                   0.0   \n",
       "997    3.0  0.0       1.0        1.0  33.0     0.0                   0.0   \n",
       "998    9.0  0.0       1.0        1.0  41.0     0.0                   1.0   \n",
       "999   12.0  0.0       1.0        1.0  34.0     0.0                   1.0   \n",
       "1000   6.0  0.0       0.0        1.0  31.0     1.0                   0.0   \n",
       "\n",
       "      PhysActivity  Fruits  Veggies  HvyAlcoholConsump  GenHlth  MentHlth  \\\n",
       "1              0.0     0.0      1.0                0.0      4.0       0.0   \n",
       "2              1.0     0.0      0.0                0.0      5.0       0.0   \n",
       "3              1.0     1.0      1.0                0.0      3.0       0.0   \n",
       "4              1.0     0.0      1.0                0.0      4.0       0.0   \n",
       "5              1.0     1.0      1.0                0.0      2.0       0.0   \n",
       "...            ...     ...      ...                ...      ...       ...   \n",
       "996            1.0     1.0      0.0                0.0      3.0       0.0   \n",
       "997            0.0     1.0      1.0                0.0      3.0       0.0   \n",
       "998            1.0     0.0      1.0                0.0      5.0      20.0   \n",
       "999            1.0     1.0      1.0                0.0      3.0       0.0   \n",
       "1000           1.0     0.0      1.0                0.0      3.0       1.0   \n",
       "\n",
       "      PhysHlth  DiffWalk  Stroke  HighBP  Diabetes  \n",
       "1         30.0       0.0     0.0     1.0       1.0  \n",
       "2         30.0       1.0     0.0     1.0       1.0  \n",
       "3          7.0       0.0     0.0     0.0       0.0  \n",
       "4         10.0       1.0     0.0     1.0       1.0  \n",
       "5          0.0       0.0     0.0     1.0       0.0  \n",
       "...        ...       ...     ...     ...       ...  \n",
       "996        0.0       0.0     0.0     1.0       0.0  \n",
       "997        0.0       0.0     0.0     0.0       0.0  \n",
       "998       30.0       1.0     1.0     1.0       1.0  \n",
       "999        0.0       0.0     0.0     1.0       0.0  \n",
       "1000       0.0       0.0     0.0     0.0       1.0  \n",
       "\n",
       "[1000 rows x 18 columns]"
      ]
     },
     "execution_count": 3,
     "metadata": {},
     "output_type": "execute_result"
    }
   ],
   "source": [
    "train_df"
   ]
  },
  {
   "cell_type": "code",
   "execution_count": 4,
   "id": "a1278b1f",
   "metadata": {},
   "outputs": [],
   "source": [
    "x_train = train_df.drop('Diabetes', axis=1)\n",
    "y_train = train_df['Diabetes']"
   ]
  },
  {
   "cell_type": "code",
   "execution_count": 5,
   "id": "160ef066",
   "metadata": {},
   "outputs": [
    {
     "data": {
      "text/html": [
       "<div>\n",
       "<style scoped>\n",
       "    .dataframe tbody tr th:only-of-type {\n",
       "        vertical-align: middle;\n",
       "    }\n",
       "\n",
       "    .dataframe tbody tr th {\n",
       "        vertical-align: top;\n",
       "    }\n",
       "\n",
       "    .dataframe thead th {\n",
       "        text-align: right;\n",
       "    }\n",
       "</style>\n",
       "<table border=\"1\" class=\"dataframe\">\n",
       "  <thead>\n",
       "    <tr style=\"text-align: right;\">\n",
       "      <th></th>\n",
       "      <th>Age</th>\n",
       "      <th>Sex</th>\n",
       "      <th>HighChol</th>\n",
       "      <th>CholCheck</th>\n",
       "      <th>BMI</th>\n",
       "      <th>Smoker</th>\n",
       "      <th>HeartDiseaseorAttack</th>\n",
       "      <th>PhysActivity</th>\n",
       "      <th>Fruits</th>\n",
       "      <th>Veggies</th>\n",
       "      <th>HvyAlcoholConsump</th>\n",
       "      <th>GenHlth</th>\n",
       "      <th>MentHlth</th>\n",
       "      <th>PhysHlth</th>\n",
       "      <th>DiffWalk</th>\n",
       "      <th>Stroke</th>\n",
       "      <th>HighBP</th>\n",
       "    </tr>\n",
       "  </thead>\n",
       "  <tbody>\n",
       "    <tr>\n",
       "      <th>1</th>\n",
       "      <td>10.0</td>\n",
       "      <td>1.0</td>\n",
       "      <td>1.0</td>\n",
       "      <td>1.0</td>\n",
       "      <td>33.0</td>\n",
       "      <td>0.0</td>\n",
       "      <td>0.0</td>\n",
       "      <td>0.0</td>\n",
       "      <td>0.0</td>\n",
       "      <td>1.0</td>\n",
       "      <td>0.0</td>\n",
       "      <td>4.0</td>\n",
       "      <td>0.0</td>\n",
       "      <td>30.0</td>\n",
       "      <td>0.0</td>\n",
       "      <td>0.0</td>\n",
       "      <td>1.0</td>\n",
       "    </tr>\n",
       "    <tr>\n",
       "      <th>2</th>\n",
       "      <td>10.0</td>\n",
       "      <td>1.0</td>\n",
       "      <td>0.0</td>\n",
       "      <td>1.0</td>\n",
       "      <td>21.0</td>\n",
       "      <td>0.0</td>\n",
       "      <td>1.0</td>\n",
       "      <td>1.0</td>\n",
       "      <td>0.0</td>\n",
       "      <td>0.0</td>\n",
       "      <td>0.0</td>\n",
       "      <td>5.0</td>\n",
       "      <td>0.0</td>\n",
       "      <td>30.0</td>\n",
       "      <td>1.0</td>\n",
       "      <td>0.0</td>\n",
       "      <td>1.0</td>\n",
       "    </tr>\n",
       "    <tr>\n",
       "      <th>3</th>\n",
       "      <td>4.0</td>\n",
       "      <td>0.0</td>\n",
       "      <td>0.0</td>\n",
       "      <td>1.0</td>\n",
       "      <td>32.0</td>\n",
       "      <td>0.0</td>\n",
       "      <td>0.0</td>\n",
       "      <td>1.0</td>\n",
       "      <td>1.0</td>\n",
       "      <td>1.0</td>\n",
       "      <td>0.0</td>\n",
       "      <td>3.0</td>\n",
       "      <td>0.0</td>\n",
       "      <td>7.0</td>\n",
       "      <td>0.0</td>\n",
       "      <td>0.0</td>\n",
       "      <td>0.0</td>\n",
       "    </tr>\n",
       "    <tr>\n",
       "      <th>4</th>\n",
       "      <td>11.0</td>\n",
       "      <td>1.0</td>\n",
       "      <td>1.0</td>\n",
       "      <td>1.0</td>\n",
       "      <td>35.0</td>\n",
       "      <td>1.0</td>\n",
       "      <td>0.0</td>\n",
       "      <td>1.0</td>\n",
       "      <td>0.0</td>\n",
       "      <td>1.0</td>\n",
       "      <td>0.0</td>\n",
       "      <td>4.0</td>\n",
       "      <td>0.0</td>\n",
       "      <td>10.0</td>\n",
       "      <td>1.0</td>\n",
       "      <td>0.0</td>\n",
       "      <td>1.0</td>\n",
       "    </tr>\n",
       "    <tr>\n",
       "      <th>5</th>\n",
       "      <td>10.0</td>\n",
       "      <td>0.0</td>\n",
       "      <td>1.0</td>\n",
       "      <td>1.0</td>\n",
       "      <td>27.0</td>\n",
       "      <td>0.0</td>\n",
       "      <td>0.0</td>\n",
       "      <td>1.0</td>\n",
       "      <td>1.0</td>\n",
       "      <td>1.0</td>\n",
       "      <td>0.0</td>\n",
       "      <td>2.0</td>\n",
       "      <td>0.0</td>\n",
       "      <td>0.0</td>\n",
       "      <td>0.0</td>\n",
       "      <td>0.0</td>\n",
       "      <td>1.0</td>\n",
       "    </tr>\n",
       "    <tr>\n",
       "      <th>...</th>\n",
       "      <td>...</td>\n",
       "      <td>...</td>\n",
       "      <td>...</td>\n",
       "      <td>...</td>\n",
       "      <td>...</td>\n",
       "      <td>...</td>\n",
       "      <td>...</td>\n",
       "      <td>...</td>\n",
       "      <td>...</td>\n",
       "      <td>...</td>\n",
       "      <td>...</td>\n",
       "      <td>...</td>\n",
       "      <td>...</td>\n",
       "      <td>...</td>\n",
       "      <td>...</td>\n",
       "      <td>...</td>\n",
       "      <td>...</td>\n",
       "    </tr>\n",
       "    <tr>\n",
       "      <th>996</th>\n",
       "      <td>9.0</td>\n",
       "      <td>1.0</td>\n",
       "      <td>1.0</td>\n",
       "      <td>1.0</td>\n",
       "      <td>44.0</td>\n",
       "      <td>1.0</td>\n",
       "      <td>0.0</td>\n",
       "      <td>1.0</td>\n",
       "      <td>1.0</td>\n",
       "      <td>0.0</td>\n",
       "      <td>0.0</td>\n",
       "      <td>3.0</td>\n",
       "      <td>0.0</td>\n",
       "      <td>0.0</td>\n",
       "      <td>0.0</td>\n",
       "      <td>0.0</td>\n",
       "      <td>1.0</td>\n",
       "    </tr>\n",
       "    <tr>\n",
       "      <th>997</th>\n",
       "      <td>3.0</td>\n",
       "      <td>0.0</td>\n",
       "      <td>1.0</td>\n",
       "      <td>1.0</td>\n",
       "      <td>33.0</td>\n",
       "      <td>0.0</td>\n",
       "      <td>0.0</td>\n",
       "      <td>0.0</td>\n",
       "      <td>1.0</td>\n",
       "      <td>1.0</td>\n",
       "      <td>0.0</td>\n",
       "      <td>3.0</td>\n",
       "      <td>0.0</td>\n",
       "      <td>0.0</td>\n",
       "      <td>0.0</td>\n",
       "      <td>0.0</td>\n",
       "      <td>0.0</td>\n",
       "    </tr>\n",
       "    <tr>\n",
       "      <th>998</th>\n",
       "      <td>9.0</td>\n",
       "      <td>0.0</td>\n",
       "      <td>1.0</td>\n",
       "      <td>1.0</td>\n",
       "      <td>41.0</td>\n",
       "      <td>0.0</td>\n",
       "      <td>1.0</td>\n",
       "      <td>1.0</td>\n",
       "      <td>0.0</td>\n",
       "      <td>1.0</td>\n",
       "      <td>0.0</td>\n",
       "      <td>5.0</td>\n",
       "      <td>20.0</td>\n",
       "      <td>30.0</td>\n",
       "      <td>1.0</td>\n",
       "      <td>1.0</td>\n",
       "      <td>1.0</td>\n",
       "    </tr>\n",
       "    <tr>\n",
       "      <th>999</th>\n",
       "      <td>12.0</td>\n",
       "      <td>0.0</td>\n",
       "      <td>1.0</td>\n",
       "      <td>1.0</td>\n",
       "      <td>34.0</td>\n",
       "      <td>0.0</td>\n",
       "      <td>1.0</td>\n",
       "      <td>1.0</td>\n",
       "      <td>1.0</td>\n",
       "      <td>1.0</td>\n",
       "      <td>0.0</td>\n",
       "      <td>3.0</td>\n",
       "      <td>0.0</td>\n",
       "      <td>0.0</td>\n",
       "      <td>0.0</td>\n",
       "      <td>0.0</td>\n",
       "      <td>1.0</td>\n",
       "    </tr>\n",
       "    <tr>\n",
       "      <th>1000</th>\n",
       "      <td>6.0</td>\n",
       "      <td>0.0</td>\n",
       "      <td>0.0</td>\n",
       "      <td>1.0</td>\n",
       "      <td>31.0</td>\n",
       "      <td>1.0</td>\n",
       "      <td>0.0</td>\n",
       "      <td>1.0</td>\n",
       "      <td>0.0</td>\n",
       "      <td>1.0</td>\n",
       "      <td>0.0</td>\n",
       "      <td>3.0</td>\n",
       "      <td>1.0</td>\n",
       "      <td>0.0</td>\n",
       "      <td>0.0</td>\n",
       "      <td>0.0</td>\n",
       "      <td>0.0</td>\n",
       "    </tr>\n",
       "  </tbody>\n",
       "</table>\n",
       "<p>1000 rows × 17 columns</p>\n",
       "</div>"
      ],
      "text/plain": [
       "       Age  Sex  HighChol  CholCheck   BMI  Smoker  HeartDiseaseorAttack  \\\n",
       "1     10.0  1.0       1.0        1.0  33.0     0.0                   0.0   \n",
       "2     10.0  1.0       0.0        1.0  21.0     0.0                   1.0   \n",
       "3      4.0  0.0       0.0        1.0  32.0     0.0                   0.0   \n",
       "4     11.0  1.0       1.0        1.0  35.0     1.0                   0.0   \n",
       "5     10.0  0.0       1.0        1.0  27.0     0.0                   0.0   \n",
       "...    ...  ...       ...        ...   ...     ...                   ...   \n",
       "996    9.0  1.0       1.0        1.0  44.0     1.0                   0.0   \n",
       "997    3.0  0.0       1.0        1.0  33.0     0.0                   0.0   \n",
       "998    9.0  0.0       1.0        1.0  41.0     0.0                   1.0   \n",
       "999   12.0  0.0       1.0        1.0  34.0     0.0                   1.0   \n",
       "1000   6.0  0.0       0.0        1.0  31.0     1.0                   0.0   \n",
       "\n",
       "      PhysActivity  Fruits  Veggies  HvyAlcoholConsump  GenHlth  MentHlth  \\\n",
       "1              0.0     0.0      1.0                0.0      4.0       0.0   \n",
       "2              1.0     0.0      0.0                0.0      5.0       0.0   \n",
       "3              1.0     1.0      1.0                0.0      3.0       0.0   \n",
       "4              1.0     0.0      1.0                0.0      4.0       0.0   \n",
       "5              1.0     1.0      1.0                0.0      2.0       0.0   \n",
       "...            ...     ...      ...                ...      ...       ...   \n",
       "996            1.0     1.0      0.0                0.0      3.0       0.0   \n",
       "997            0.0     1.0      1.0                0.0      3.0       0.0   \n",
       "998            1.0     0.0      1.0                0.0      5.0      20.0   \n",
       "999            1.0     1.0      1.0                0.0      3.0       0.0   \n",
       "1000           1.0     0.0      1.0                0.0      3.0       1.0   \n",
       "\n",
       "      PhysHlth  DiffWalk  Stroke  HighBP  \n",
       "1         30.0       0.0     0.0     1.0  \n",
       "2         30.0       1.0     0.0     1.0  \n",
       "3          7.0       0.0     0.0     0.0  \n",
       "4         10.0       1.0     0.0     1.0  \n",
       "5          0.0       0.0     0.0     1.0  \n",
       "...        ...       ...     ...     ...  \n",
       "996        0.0       0.0     0.0     1.0  \n",
       "997        0.0       0.0     0.0     0.0  \n",
       "998       30.0       1.0     1.0     1.0  \n",
       "999        0.0       0.0     0.0     1.0  \n",
       "1000       0.0       0.0     0.0     0.0  \n",
       "\n",
       "[1000 rows x 17 columns]"
      ]
     },
     "execution_count": 5,
     "metadata": {},
     "output_type": "execute_result"
    }
   ],
   "source": [
    "x_train"
   ]
  },
  {
   "cell_type": "code",
   "execution_count": 6,
   "id": "ea1157f3",
   "metadata": {},
   "outputs": [
    {
     "data": {
      "text/plain": [
       "1       1.0\n",
       "2       1.0\n",
       "3       0.0\n",
       "4       1.0\n",
       "5       0.0\n",
       "       ... \n",
       "996     0.0\n",
       "997     0.0\n",
       "998     1.0\n",
       "999     0.0\n",
       "1000    1.0\n",
       "Name: Diabetes, Length: 1000, dtype: float64"
      ]
     },
     "execution_count": 6,
     "metadata": {},
     "output_type": "execute_result"
    }
   ],
   "source": [
    "y_train"
   ]
  },
  {
   "cell_type": "code",
   "execution_count": 7,
   "id": "1432780a",
   "metadata": {},
   "outputs": [],
   "source": [
    "#Linear kernel\n",
    "svm = SVC(kernel='linear')"
   ]
  },
  {
   "cell_type": "code",
   "execution_count": 8,
   "id": "7cdb62c4",
   "metadata": {},
   "outputs": [],
   "source": [
    "#to avoid problems with shuffle while splitting\n",
    "k_fold = KFold(n_splits = 10, shuffle = False)"
   ]
  },
  {
   "cell_type": "code",
   "execution_count": 9,
   "id": "a27efe8b",
   "metadata": {},
   "outputs": [],
   "source": [
    "# TODO: replace by your own python code\n",
    "list_scores = cross_val_score(svm, x_train, y_train, cv = k_fold)\n",
    "cv_acc = list_scores.mean()"
   ]
  },
  {
   "cell_type": "code",
   "execution_count": 10,
   "id": "608ac59c",
   "metadata": {},
   "outputs": [
    {
     "data": {
      "text/plain": [
       "0.717"
      ]
     },
     "execution_count": 10,
     "metadata": {},
     "output_type": "execute_result"
    }
   ],
   "source": [
    "cv_acc"
   ]
  },
  {
   "cell_type": "code",
   "execution_count": 11,
   "id": "8b7c06ad",
   "metadata": {},
   "outputs": [],
   "source": [
    "#Polynomial kernel"
   ]
  },
  {
   "cell_type": "code",
   "execution_count": null,
   "id": "b805a1c0",
   "metadata": {},
   "outputs": [],
   "source": [
    "param_grid = {'degree': [1, 2, 3, 4, 5, 6, 7, 8, 9, 10,11,12,13,14,15,16,17]}\n",
    "\n",
    "svm = SVC(kernel ='poly')\n",
    "\n",
    "grid_search = GridSearchCV(svm, param_grid, cv =  k_fold)\n",
    "grid_search.fit(x_train, y_train)\n",
    "best_degree = grid_search.best_params_['degree']"
   ]
  },
  {
   "cell_type": "code",
   "execution_count": null,
   "id": "cd23bcb3",
   "metadata": {},
   "outputs": [],
   "source": [
    "best_degree"
   ]
  },
  {
   "cell_type": "code",
   "execution_count": 14,
   "id": "ec70c86c",
   "metadata": {},
   "outputs": [],
   "source": [
    "svm = SVC(kernel='poly', degree=2)\n",
    "\n",
    "#10-fold cross validation score \n",
    "list_scores = cross_val_score(svm, x_train, y_train, cv= k_fold)\n",
    "cv_acc = list_scores.mean()"
   ]
  },
  {
   "cell_type": "code",
   "execution_count": 15,
   "id": "3b503fd3",
   "metadata": {
    "scrolled": false
   },
   "outputs": [
    {
     "data": {
      "text/plain": [
       "0.7229999999999999"
      ]
     },
     "execution_count": 15,
     "metadata": {},
     "output_type": "execute_result"
    }
   ],
   "source": [
    "cv_acc"
   ]
  },
  {
   "cell_type": "code",
   "execution_count": 22,
   "id": "02e19357",
   "metadata": {
    "scrolled": true
   },
   "outputs": [
    {
     "data": {
      "text/plain": [
       "SVC(C=0.1, degree=2, gamma=0.01, kernel='poly')"
      ]
     },
     "execution_count": 22,
     "metadata": {},
     "output_type": "execute_result"
    }
   ],
   "source": [
    "svm.fit(x_train,y_train)"
   ]
  },
  {
   "cell_type": "code",
   "execution_count": 25,
   "id": "4e3e5306",
   "metadata": {},
   "outputs": [
    {
     "data": {
      "text/plain": [
       "array([316, 315])"
      ]
     },
     "execution_count": 25,
     "metadata": {},
     "output_type": "execute_result"
    }
   ],
   "source": [
    "svm.n_support_"
   ]
  },
  {
   "cell_type": "markdown",
   "id": "3e67da84",
   "metadata": {},
   "source": [
    "# Tunning without preprocessing"
   ]
  },
  {
   "cell_type": "code",
   "execution_count": 26,
   "id": "a8b37eeb",
   "metadata": {},
   "outputs": [
    {
     "data": {
      "text/plain": [
       "{'C': 0.1, 'degree': 2, 'gamma': 0.01}"
      ]
     },
     "execution_count": 26,
     "metadata": {},
     "output_type": "execute_result"
    }
   ],
   "source": [
    "param_grid = {'C': [0.1,1, 10, 25], \n",
    "              'gamma': [0.01,0.001],\n",
    "             'degree': [2,3]}\n",
    "\n",
    "svm = SVC(kernel='poly')\n",
    "\n",
    "\n",
    "grid_search = GridSearchCV(svm, param_grid, cv = k_fold )\n",
    "grid_search.fit(x_train, y_train)\n",
    "grid_search.best_params_"
   ]
  },
  {
   "cell_type": "code",
   "execution_count": 27,
   "id": "2d95e72f",
   "metadata": {
    "scrolled": true
   },
   "outputs": [
    {
     "name": "stdout",
     "output_type": "stream",
     "text": [
      "0.734\n"
     ]
    }
   ],
   "source": [
    "svm = SVC(kernel='poly', degree = 2, gamma = 0.01 , C = 0.1)\n",
    "list_scores = cross_val_score(svm, x_train, y_train, cv= k_fold)\n",
    "cv_acc = list_scores.mean()\n",
    "print(cv_acc)"
   ]
  },
  {
   "cell_type": "code",
   "execution_count": 29,
   "id": "82a3aa71",
   "metadata": {
    "scrolled": false
   },
   "outputs": [
    {
     "data": {
      "text/plain": [
       "array([316, 315])"
      ]
     },
     "execution_count": 29,
     "metadata": {},
     "output_type": "execute_result"
    }
   ],
   "source": [
    "svm.fit(x_train,y_train)\n",
    "svm.n_support_"
   ]
  },
  {
   "cell_type": "code",
   "execution_count": 56,
   "id": "fce30f8f",
   "metadata": {},
   "outputs": [
    {
     "data": {
      "text/plain": [
       "{'C': 10, 'degree': 3, 'gamma': 0.001}"
      ]
     },
     "execution_count": 56,
     "metadata": {},
     "output_type": "execute_result"
    }
   ],
   "source": [
    "param_grid = {'C': [0.1,1, 10, 25], \n",
    "              'gamma': [0.01,0.001],\n",
    "             'degree': [3]}\n",
    "\n",
    "rbf_svm = SVC(kernel='rbf')\n",
    "\n",
    "grid_search = GridSearchCV(rbf_svm, param_grid, cv = k_fold)\n",
    "grid_search.fit(x_train, y_train)\n",
    "grid_search.best_params_"
   ]
  },
  {
   "cell_type": "code",
   "execution_count": 57,
   "id": "d57e23d5",
   "metadata": {},
   "outputs": [
    {
     "name": "stdout",
     "output_type": "stream",
     "text": [
      "0.728\n"
     ]
    }
   ],
   "source": [
    "rbf_svm = SVC(kernel='rbf', C=10, gamma=0.001)\n",
    "list_scores = cross_val_score(rbf_svm, x_train, y_train, cv= k_fold)\n",
    "cv_acc = list_scores.mean()\n",
    "print(cv_acc)"
   ]
  },
  {
   "cell_type": "code",
   "execution_count": 58,
   "id": "a1b5299a",
   "metadata": {},
   "outputs": [
    {
     "data": {
      "text/plain": [
       "array([314, 318])"
      ]
     },
     "execution_count": 58,
     "metadata": {},
     "output_type": "execute_result"
    }
   ],
   "source": [
    "rbf_svm.fit(x_train,y_train)\n",
    "rbf_svm.n_support_"
   ]
  },
  {
   "cell_type": "code",
   "execution_count": null,
   "id": "2dbd4b89",
   "metadata": {},
   "outputs": [],
   "source": []
  },
  {
   "cell_type": "code",
   "execution_count": 59,
   "id": "d793f5d0",
   "metadata": {},
   "outputs": [
    {
     "data": {
      "text/plain": [
       "{'C': 10, 'degree': 3, 'gamma': 0.001}"
      ]
     },
     "execution_count": 59,
     "metadata": {},
     "output_type": "execute_result"
    }
   ],
   "source": [
    "param_grid = {'C': [0.1,1, 10, 25], \n",
    "              'gamma': [0.01,0.001],\n",
    "             'degree': [3]}\n",
    "\n",
    "sigmoid_svm = SVC(kernel='sigmoid')\n",
    "\n",
    "grid_search = GridSearchCV(sigmoid_svm, param_grid, cv = k_fold )\n",
    "grid_search.fit(x_train, y_train)\n",
    "grid_search.best_params_"
   ]
  },
  {
   "cell_type": "code",
   "execution_count": 66,
   "id": "a3b1f865",
   "metadata": {},
   "outputs": [
    {
     "name": "stdout",
     "output_type": "stream",
     "text": [
      "0.6880000000000001\n"
     ]
    }
   ],
   "source": [
    "sigmoid_svm = SVC(kernel='sigmoid', C=10, gamma=0.001)\n",
    "\n",
    "list_scores = cross_val_score(sigmoid_svm, x_train, y_train, cv= k_fold)\n",
    "cv_acc = list_scores.mean()\n",
    "print(cv_acc)"
   ]
  },
  {
   "cell_type": "code",
   "execution_count": 61,
   "id": "16fc51ba",
   "metadata": {},
   "outputs": [
    {
     "data": {
      "text/plain": [
       "array([169, 168])"
      ]
     },
     "execution_count": 61,
     "metadata": {},
     "output_type": "execute_result"
    }
   ],
   "source": [
    "sigmoid_svm.fit(x_train,y_train)\n",
    "sigmoid_svm.n_support_"
   ]
  },
  {
   "cell_type": "code",
   "execution_count": null,
   "id": "97456635",
   "metadata": {},
   "outputs": [],
   "source": []
  },
  {
   "cell_type": "code",
   "execution_count": null,
   "id": "7a14fc28",
   "metadata": {},
   "outputs": [],
   "source": []
  },
  {
   "cell_type": "code",
   "execution_count": null,
   "id": "a6c537f7",
   "metadata": {},
   "outputs": [],
   "source": []
  },
  {
   "cell_type": "code",
   "execution_count": null,
   "id": "7c3b5f63",
   "metadata": {},
   "outputs": [],
   "source": []
  },
  {
   "cell_type": "code",
   "execution_count": null,
   "id": "6721623f",
   "metadata": {},
   "outputs": [],
   "source": []
  },
  {
   "cell_type": "markdown",
   "id": "12d6e2bb",
   "metadata": {},
   "source": [
    "# Tunning with preprocessing"
   ]
  },
  {
   "cell_type": "markdown",
   "id": "9d7bc408",
   "metadata": {},
   "source": [
    "First approach by applying PCA"
   ]
  },
  {
   "cell_type": "code",
   "execution_count": 30,
   "id": "2da1a16a",
   "metadata": {},
   "outputs": [],
   "source": [
    "from sklearn.decomposition import PCA\n",
    "from sklearn.preprocessing import RobustScaler"
   ]
  },
  {
   "cell_type": "code",
   "execution_count": 31,
   "id": "7f4aaaa8",
   "metadata": {},
   "outputs": [
    {
     "name": "stdout",
     "output_type": "stream",
     "text": [
      "Shape of txt componentes before PCA:  (1000, 17)\n",
      "Shape of txt componentes after PCA:  (1000, 10)\n"
     ]
    }
   ],
   "source": [
    "#PCA is effected by scale so you need to scale the features in the data before applying PCA\n",
    "scaler  = RobustScaler()\n",
    "\n",
    "x_train_scaled = scaler.fit_transform(x_train)\n",
    "x_train_scaled = pd.DataFrame(x_train_scaled,columns= x_train.columns.values )\n",
    "\n",
    "pca = PCA(0.95)\n",
    "\n",
    "reduced_features = pca.fit_transform(x_train_scaled)\n",
    "\n",
    "print('Shape of txt componentes before PCA: ', x_train_scaled.shape)\n",
    "print('Shape of txt componentes after PCA: ', reduced_features.shape)  \n",
    "\n"
   ]
  },
  {
   "cell_type": "code",
   "execution_count": 32,
   "id": "95fa4165",
   "metadata": {},
   "outputs": [],
   "source": [
    "#We compute a dataframe with the reduced features and concatenate them to the X1_aux\n",
    "pca_columns = []\n",
    "pca_columns = pca_columns + ['pca_comp_%i' % i for i in range(reduced_features.shape[1])]\n",
    "\n",
    "x_train_reduced = pd.DataFrame(reduced_features, columns = pca_columns)"
   ]
  },
  {
   "cell_type": "code",
   "execution_count": 33,
   "id": "7d57f149",
   "metadata": {},
   "outputs": [
    {
     "data": {
      "text/html": [
       "<div>\n",
       "<style scoped>\n",
       "    .dataframe tbody tr th:only-of-type {\n",
       "        vertical-align: middle;\n",
       "    }\n",
       "\n",
       "    .dataframe tbody tr th {\n",
       "        vertical-align: top;\n",
       "    }\n",
       "\n",
       "    .dataframe thead th {\n",
       "        text-align: right;\n",
       "    }\n",
       "</style>\n",
       "<table border=\"1\" class=\"dataframe\">\n",
       "  <thead>\n",
       "    <tr style=\"text-align: right;\">\n",
       "      <th></th>\n",
       "      <th>pca_comp_0</th>\n",
       "      <th>pca_comp_1</th>\n",
       "      <th>pca_comp_2</th>\n",
       "      <th>pca_comp_3</th>\n",
       "      <th>pca_comp_4</th>\n",
       "      <th>pca_comp_5</th>\n",
       "      <th>pca_comp_6</th>\n",
       "      <th>pca_comp_7</th>\n",
       "      <th>pca_comp_8</th>\n",
       "      <th>pca_comp_9</th>\n",
       "    </tr>\n",
       "  </thead>\n",
       "  <tbody>\n",
       "    <tr>\n",
       "      <th>0</th>\n",
       "      <td>0.573716</td>\n",
       "      <td>4.213198</td>\n",
       "      <td>-0.177285</td>\n",
       "      <td>0.141835</td>\n",
       "      <td>0.222644</td>\n",
       "      <td>0.458761</td>\n",
       "      <td>0.437922</td>\n",
       "      <td>-0.718378</td>\n",
       "      <td>-0.114926</td>\n",
       "      <td>-0.568877</td>\n",
       "    </tr>\n",
       "    <tr>\n",
       "      <th>1</th>\n",
       "      <td>0.586546</td>\n",
       "      <td>4.220792</td>\n",
       "      <td>-1.604493</td>\n",
       "      <td>-0.247302</td>\n",
       "      <td>0.658812</td>\n",
       "      <td>0.268526</td>\n",
       "      <td>0.470972</td>\n",
       "      <td>-0.471880</td>\n",
       "      <td>0.117514</td>\n",
       "      <td>1.164911</td>\n",
       "    </tr>\n",
       "    <tr>\n",
       "      <th>2</th>\n",
       "      <td>-0.976502</td>\n",
       "      <td>0.432652</td>\n",
       "      <td>-0.126991</td>\n",
       "      <td>1.381657</td>\n",
       "      <td>-0.725540</td>\n",
       "      <td>-0.049732</td>\n",
       "      <td>-0.183228</td>\n",
       "      <td>0.017740</td>\n",
       "      <td>0.111644</td>\n",
       "      <td>0.293721</td>\n",
       "    </tr>\n",
       "    <tr>\n",
       "      <th>3</th>\n",
       "      <td>-0.591685</td>\n",
       "      <td>1.449771</td>\n",
       "      <td>0.776661</td>\n",
       "      <td>-0.635119</td>\n",
       "      <td>0.730370</td>\n",
       "      <td>-0.218401</td>\n",
       "      <td>-0.263321</td>\n",
       "      <td>-0.161289</td>\n",
       "      <td>-0.285897</td>\n",
       "      <td>0.248416</td>\n",
       "    </tr>\n",
       "    <tr>\n",
       "      <th>4</th>\n",
       "      <td>-1.456629</td>\n",
       "      <td>-0.489096</td>\n",
       "      <td>-0.096578</td>\n",
       "      <td>-0.610336</td>\n",
       "      <td>-0.774614</td>\n",
       "      <td>0.221351</td>\n",
       "      <td>-0.362250</td>\n",
       "      <td>-0.398414</td>\n",
       "      <td>-0.312676</td>\n",
       "      <td>-0.097660</td>\n",
       "    </tr>\n",
       "    <tr>\n",
       "      <th>...</th>\n",
       "      <td>...</td>\n",
       "      <td>...</td>\n",
       "      <td>...</td>\n",
       "      <td>...</td>\n",
       "      <td>...</td>\n",
       "      <td>...</td>\n",
       "      <td>...</td>\n",
       "      <td>...</td>\n",
       "      <td>...</td>\n",
       "      <td>...</td>\n",
       "    </tr>\n",
       "    <tr>\n",
       "      <th>995</th>\n",
       "      <td>-1.268467</td>\n",
       "      <td>-0.126041</td>\n",
       "      <td>1.926662</td>\n",
       "      <td>-0.156721</td>\n",
       "      <td>0.476229</td>\n",
       "      <td>-0.701462</td>\n",
       "      <td>-0.413202</td>\n",
       "      <td>-0.222469</td>\n",
       "      <td>0.074182</td>\n",
       "      <td>-0.206162</td>\n",
       "    </tr>\n",
       "    <tr>\n",
       "      <th>996</th>\n",
       "      <td>-1.351219</td>\n",
       "      <td>-0.508290</td>\n",
       "      <td>0.423852</td>\n",
       "      <td>1.124823</td>\n",
       "      <td>-0.458820</td>\n",
       "      <td>0.791783</td>\n",
       "      <td>-0.646185</td>\n",
       "      <td>0.027487</td>\n",
       "      <td>0.680150</td>\n",
       "      <td>-0.531667</td>\n",
       "    </tr>\n",
       "    <tr>\n",
       "      <th>997</th>\n",
       "      <td>6.886425</td>\n",
       "      <td>1.861509</td>\n",
       "      <td>0.778329</td>\n",
       "      <td>0.049465</td>\n",
       "      <td>-0.375190</td>\n",
       "      <td>0.257779</td>\n",
       "      <td>-0.047056</td>\n",
       "      <td>-0.660832</td>\n",
       "      <td>-0.514832</td>\n",
       "      <td>0.508691</td>\n",
       "    </tr>\n",
       "    <tr>\n",
       "      <th>998</th>\n",
       "      <td>-1.341674</td>\n",
       "      <td>-0.209546</td>\n",
       "      <td>0.846353</td>\n",
       "      <td>-0.992268</td>\n",
       "      <td>-0.767202</td>\n",
       "      <td>0.095407</td>\n",
       "      <td>-0.221782</td>\n",
       "      <td>-0.355861</td>\n",
       "      <td>-0.165058</td>\n",
       "      <td>0.233362</td>\n",
       "    </tr>\n",
       "    <tr>\n",
       "      <th>999</th>\n",
       "      <td>-1.070263</td>\n",
       "      <td>-0.643618</td>\n",
       "      <td>0.098044</td>\n",
       "      <td>0.752656</td>\n",
       "      <td>0.269345</td>\n",
       "      <td>-0.034121</td>\n",
       "      <td>-0.171375</td>\n",
       "      <td>0.728482</td>\n",
       "      <td>-0.523926</td>\n",
       "      <td>0.387828</td>\n",
       "    </tr>\n",
       "  </tbody>\n",
       "</table>\n",
       "<p>1000 rows × 10 columns</p>\n",
       "</div>"
      ],
      "text/plain": [
       "     pca_comp_0  pca_comp_1  pca_comp_2  pca_comp_3  pca_comp_4  pca_comp_5  \\\n",
       "0      0.573716    4.213198   -0.177285    0.141835    0.222644    0.458761   \n",
       "1      0.586546    4.220792   -1.604493   -0.247302    0.658812    0.268526   \n",
       "2     -0.976502    0.432652   -0.126991    1.381657   -0.725540   -0.049732   \n",
       "3     -0.591685    1.449771    0.776661   -0.635119    0.730370   -0.218401   \n",
       "4     -1.456629   -0.489096   -0.096578   -0.610336   -0.774614    0.221351   \n",
       "..          ...         ...         ...         ...         ...         ...   \n",
       "995   -1.268467   -0.126041    1.926662   -0.156721    0.476229   -0.701462   \n",
       "996   -1.351219   -0.508290    0.423852    1.124823   -0.458820    0.791783   \n",
       "997    6.886425    1.861509    0.778329    0.049465   -0.375190    0.257779   \n",
       "998   -1.341674   -0.209546    0.846353   -0.992268   -0.767202    0.095407   \n",
       "999   -1.070263   -0.643618    0.098044    0.752656    0.269345   -0.034121   \n",
       "\n",
       "     pca_comp_6  pca_comp_7  pca_comp_8  pca_comp_9  \n",
       "0      0.437922   -0.718378   -0.114926   -0.568877  \n",
       "1      0.470972   -0.471880    0.117514    1.164911  \n",
       "2     -0.183228    0.017740    0.111644    0.293721  \n",
       "3     -0.263321   -0.161289   -0.285897    0.248416  \n",
       "4     -0.362250   -0.398414   -0.312676   -0.097660  \n",
       "..          ...         ...         ...         ...  \n",
       "995   -0.413202   -0.222469    0.074182   -0.206162  \n",
       "996   -0.646185    0.027487    0.680150   -0.531667  \n",
       "997   -0.047056   -0.660832   -0.514832    0.508691  \n",
       "998   -0.221782   -0.355861   -0.165058    0.233362  \n",
       "999   -0.171375    0.728482   -0.523926    0.387828  \n",
       "\n",
       "[1000 rows x 10 columns]"
      ]
     },
     "execution_count": 33,
     "metadata": {},
     "output_type": "execute_result"
    }
   ],
   "source": [
    "x_train_reduced"
   ]
  },
  {
   "cell_type": "code",
   "execution_count": 34,
   "id": "f4e7caa5",
   "metadata": {},
   "outputs": [
    {
     "data": {
      "text/plain": [
       "{'C': 25, 'degree': 3, 'gamma': 0.01}"
      ]
     },
     "execution_count": 34,
     "metadata": {},
     "output_type": "execute_result"
    }
   ],
   "source": [
    "param_grid = {'C': [0.1,1, 10, 25], \n",
    "              'gamma': [0.01,0.001],\n",
    "             'degree': [2,3]}\n",
    "\n",
    "\n",
    "svm = SVC(kernel='poly')\n",
    "\n",
    "grid_search = GridSearchCV(svm, param_grid, cv = k_fold)\n",
    "grid_search.fit(x_train_reduced, y_train)\n",
    "grid_search.best_params_"
   ]
  },
  {
   "cell_type": "code",
   "execution_count": 35,
   "id": "8a78ac76",
   "metadata": {
    "scrolled": true
   },
   "outputs": [
    {
     "name": "stdout",
     "output_type": "stream",
     "text": [
      "0.592\n"
     ]
    }
   ],
   "source": [
    "svm = SVC(kernel='poly', degree = 3, gamma = 0.01 , C = 25)\n",
    "list_scores = cross_val_score(svm, x_train_reduced, y_train, cv=k_fold)\n",
    "cv_acc = list_scores.mean()\n",
    "print(cv_acc)"
   ]
  },
  {
   "cell_type": "code",
   "execution_count": 37,
   "id": "ec82118b",
   "metadata": {},
   "outputs": [
    {
     "data": {
      "text/plain": [
       "array([420, 416])"
      ]
     },
     "execution_count": 37,
     "metadata": {},
     "output_type": "execute_result"
    }
   ],
   "source": [
    "svm.fit(x_train_reduced,y_train)\n",
    "svm.n_support_"
   ]
  },
  {
   "cell_type": "code",
   "execution_count": 38,
   "id": "988b9251",
   "metadata": {
    "scrolled": true
   },
   "outputs": [
    {
     "data": {
      "text/plain": [
       "array(['Age', 'Sex', 'HighChol', 'CholCheck', 'BMI', 'Smoker',\n",
       "       'HeartDiseaseorAttack', 'PhysActivity', 'Fruits', 'Veggies',\n",
       "       'HvyAlcoholConsump', 'GenHlth', 'MentHlth', 'PhysHlth', 'DiffWalk',\n",
       "       'Stroke', 'HighBP'], dtype=object)"
      ]
     },
     "execution_count": 38,
     "metadata": {},
     "output_type": "execute_result"
    }
   ],
   "source": [
    "#Another preprocessing JUST A PROBE\n",
    "thresholder = VarianceThreshold(threshold=0)\n",
    "thresholder.fit(x_train)\n",
    "thresholder.get_feature_names_out(x_train.columns.values)"
   ]
  },
  {
   "cell_type": "code",
   "execution_count": 22,
   "id": "a1c746e5",
   "metadata": {},
   "outputs": [],
   "source": [
    "#x_train_reduced = x_train.drop(['BMI', 'MentHlth', 'PhysHlth'], axis=1)\n",
    "x_train_reduced = train_df.loc[:,['Age', 'Sex', 'HighChol', 'CholCheck', 'BMI', 'Smoker',\n",
    "       'HeartDiseaseorAttack', 'PhysActivity', 'Fruits', 'Veggies',\n",
    "       'HvyAlcoholConsump', 'GenHlth', 'MentHlth', 'PhysHlth', 'DiffWalk',\n",
    "       'Stroke', 'HighBP']]\n"
   ]
  },
  {
   "cell_type": "code",
   "execution_count": 23,
   "id": "4c5c9e33",
   "metadata": {
    "scrolled": false
   },
   "outputs": [
    {
     "data": {
      "text/html": [
       "<div>\n",
       "<style scoped>\n",
       "    .dataframe tbody tr th:only-of-type {\n",
       "        vertical-align: middle;\n",
       "    }\n",
       "\n",
       "    .dataframe tbody tr th {\n",
       "        vertical-align: top;\n",
       "    }\n",
       "\n",
       "    .dataframe thead th {\n",
       "        text-align: right;\n",
       "    }\n",
       "</style>\n",
       "<table border=\"1\" class=\"dataframe\">\n",
       "  <thead>\n",
       "    <tr style=\"text-align: right;\">\n",
       "      <th></th>\n",
       "      <th>Age</th>\n",
       "      <th>Sex</th>\n",
       "      <th>HighChol</th>\n",
       "      <th>CholCheck</th>\n",
       "      <th>BMI</th>\n",
       "      <th>Smoker</th>\n",
       "      <th>HeartDiseaseorAttack</th>\n",
       "      <th>PhysActivity</th>\n",
       "      <th>Fruits</th>\n",
       "      <th>Veggies</th>\n",
       "      <th>HvyAlcoholConsump</th>\n",
       "      <th>GenHlth</th>\n",
       "      <th>MentHlth</th>\n",
       "      <th>PhysHlth</th>\n",
       "      <th>DiffWalk</th>\n",
       "      <th>Stroke</th>\n",
       "      <th>HighBP</th>\n",
       "    </tr>\n",
       "  </thead>\n",
       "  <tbody>\n",
       "    <tr>\n",
       "      <th>1</th>\n",
       "      <td>10.0</td>\n",
       "      <td>1.0</td>\n",
       "      <td>1.0</td>\n",
       "      <td>1.0</td>\n",
       "      <td>33.0</td>\n",
       "      <td>0.0</td>\n",
       "      <td>0.0</td>\n",
       "      <td>0.0</td>\n",
       "      <td>0.0</td>\n",
       "      <td>1.0</td>\n",
       "      <td>0.0</td>\n",
       "      <td>4.0</td>\n",
       "      <td>0.0</td>\n",
       "      <td>30.0</td>\n",
       "      <td>0.0</td>\n",
       "      <td>0.0</td>\n",
       "      <td>1.0</td>\n",
       "    </tr>\n",
       "    <tr>\n",
       "      <th>2</th>\n",
       "      <td>10.0</td>\n",
       "      <td>1.0</td>\n",
       "      <td>0.0</td>\n",
       "      <td>1.0</td>\n",
       "      <td>21.0</td>\n",
       "      <td>0.0</td>\n",
       "      <td>1.0</td>\n",
       "      <td>1.0</td>\n",
       "      <td>0.0</td>\n",
       "      <td>0.0</td>\n",
       "      <td>0.0</td>\n",
       "      <td>5.0</td>\n",
       "      <td>0.0</td>\n",
       "      <td>30.0</td>\n",
       "      <td>1.0</td>\n",
       "      <td>0.0</td>\n",
       "      <td>1.0</td>\n",
       "    </tr>\n",
       "    <tr>\n",
       "      <th>3</th>\n",
       "      <td>4.0</td>\n",
       "      <td>0.0</td>\n",
       "      <td>0.0</td>\n",
       "      <td>1.0</td>\n",
       "      <td>32.0</td>\n",
       "      <td>0.0</td>\n",
       "      <td>0.0</td>\n",
       "      <td>1.0</td>\n",
       "      <td>1.0</td>\n",
       "      <td>1.0</td>\n",
       "      <td>0.0</td>\n",
       "      <td>3.0</td>\n",
       "      <td>0.0</td>\n",
       "      <td>7.0</td>\n",
       "      <td>0.0</td>\n",
       "      <td>0.0</td>\n",
       "      <td>0.0</td>\n",
       "    </tr>\n",
       "    <tr>\n",
       "      <th>4</th>\n",
       "      <td>11.0</td>\n",
       "      <td>1.0</td>\n",
       "      <td>1.0</td>\n",
       "      <td>1.0</td>\n",
       "      <td>35.0</td>\n",
       "      <td>1.0</td>\n",
       "      <td>0.0</td>\n",
       "      <td>1.0</td>\n",
       "      <td>0.0</td>\n",
       "      <td>1.0</td>\n",
       "      <td>0.0</td>\n",
       "      <td>4.0</td>\n",
       "      <td>0.0</td>\n",
       "      <td>10.0</td>\n",
       "      <td>1.0</td>\n",
       "      <td>0.0</td>\n",
       "      <td>1.0</td>\n",
       "    </tr>\n",
       "    <tr>\n",
       "      <th>5</th>\n",
       "      <td>10.0</td>\n",
       "      <td>0.0</td>\n",
       "      <td>1.0</td>\n",
       "      <td>1.0</td>\n",
       "      <td>27.0</td>\n",
       "      <td>0.0</td>\n",
       "      <td>0.0</td>\n",
       "      <td>1.0</td>\n",
       "      <td>1.0</td>\n",
       "      <td>1.0</td>\n",
       "      <td>0.0</td>\n",
       "      <td>2.0</td>\n",
       "      <td>0.0</td>\n",
       "      <td>0.0</td>\n",
       "      <td>0.0</td>\n",
       "      <td>0.0</td>\n",
       "      <td>1.0</td>\n",
       "    </tr>\n",
       "    <tr>\n",
       "      <th>...</th>\n",
       "      <td>...</td>\n",
       "      <td>...</td>\n",
       "      <td>...</td>\n",
       "      <td>...</td>\n",
       "      <td>...</td>\n",
       "      <td>...</td>\n",
       "      <td>...</td>\n",
       "      <td>...</td>\n",
       "      <td>...</td>\n",
       "      <td>...</td>\n",
       "      <td>...</td>\n",
       "      <td>...</td>\n",
       "      <td>...</td>\n",
       "      <td>...</td>\n",
       "      <td>...</td>\n",
       "      <td>...</td>\n",
       "      <td>...</td>\n",
       "    </tr>\n",
       "    <tr>\n",
       "      <th>996</th>\n",
       "      <td>9.0</td>\n",
       "      <td>1.0</td>\n",
       "      <td>1.0</td>\n",
       "      <td>1.0</td>\n",
       "      <td>44.0</td>\n",
       "      <td>1.0</td>\n",
       "      <td>0.0</td>\n",
       "      <td>1.0</td>\n",
       "      <td>1.0</td>\n",
       "      <td>0.0</td>\n",
       "      <td>0.0</td>\n",
       "      <td>3.0</td>\n",
       "      <td>0.0</td>\n",
       "      <td>0.0</td>\n",
       "      <td>0.0</td>\n",
       "      <td>0.0</td>\n",
       "      <td>1.0</td>\n",
       "    </tr>\n",
       "    <tr>\n",
       "      <th>997</th>\n",
       "      <td>3.0</td>\n",
       "      <td>0.0</td>\n",
       "      <td>1.0</td>\n",
       "      <td>1.0</td>\n",
       "      <td>33.0</td>\n",
       "      <td>0.0</td>\n",
       "      <td>0.0</td>\n",
       "      <td>0.0</td>\n",
       "      <td>1.0</td>\n",
       "      <td>1.0</td>\n",
       "      <td>0.0</td>\n",
       "      <td>3.0</td>\n",
       "      <td>0.0</td>\n",
       "      <td>0.0</td>\n",
       "      <td>0.0</td>\n",
       "      <td>0.0</td>\n",
       "      <td>0.0</td>\n",
       "    </tr>\n",
       "    <tr>\n",
       "      <th>998</th>\n",
       "      <td>9.0</td>\n",
       "      <td>0.0</td>\n",
       "      <td>1.0</td>\n",
       "      <td>1.0</td>\n",
       "      <td>41.0</td>\n",
       "      <td>0.0</td>\n",
       "      <td>1.0</td>\n",
       "      <td>1.0</td>\n",
       "      <td>0.0</td>\n",
       "      <td>1.0</td>\n",
       "      <td>0.0</td>\n",
       "      <td>5.0</td>\n",
       "      <td>20.0</td>\n",
       "      <td>30.0</td>\n",
       "      <td>1.0</td>\n",
       "      <td>1.0</td>\n",
       "      <td>1.0</td>\n",
       "    </tr>\n",
       "    <tr>\n",
       "      <th>999</th>\n",
       "      <td>12.0</td>\n",
       "      <td>0.0</td>\n",
       "      <td>1.0</td>\n",
       "      <td>1.0</td>\n",
       "      <td>34.0</td>\n",
       "      <td>0.0</td>\n",
       "      <td>1.0</td>\n",
       "      <td>1.0</td>\n",
       "      <td>1.0</td>\n",
       "      <td>1.0</td>\n",
       "      <td>0.0</td>\n",
       "      <td>3.0</td>\n",
       "      <td>0.0</td>\n",
       "      <td>0.0</td>\n",
       "      <td>0.0</td>\n",
       "      <td>0.0</td>\n",
       "      <td>1.0</td>\n",
       "    </tr>\n",
       "    <tr>\n",
       "      <th>1000</th>\n",
       "      <td>6.0</td>\n",
       "      <td>0.0</td>\n",
       "      <td>0.0</td>\n",
       "      <td>1.0</td>\n",
       "      <td>31.0</td>\n",
       "      <td>1.0</td>\n",
       "      <td>0.0</td>\n",
       "      <td>1.0</td>\n",
       "      <td>0.0</td>\n",
       "      <td>1.0</td>\n",
       "      <td>0.0</td>\n",
       "      <td>3.0</td>\n",
       "      <td>1.0</td>\n",
       "      <td>0.0</td>\n",
       "      <td>0.0</td>\n",
       "      <td>0.0</td>\n",
       "      <td>0.0</td>\n",
       "    </tr>\n",
       "  </tbody>\n",
       "</table>\n",
       "<p>1000 rows × 17 columns</p>\n",
       "</div>"
      ],
      "text/plain": [
       "       Age  Sex  HighChol  CholCheck   BMI  Smoker  HeartDiseaseorAttack  \\\n",
       "1     10.0  1.0       1.0        1.0  33.0     0.0                   0.0   \n",
       "2     10.0  1.0       0.0        1.0  21.0     0.0                   1.0   \n",
       "3      4.0  0.0       0.0        1.0  32.0     0.0                   0.0   \n",
       "4     11.0  1.0       1.0        1.0  35.0     1.0                   0.0   \n",
       "5     10.0  0.0       1.0        1.0  27.0     0.0                   0.0   \n",
       "...    ...  ...       ...        ...   ...     ...                   ...   \n",
       "996    9.0  1.0       1.0        1.0  44.0     1.0                   0.0   \n",
       "997    3.0  0.0       1.0        1.0  33.0     0.0                   0.0   \n",
       "998    9.0  0.0       1.0        1.0  41.0     0.0                   1.0   \n",
       "999   12.0  0.0       1.0        1.0  34.0     0.0                   1.0   \n",
       "1000   6.0  0.0       0.0        1.0  31.0     1.0                   0.0   \n",
       "\n",
       "      PhysActivity  Fruits  Veggies  HvyAlcoholConsump  GenHlth  MentHlth  \\\n",
       "1              0.0     0.0      1.0                0.0      4.0       0.0   \n",
       "2              1.0     0.0      0.0                0.0      5.0       0.0   \n",
       "3              1.0     1.0      1.0                0.0      3.0       0.0   \n",
       "4              1.0     0.0      1.0                0.0      4.0       0.0   \n",
       "5              1.0     1.0      1.0                0.0      2.0       0.0   \n",
       "...            ...     ...      ...                ...      ...       ...   \n",
       "996            1.0     1.0      0.0                0.0      3.0       0.0   \n",
       "997            0.0     1.0      1.0                0.0      3.0       0.0   \n",
       "998            1.0     0.0      1.0                0.0      5.0      20.0   \n",
       "999            1.0     1.0      1.0                0.0      3.0       0.0   \n",
       "1000           1.0     0.0      1.0                0.0      3.0       1.0   \n",
       "\n",
       "      PhysHlth  DiffWalk  Stroke  HighBP  \n",
       "1         30.0       0.0     0.0     1.0  \n",
       "2         30.0       1.0     0.0     1.0  \n",
       "3          7.0       0.0     0.0     0.0  \n",
       "4         10.0       1.0     0.0     1.0  \n",
       "5          0.0       0.0     0.0     1.0  \n",
       "...        ...       ...     ...     ...  \n",
       "996        0.0       0.0     0.0     1.0  \n",
       "997        0.0       0.0     0.0     0.0  \n",
       "998       30.0       1.0     1.0     1.0  \n",
       "999        0.0       0.0     0.0     1.0  \n",
       "1000       0.0       0.0     0.0     0.0  \n",
       "\n",
       "[1000 rows x 17 columns]"
      ]
     },
     "execution_count": 23,
     "metadata": {},
     "output_type": "execute_result"
    }
   ],
   "source": [
    "x_train_reduced"
   ]
  },
  {
   "cell_type": "markdown",
   "id": "195e92e1",
   "metadata": {},
   "source": [
    "# PREPROCESSING JUST STANDARD SCALER"
   ]
  },
  {
   "cell_type": "code",
   "execution_count": 40,
   "id": "51782289",
   "metadata": {},
   "outputs": [],
   "source": [
    "scaler  = StandardScaler()\n",
    "\n",
    "x_train_scaled = scaler.fit_transform(x_train)\n",
    "x_train_scaled = pd.DataFrame(x_train_scaled,columns= x_train.columns.values )"
   ]
  },
  {
   "cell_type": "code",
   "execution_count": 41,
   "id": "006daec9",
   "metadata": {},
   "outputs": [
    {
     "data": {
      "text/html": [
       "<div>\n",
       "<style scoped>\n",
       "    .dataframe tbody tr th:only-of-type {\n",
       "        vertical-align: middle;\n",
       "    }\n",
       "\n",
       "    .dataframe tbody tr th {\n",
       "        vertical-align: top;\n",
       "    }\n",
       "\n",
       "    .dataframe thead th {\n",
       "        text-align: right;\n",
       "    }\n",
       "</style>\n",
       "<table border=\"1\" class=\"dataframe\">\n",
       "  <thead>\n",
       "    <tr style=\"text-align: right;\">\n",
       "      <th></th>\n",
       "      <th>Age</th>\n",
       "      <th>Sex</th>\n",
       "      <th>HighChol</th>\n",
       "      <th>CholCheck</th>\n",
       "      <th>BMI</th>\n",
       "      <th>Smoker</th>\n",
       "      <th>HeartDiseaseorAttack</th>\n",
       "      <th>PhysActivity</th>\n",
       "      <th>Fruits</th>\n",
       "      <th>Veggies</th>\n",
       "      <th>HvyAlcoholConsump</th>\n",
       "      <th>GenHlth</th>\n",
       "      <th>MentHlth</th>\n",
       "      <th>PhysHlth</th>\n",
       "      <th>DiffWalk</th>\n",
       "      <th>Stroke</th>\n",
       "      <th>HighBP</th>\n",
       "    </tr>\n",
       "  </thead>\n",
       "  <tbody>\n",
       "    <tr>\n",
       "      <th>0</th>\n",
       "      <td>0.521014</td>\n",
       "      <td>1.055540</td>\n",
       "      <td>0.955011</td>\n",
       "      <td>0.153432</td>\n",
       "      <td>0.405944</td>\n",
       "      <td>-0.919249</td>\n",
       "      <td>-0.415130</td>\n",
       "      <td>-1.471243</td>\n",
       "      <td>-1.192186</td>\n",
       "      <td>0.512471</td>\n",
       "      <td>-0.217072</td>\n",
       "      <td>1.040040</td>\n",
       "      <td>-0.457700</td>\n",
       "      <td>2.442865</td>\n",
       "      <td>-0.581969</td>\n",
       "      <td>-0.248135</td>\n",
       "      <td>0.955011</td>\n",
       "    </tr>\n",
       "    <tr>\n",
       "      <th>1</th>\n",
       "      <td>0.521014</td>\n",
       "      <td>1.055540</td>\n",
       "      <td>-1.047108</td>\n",
       "      <td>0.153432</td>\n",
       "      <td>-1.210289</td>\n",
       "      <td>-0.919249</td>\n",
       "      <td>2.408884</td>\n",
       "      <td>0.679697</td>\n",
       "      <td>-1.192186</td>\n",
       "      <td>-1.951331</td>\n",
       "      <td>-0.217072</td>\n",
       "      <td>1.934313</td>\n",
       "      <td>-0.457700</td>\n",
       "      <td>2.442865</td>\n",
       "      <td>1.718304</td>\n",
       "      <td>-0.248135</td>\n",
       "      <td>0.955011</td>\n",
       "    </tr>\n",
       "    <tr>\n",
       "      <th>2</th>\n",
       "      <td>-1.493215</td>\n",
       "      <td>-0.947382</td>\n",
       "      <td>-1.047108</td>\n",
       "      <td>0.153432</td>\n",
       "      <td>0.271258</td>\n",
       "      <td>-0.919249</td>\n",
       "      <td>-0.415130</td>\n",
       "      <td>0.679697</td>\n",
       "      <td>0.838795</td>\n",
       "      <td>0.512471</td>\n",
       "      <td>-0.217072</td>\n",
       "      <td>0.145767</td>\n",
       "      <td>-0.457700</td>\n",
       "      <td>0.131259</td>\n",
       "      <td>-0.581969</td>\n",
       "      <td>-0.248135</td>\n",
       "      <td>-1.047108</td>\n",
       "    </tr>\n",
       "    <tr>\n",
       "      <th>3</th>\n",
       "      <td>0.856719</td>\n",
       "      <td>1.055540</td>\n",
       "      <td>0.955011</td>\n",
       "      <td>0.153432</td>\n",
       "      <td>0.675316</td>\n",
       "      <td>1.087845</td>\n",
       "      <td>-0.415130</td>\n",
       "      <td>0.679697</td>\n",
       "      <td>-1.192186</td>\n",
       "      <td>0.512471</td>\n",
       "      <td>-0.217072</td>\n",
       "      <td>1.040040</td>\n",
       "      <td>-0.457700</td>\n",
       "      <td>0.432773</td>\n",
       "      <td>1.718304</td>\n",
       "      <td>-0.248135</td>\n",
       "      <td>0.955011</td>\n",
       "    </tr>\n",
       "    <tr>\n",
       "      <th>4</th>\n",
       "      <td>0.521014</td>\n",
       "      <td>-0.947382</td>\n",
       "      <td>0.955011</td>\n",
       "      <td>0.153432</td>\n",
       "      <td>-0.402172</td>\n",
       "      <td>-0.919249</td>\n",
       "      <td>-0.415130</td>\n",
       "      <td>0.679697</td>\n",
       "      <td>0.838795</td>\n",
       "      <td>0.512471</td>\n",
       "      <td>-0.217072</td>\n",
       "      <td>-0.748507</td>\n",
       "      <td>-0.457700</td>\n",
       "      <td>-0.572273</td>\n",
       "      <td>-0.581969</td>\n",
       "      <td>-0.248135</td>\n",
       "      <td>0.955011</td>\n",
       "    </tr>\n",
       "    <tr>\n",
       "      <th>...</th>\n",
       "      <td>...</td>\n",
       "      <td>...</td>\n",
       "      <td>...</td>\n",
       "      <td>...</td>\n",
       "      <td>...</td>\n",
       "      <td>...</td>\n",
       "      <td>...</td>\n",
       "      <td>...</td>\n",
       "      <td>...</td>\n",
       "      <td>...</td>\n",
       "      <td>...</td>\n",
       "      <td>...</td>\n",
       "      <td>...</td>\n",
       "      <td>...</td>\n",
       "      <td>...</td>\n",
       "      <td>...</td>\n",
       "      <td>...</td>\n",
       "    </tr>\n",
       "    <tr>\n",
       "      <th>995</th>\n",
       "      <td>0.185309</td>\n",
       "      <td>1.055540</td>\n",
       "      <td>0.955011</td>\n",
       "      <td>0.153432</td>\n",
       "      <td>1.887490</td>\n",
       "      <td>1.087845</td>\n",
       "      <td>-0.415130</td>\n",
       "      <td>0.679697</td>\n",
       "      <td>0.838795</td>\n",
       "      <td>-1.951331</td>\n",
       "      <td>-0.217072</td>\n",
       "      <td>0.145767</td>\n",
       "      <td>-0.457700</td>\n",
       "      <td>-0.572273</td>\n",
       "      <td>-0.581969</td>\n",
       "      <td>-0.248135</td>\n",
       "      <td>0.955011</td>\n",
       "    </tr>\n",
       "    <tr>\n",
       "      <th>996</th>\n",
       "      <td>-1.828920</td>\n",
       "      <td>-0.947382</td>\n",
       "      <td>0.955011</td>\n",
       "      <td>0.153432</td>\n",
       "      <td>0.405944</td>\n",
       "      <td>-0.919249</td>\n",
       "      <td>-0.415130</td>\n",
       "      <td>-1.471243</td>\n",
       "      <td>0.838795</td>\n",
       "      <td>0.512471</td>\n",
       "      <td>-0.217072</td>\n",
       "      <td>0.145767</td>\n",
       "      <td>-0.457700</td>\n",
       "      <td>-0.572273</td>\n",
       "      <td>-0.581969</td>\n",
       "      <td>-0.248135</td>\n",
       "      <td>-1.047108</td>\n",
       "    </tr>\n",
       "    <tr>\n",
       "      <th>997</th>\n",
       "      <td>0.185309</td>\n",
       "      <td>-0.947382</td>\n",
       "      <td>0.955011</td>\n",
       "      <td>0.153432</td>\n",
       "      <td>1.483432</td>\n",
       "      <td>-0.919249</td>\n",
       "      <td>2.408884</td>\n",
       "      <td>0.679697</td>\n",
       "      <td>-1.192186</td>\n",
       "      <td>0.512471</td>\n",
       "      <td>-0.217072</td>\n",
       "      <td>1.934313</td>\n",
       "      <td>2.276468</td>\n",
       "      <td>2.442865</td>\n",
       "      <td>1.718304</td>\n",
       "      <td>4.030059</td>\n",
       "      <td>0.955011</td>\n",
       "    </tr>\n",
       "    <tr>\n",
       "      <th>998</th>\n",
       "      <td>1.192423</td>\n",
       "      <td>-0.947382</td>\n",
       "      <td>0.955011</td>\n",
       "      <td>0.153432</td>\n",
       "      <td>0.540630</td>\n",
       "      <td>-0.919249</td>\n",
       "      <td>2.408884</td>\n",
       "      <td>0.679697</td>\n",
       "      <td>0.838795</td>\n",
       "      <td>0.512471</td>\n",
       "      <td>-0.217072</td>\n",
       "      <td>0.145767</td>\n",
       "      <td>-0.457700</td>\n",
       "      <td>-0.572273</td>\n",
       "      <td>-0.581969</td>\n",
       "      <td>-0.248135</td>\n",
       "      <td>0.955011</td>\n",
       "    </tr>\n",
       "    <tr>\n",
       "      <th>999</th>\n",
       "      <td>-0.821805</td>\n",
       "      <td>-0.947382</td>\n",
       "      <td>-1.047108</td>\n",
       "      <td>0.153432</td>\n",
       "      <td>0.136572</td>\n",
       "      <td>1.087845</td>\n",
       "      <td>-0.415130</td>\n",
       "      <td>0.679697</td>\n",
       "      <td>-1.192186</td>\n",
       "      <td>0.512471</td>\n",
       "      <td>-0.217072</td>\n",
       "      <td>0.145767</td>\n",
       "      <td>-0.320991</td>\n",
       "      <td>-0.572273</td>\n",
       "      <td>-0.581969</td>\n",
       "      <td>-0.248135</td>\n",
       "      <td>-1.047108</td>\n",
       "    </tr>\n",
       "  </tbody>\n",
       "</table>\n",
       "<p>1000 rows × 17 columns</p>\n",
       "</div>"
      ],
      "text/plain": [
       "          Age       Sex  HighChol  CholCheck       BMI    Smoker  \\\n",
       "0    0.521014  1.055540  0.955011   0.153432  0.405944 -0.919249   \n",
       "1    0.521014  1.055540 -1.047108   0.153432 -1.210289 -0.919249   \n",
       "2   -1.493215 -0.947382 -1.047108   0.153432  0.271258 -0.919249   \n",
       "3    0.856719  1.055540  0.955011   0.153432  0.675316  1.087845   \n",
       "4    0.521014 -0.947382  0.955011   0.153432 -0.402172 -0.919249   \n",
       "..        ...       ...       ...        ...       ...       ...   \n",
       "995  0.185309  1.055540  0.955011   0.153432  1.887490  1.087845   \n",
       "996 -1.828920 -0.947382  0.955011   0.153432  0.405944 -0.919249   \n",
       "997  0.185309 -0.947382  0.955011   0.153432  1.483432 -0.919249   \n",
       "998  1.192423 -0.947382  0.955011   0.153432  0.540630 -0.919249   \n",
       "999 -0.821805 -0.947382 -1.047108   0.153432  0.136572  1.087845   \n",
       "\n",
       "     HeartDiseaseorAttack  PhysActivity    Fruits   Veggies  \\\n",
       "0               -0.415130     -1.471243 -1.192186  0.512471   \n",
       "1                2.408884      0.679697 -1.192186 -1.951331   \n",
       "2               -0.415130      0.679697  0.838795  0.512471   \n",
       "3               -0.415130      0.679697 -1.192186  0.512471   \n",
       "4               -0.415130      0.679697  0.838795  0.512471   \n",
       "..                    ...           ...       ...       ...   \n",
       "995             -0.415130      0.679697  0.838795 -1.951331   \n",
       "996             -0.415130     -1.471243  0.838795  0.512471   \n",
       "997              2.408884      0.679697 -1.192186  0.512471   \n",
       "998              2.408884      0.679697  0.838795  0.512471   \n",
       "999             -0.415130      0.679697 -1.192186  0.512471   \n",
       "\n",
       "     HvyAlcoholConsump   GenHlth  MentHlth  PhysHlth  DiffWalk    Stroke  \\\n",
       "0            -0.217072  1.040040 -0.457700  2.442865 -0.581969 -0.248135   \n",
       "1            -0.217072  1.934313 -0.457700  2.442865  1.718304 -0.248135   \n",
       "2            -0.217072  0.145767 -0.457700  0.131259 -0.581969 -0.248135   \n",
       "3            -0.217072  1.040040 -0.457700  0.432773  1.718304 -0.248135   \n",
       "4            -0.217072 -0.748507 -0.457700 -0.572273 -0.581969 -0.248135   \n",
       "..                 ...       ...       ...       ...       ...       ...   \n",
       "995          -0.217072  0.145767 -0.457700 -0.572273 -0.581969 -0.248135   \n",
       "996          -0.217072  0.145767 -0.457700 -0.572273 -0.581969 -0.248135   \n",
       "997          -0.217072  1.934313  2.276468  2.442865  1.718304  4.030059   \n",
       "998          -0.217072  0.145767 -0.457700 -0.572273 -0.581969 -0.248135   \n",
       "999          -0.217072  0.145767 -0.320991 -0.572273 -0.581969 -0.248135   \n",
       "\n",
       "       HighBP  \n",
       "0    0.955011  \n",
       "1    0.955011  \n",
       "2   -1.047108  \n",
       "3    0.955011  \n",
       "4    0.955011  \n",
       "..        ...  \n",
       "995  0.955011  \n",
       "996 -1.047108  \n",
       "997  0.955011  \n",
       "998  0.955011  \n",
       "999 -1.047108  \n",
       "\n",
       "[1000 rows x 17 columns]"
      ]
     },
     "execution_count": 41,
     "metadata": {},
     "output_type": "execute_result"
    }
   ],
   "source": [
    "x_train_scaled"
   ]
  },
  {
   "cell_type": "code",
   "execution_count": 44,
   "id": "1328caf7",
   "metadata": {},
   "outputs": [
    {
     "data": {
      "text/plain": [
       "{'C': 25, 'degree': 3, 'gamma': 0.01}"
      ]
     },
     "execution_count": 44,
     "metadata": {},
     "output_type": "execute_result"
    }
   ],
   "source": [
    "param_grid = {'C': [0.1,1, 10, 25], \n",
    "              'gamma': [0.01,0.001],\n",
    "             'degree': [2,3]}\n",
    "\n",
    "\n",
    "svm = SVC(kernel='poly')\n",
    "\n",
    "grid_search = GridSearchCV(svm, param_grid, cv = k_fold)\n",
    "grid_search.fit(x_train_scaled, y_train)\n",
    "grid_search.best_params_"
   ]
  },
  {
   "cell_type": "code",
   "execution_count": 45,
   "id": "4898ac40",
   "metadata": {
    "scrolled": true
   },
   "outputs": [
    {
     "name": "stdout",
     "output_type": "stream",
     "text": [
      "0.649\n"
     ]
    }
   ],
   "source": [
    "svm = SVC(kernel='poly', degree = 3, gamma = 0.01 , C = 25)\n",
    "list_scores = cross_val_score(svm, x_train_scaled, y_train, cv= k_fold)\n",
    "cv_acc = list_scores.mean()\n",
    "print(cv_acc)"
   ]
  },
  {
   "cell_type": "code",
   "execution_count": 46,
   "id": "2b2ed664",
   "metadata": {},
   "outputs": [
    {
     "data": {
      "text/plain": [
       "array([404, 405])"
      ]
     },
     "execution_count": 46,
     "metadata": {},
     "output_type": "execute_result"
    }
   ],
   "source": [
    "svm.fit(x_train_scaled,y_train)\n",
    "svm.n_support_"
   ]
  },
  {
   "cell_type": "code",
   "execution_count": 34,
   "id": "9c2090a5",
   "metadata": {},
   "outputs": [],
   "source": [
    "#Prueba con kernel RBF"
   ]
  },
  {
   "cell_type": "code",
   "execution_count": 47,
   "id": "cb6bec11",
   "metadata": {},
   "outputs": [
    {
     "data": {
      "text/plain": [
       "{'C': 1, 'degree': 3, 'gamma': 0.001}"
      ]
     },
     "execution_count": 47,
     "metadata": {},
     "output_type": "execute_result"
    }
   ],
   "source": [
    "param_grid = {'C': [0.1,1, 10, 25], \n",
    "              'gamma': [0.01,0.001],\n",
    "             'degree': [3]}\n",
    "\n",
    "rbf_svm = SVC(kernel='rbf')\n",
    "\n",
    "grid_search = GridSearchCV(rbf_svm, param_grid, cv = k_fold)\n",
    "grid_search.fit(x_train_scaled, y_train)\n",
    "grid_search.best_params_"
   ]
  },
  {
   "cell_type": "code",
   "execution_count": 48,
   "id": "314a11ad",
   "metadata": {
    "scrolled": true
   },
   "outputs": [
    {
     "name": "stdout",
     "output_type": "stream",
     "text": [
      "0.7280000000000001\n"
     ]
    }
   ],
   "source": [
    "rbf_svm = SVC(kernel='rbf', C=1, gamma=0.001)\n",
    "list_scores = cross_val_score(rbf_svm, x_train_scaled, y_train, cv= k_fold)\n",
    "cv_acc = list_scores.mean()\n",
    "print(cv_acc)"
   ]
  },
  {
   "cell_type": "code",
   "execution_count": 54,
   "id": "70b97856",
   "metadata": {},
   "outputs": [
    {
     "data": {
      "text/plain": [
       "array([378, 381])"
      ]
     },
     "execution_count": 54,
     "metadata": {},
     "output_type": "execute_result"
    }
   ],
   "source": [
    "rbf_svm.fit(x_train_scaled,y_train)\n",
    "rbf_svm.n_support_"
   ]
  },
  {
   "cell_type": "code",
   "execution_count": 39,
   "id": "075425cb",
   "metadata": {},
   "outputs": [],
   "source": [
    "#Prueba con kernel sigmoid"
   ]
  },
  {
   "cell_type": "code",
   "execution_count": 51,
   "id": "a89def08",
   "metadata": {},
   "outputs": [
    {
     "data": {
      "text/plain": [
       "{'C': 25, 'degree': 3, 'gamma': 0.01}"
      ]
     },
     "execution_count": 51,
     "metadata": {},
     "output_type": "execute_result"
    }
   ],
   "source": [
    "param_grid = {'C': [0.1,1, 10, 25], \n",
    "              'gamma': [0.01,0.001],\n",
    "             'degree': [3]}\n",
    "\n",
    "sigmoid_svm = SVC(kernel='sigmoid')\n",
    "\n",
    "grid_search = GridSearchCV(sigmoid_svm, param_grid, cv = k_fold )\n",
    "grid_search.fit(x_train_scaled, y_train)\n",
    "grid_search.best_params_"
   ]
  },
  {
   "cell_type": "code",
   "execution_count": 52,
   "id": "a1541e51",
   "metadata": {},
   "outputs": [
    {
     "name": "stdout",
     "output_type": "stream",
     "text": [
      "0.7289999999999999\n"
     ]
    }
   ],
   "source": [
    "sigmoid_svm = SVC(kernel='sigmoid', C=25, gamma=0.01)\n",
    "list_scores = cross_val_score(sigmoid_svm, x_train_scaled, y_train, cv= k_fold)\n",
    "cv_acc = list_scores.mean()\n",
    "print(cv_acc)"
   ]
  },
  {
   "cell_type": "code",
   "execution_count": 55,
   "id": "ca32525b",
   "metadata": {},
   "outputs": [
    {
     "data": {
      "text/plain": [
       "array([294, 291])"
      ]
     },
     "execution_count": 55,
     "metadata": {},
     "output_type": "execute_result"
    }
   ],
   "source": [
    "sigmoid_svm.fit(x_train_scaled,y_train)\n",
    "sigmoid_svm.n_support_"
   ]
  },
  {
   "cell_type": "markdown",
   "id": "806caafe",
   "metadata": {},
   "source": [
    "# Selecting between best models"
   ]
  },
  {
   "cell_type": "code",
   "execution_count": 68,
   "id": "67f695db",
   "metadata": {},
   "outputs": [],
   "source": [
    "#Prepocessing in test set (same as for train set)\n",
    "x_test = test_df.drop('Diabetes', axis=1)\n",
    "y_test = test_df['Diabetes']\n"
   ]
  },
  {
   "cell_type": "code",
   "execution_count": 69,
   "id": "bbf87632",
   "metadata": {},
   "outputs": [
    {
     "name": "stdout",
     "output_type": "stream",
     "text": [
      "Linear SVM test accuracy: 0.785\n",
      "Polynomial SVM test accuracy: 0.785\n",
      "RBF SVM test accuracy: 0.765\n",
      "Sigmoid SVM test accuracy: 0.745\n"
     ]
    }
   ],
   "source": [
    "# train the models with the best hyperparameters\n",
    "linear_svm = SVC(kernel='linear')\n",
    "poly_svm = SVC(kernel='poly', degree = 2, gamma = 0.01 , C = 0.1)\n",
    "rbf_svm = SVC(kernel='rbf', C=10, gamma=0.001)\n",
    "sigmoid_svm = SVC(kernel='sigmoid', C=10, gamma=0.001)\n",
    "\n",
    "linear_svm.fit(x_train, y_train)\n",
    "poly_svm.fit(x_train, y_train)\n",
    "rbf_svm.fit(x_train, y_train)\n",
    "sigmoid_svm.fit(x_train, y_train)\n",
    "\n",
    "# evaluate the models on the test set\n",
    "linear_acc = linear_svm.score(x_test, y_test)\n",
    "poly_acc = poly_svm.score(x_test, y_test)\n",
    "rbf_acc = rbf_svm.score(x_test, y_test)\n",
    "sigmoid_acc = sigmoid_svm.score(x_test, y_test)\n",
    "\n",
    "# print the test accuracies\n",
    "print('Linear SVM test accuracy:', linear_acc)\n",
    "print('Polynomial SVM test accuracy:', poly_acc)\n",
    "print('RBF SVM test accuracy:', rbf_acc)\n",
    "print('Sigmoid SVM test accuracy:', sigmoid_acc)"
   ]
  },
  {
   "cell_type": "markdown",
   "id": "b421b984",
   "metadata": {},
   "source": [
    "# Correlation with minimal support vectors"
   ]
  },
  {
   "cell_type": "code",
   "execution_count": 77,
   "id": "eb720a01",
   "metadata": {},
   "outputs": [
    {
     "data": {
      "text/plain": [
       "array([533, 465])"
      ]
     },
     "execution_count": 77,
     "metadata": {},
     "output_type": "execute_result"
    }
   ],
   "source": [
    "rbf_svm = SVC(kernel='rbf', C=10, gamma=1000)\n",
    "rbf_svm.fit(x_train,y_train)\n",
    "rbf_svm.n_support_"
   ]
  },
  {
   "cell_type": "code",
   "execution_count": 70,
   "id": "73f97cdc",
   "metadata": {},
   "outputs": [
    {
     "data": {
      "text/plain": [
       "array([533, 465])"
      ]
     },
     "execution_count": 70,
     "metadata": {},
     "output_type": "execute_result"
    }
   ],
   "source": [
    "rbf_svm = SVC(kernel='rbf', C=10, gamma=1)\n",
    "rbf_svm.fit(x_train,y_train)\n",
    "rbf_svm.n_support_"
   ]
  },
  {
   "cell_type": "code",
   "execution_count": 71,
   "id": "052b78b4",
   "metadata": {},
   "outputs": [
    {
     "data": {
      "text/plain": [
       "array([397, 421])"
      ]
     },
     "execution_count": 71,
     "metadata": {},
     "output_type": "execute_result"
    }
   ],
   "source": [
    "rbf_svm = SVC(kernel='rbf', C=10, gamma=0.1)\n",
    "rbf_svm.fit(x_train,y_train)\n",
    "rbf_svm.n_support_"
   ]
  },
  {
   "cell_type": "code",
   "execution_count": 72,
   "id": "c0896499",
   "metadata": {},
   "outputs": [
    {
     "data": {
      "text/plain": [
       "array([314, 318])"
      ]
     },
     "execution_count": 72,
     "metadata": {},
     "output_type": "execute_result"
    }
   ],
   "source": [
    "rbf_svm = SVC(kernel='rbf', C=10, gamma=0.001)\n",
    "rbf_svm.fit(x_train,y_train)\n",
    "rbf_svm.n_support_"
   ]
  },
  {
   "cell_type": "code",
   "execution_count": 76,
   "id": "fcd327ee",
   "metadata": {},
   "outputs": [
    {
     "data": {
      "text/plain": [
       "array([394, 393])"
      ]
     },
     "execution_count": 76,
     "metadata": {},
     "output_type": "execute_result"
    }
   ],
   "source": [
    "rbf_svm = SVC(kernel='rbf', C=10, gamma=0.00001)\n",
    "rbf_svm.fit(x_train,y_train)\n",
    "rbf_svm.n_support_"
   ]
  },
  {
   "cell_type": "code",
   "execution_count": null,
   "id": "d5c4dfe7",
   "metadata": {},
   "outputs": [],
   "source": []
  },
  {
   "cell_type": "code",
   "execution_count": null,
   "id": "68ab352b",
   "metadata": {},
   "outputs": [],
   "source": []
  },
  {
   "cell_type": "code",
   "execution_count": 93,
   "id": "0a06d2dd",
   "metadata": {},
   "outputs": [
    {
     "data": {
      "text/plain": [
       "array([316, 317])"
      ]
     },
     "execution_count": 93,
     "metadata": {},
     "output_type": "execute_result"
    }
   ],
   "source": [
    "rbf_svm = SVC(kernel='rbf', C=10)\n",
    "rbf_svm.fit(x_train,y_train)\n",
    "rbf_svm.n_support_"
   ]
  },
  {
   "cell_type": "code",
   "execution_count": 94,
   "id": "6312f095",
   "metadata": {},
   "outputs": [
    {
     "data": {
      "text/plain": [
       "array([297, 305])"
      ]
     },
     "execution_count": 94,
     "metadata": {},
     "output_type": "execute_result"
    }
   ],
   "source": [
    "rbf_svm = SVC(kernel='rbf', C=100)\n",
    "rbf_svm.fit(x_train,y_train)\n",
    "rbf_svm.n_support_"
   ]
  },
  {
   "cell_type": "code",
   "execution_count": 95,
   "id": "e88ab319",
   "metadata": {},
   "outputs": [
    {
     "data": {
      "text/plain": [
       "array([298, 302])"
      ]
     },
     "execution_count": 95,
     "metadata": {},
     "output_type": "execute_result"
    }
   ],
   "source": [
    "rbf_svm = SVC(kernel='rbf', C=200)\n",
    "rbf_svm.fit(x_train,y_train)\n",
    "rbf_svm.n_support_"
   ]
  },
  {
   "cell_type": "code",
   "execution_count": null,
   "id": "f7c026dd",
   "metadata": {},
   "outputs": [],
   "source": []
  },
  {
   "cell_type": "code",
   "execution_count": null,
   "id": "24855af1",
   "metadata": {},
   "outputs": [],
   "source": []
  },
  {
   "cell_type": "code",
   "execution_count": null,
   "id": "bbaadf9e",
   "metadata": {},
   "outputs": [],
   "source": []
  },
  {
   "cell_type": "code",
   "execution_count": null,
   "id": "a75e3ab1",
   "metadata": {},
   "outputs": [],
   "source": []
  },
  {
   "cell_type": "code",
   "execution_count": 78,
   "id": "f5a169ea",
   "metadata": {},
   "outputs": [
    {
     "data": {
      "text/plain": [
       "array([336, 339])"
      ]
     },
     "execution_count": 78,
     "metadata": {},
     "output_type": "execute_result"
    }
   ],
   "source": [
    "poly_svm = SVC(kernel='poly', degree = 2)\n",
    "svm.fit(x_train,y_train)\n",
    "svm.n_support_"
   ]
  },
  {
   "cell_type": "code",
   "execution_count": 79,
   "id": "93c4e88d",
   "metadata": {},
   "outputs": [
    {
     "data": {
      "text/plain": [
       "array([336, 339])"
      ]
     },
     "execution_count": 79,
     "metadata": {},
     "output_type": "execute_result"
    }
   ],
   "source": [
    "poly_svm = SVC(kernel='poly', degree = 4)\n",
    "svm.fit(x_train,y_train)\n",
    "svm.n_support_"
   ]
  },
  {
   "cell_type": "code",
   "execution_count": 80,
   "id": "047e0c45",
   "metadata": {},
   "outputs": [
    {
     "data": {
      "text/plain": [
       "array([336, 339])"
      ]
     },
     "execution_count": 80,
     "metadata": {},
     "output_type": "execute_result"
    }
   ],
   "source": [
    "poly_svm = SVC(kernel='poly', degree = 6)\n",
    "svm.fit(x_train,y_train)\n",
    "svm.n_support_"
   ]
  },
  {
   "cell_type": "code",
   "execution_count": 82,
   "id": "20e060ff",
   "metadata": {},
   "outputs": [
    {
     "data": {
      "text/plain": [
       "array([336, 339])"
      ]
     },
     "execution_count": 82,
     "metadata": {},
     "output_type": "execute_result"
    }
   ],
   "source": [
    "poly_svm = SVC(kernel='poly', degree = 100)\n",
    "svm.fit(x_train,y_train)\n",
    "svm.n_support_"
   ]
  },
  {
   "cell_type": "code",
   "execution_count": null,
   "id": "c1789a49",
   "metadata": {},
   "outputs": [],
   "source": []
  },
  {
   "cell_type": "code",
   "execution_count": null,
   "id": "2cd8c875",
   "metadata": {},
   "outputs": [],
   "source": []
  },
  {
   "cell_type": "code",
   "execution_count": 87,
   "id": "0db500be",
   "metadata": {
    "scrolled": true
   },
   "outputs": [
    {
     "data": {
      "text/plain": [
       "array([408, 407])"
      ]
     },
     "execution_count": 87,
     "metadata": {},
     "output_type": "execute_result"
    }
   ],
   "source": [
    "sigmoid_svm = SVC(kernel='sigmoid', C=10, gamma=0.00001)\n",
    "sigmoid_svm.fit(x_train,y_train)\n",
    "sigmoid_svm.n_support_"
   ]
  },
  {
   "cell_type": "code",
   "execution_count": 88,
   "id": "173e4699",
   "metadata": {},
   "outputs": [
    {
     "name": "stdout",
     "output_type": "stream",
     "text": [
      "0.645\n"
     ]
    }
   ],
   "source": [
    "list_scores = cross_val_score(sigmoid_svm, x_train, y_train, cv= k_fold)\n",
    "cv_acc = list_scores.mean()\n",
    "print(cv_acc)"
   ]
  },
  {
   "cell_type": "code",
   "execution_count": 83,
   "id": "cade5323",
   "metadata": {},
   "outputs": [
    {
     "data": {
      "text/plain": [
       "array([169, 168])"
      ]
     },
     "execution_count": 83,
     "metadata": {},
     "output_type": "execute_result"
    }
   ],
   "source": [
    "sigmoid_svm = SVC(kernel='sigmoid', C=10, gamma=0.001)\n",
    "sigmoid_svm.fit(x_train,y_train)\n",
    "sigmoid_svm.n_support_"
   ]
  },
  {
   "cell_type": "code",
   "execution_count": 89,
   "id": "96826313",
   "metadata": {},
   "outputs": [
    {
     "name": "stdout",
     "output_type": "stream",
     "text": [
      "0.645\n"
     ]
    }
   ],
   "source": [
    "list_scores = cross_val_score(sigmoid_svm, x_train, y_train, cv= k_fold)\n",
    "cv_acc = list_scores.mean()\n",
    "print(cv_acc)"
   ]
  },
  {
   "cell_type": "code",
   "execution_count": 84,
   "id": "093e3684",
   "metadata": {
    "scrolled": true
   },
   "outputs": [
    {
     "data": {
      "text/plain": [
       "array([465, 465])"
      ]
     },
     "execution_count": 84,
     "metadata": {},
     "output_type": "execute_result"
    }
   ],
   "source": [
    "sigmoid_svm = SVC(kernel='sigmoid', C=10, gamma=0.01)\n",
    "sigmoid_svm.fit(x_train,y_train)\n",
    "sigmoid_svm.n_support_"
   ]
  },
  {
   "cell_type": "code",
   "execution_count": 90,
   "id": "9200c2e2",
   "metadata": {},
   "outputs": [
    {
     "name": "stdout",
     "output_type": "stream",
     "text": [
      "0.645\n"
     ]
    }
   ],
   "source": [
    "list_scores = cross_val_score(sigmoid_svm, x_train, y_train, cv= k_fold)\n",
    "cv_acc = list_scores.mean()\n",
    "print(cv_acc)"
   ]
  },
  {
   "cell_type": "code",
   "execution_count": 85,
   "id": "d76fd454",
   "metadata": {},
   "outputs": [
    {
     "data": {
      "text/plain": [
       "array([465, 465])"
      ]
     },
     "execution_count": 85,
     "metadata": {},
     "output_type": "execute_result"
    }
   ],
   "source": [
    "sigmoid_svm = SVC(kernel='sigmoid', C=10, gamma=0.1)\n",
    "sigmoid_svm.fit(x_train,y_train)\n",
    "sigmoid_svm.n_support_"
   ]
  },
  {
   "cell_type": "code",
   "execution_count": 91,
   "id": "4bdeaeaf",
   "metadata": {},
   "outputs": [
    {
     "name": "stdout",
     "output_type": "stream",
     "text": [
      "0.645\n"
     ]
    }
   ],
   "source": [
    "list_scores = cross_val_score(sigmoid_svm, x_train, y_train, cv= k_fold)\n",
    "cv_acc = list_scores.mean()\n",
    "print(cv_acc)"
   ]
  },
  {
   "cell_type": "code",
   "execution_count": 86,
   "id": "a2ab666e",
   "metadata": {},
   "outputs": [
    {
     "data": {
      "text/plain": [
       "array([465, 465])"
      ]
     },
     "execution_count": 86,
     "metadata": {},
     "output_type": "execute_result"
    }
   ],
   "source": [
    "sigmoid_svm = SVC(kernel='sigmoid', C=10, gamma=1)\n",
    "sigmoid_svm.fit(x_train,y_train)\n",
    "sigmoid_svm.n_support_"
   ]
  },
  {
   "cell_type": "code",
   "execution_count": 92,
   "id": "5acb120f",
   "metadata": {},
   "outputs": [
    {
     "name": "stdout",
     "output_type": "stream",
     "text": [
      "0.645\n"
     ]
    }
   ],
   "source": [
    "list_scores = cross_val_score(sigmoid_svm, x_train, y_train, cv= k_fold)\n",
    "cv_acc = list_scores.mean()\n",
    "print(cv_acc)"
   ]
  },
  {
   "cell_type": "markdown",
   "id": "af734750",
   "metadata": {},
   "source": [
    "# Most important features"
   ]
  },
  {
   "cell_type": "code",
   "execution_count": 105,
   "id": "5fca8cfa",
   "metadata": {},
   "outputs": [
    {
     "name": "stdout",
     "output_type": "stream",
     "text": [
      "[16  3 11  2]\n",
      "The 4 most important features are: ['HighBP' 'CholCheck' 'GenHlth' 'HighChol']\n"
     ]
    }
   ],
   "source": [
    "# Train a linear SVM on the training set with the best hyperparameters\n",
    "svm = SVC(kernel='linear')\n",
    "svm.fit(x_train, y_train)\n",
    "\n",
    "# Get the absolute values of the coefficients\n",
    "coef_abs = abs(svm.coef_)\n",
    "# Get the indices of the features sorted by importance\n",
    "sorted_idx = coef_abs[0].argsort()[::-1]\n",
    "\n",
    "# Get the indices of the 4 most important features\n",
    "top_4_idx = sorted_idx[:4]\n",
    "print(top_4_idx)\n",
    "feature_names = x_train.columns.values\n",
    "\n",
    "# Get the names of the 4 most important features\n",
    "top_4_features = feature_names[top_4_idx]\n",
    "\n",
    "print(\"The 4 most important features are:\", top_4_features)"
   ]
  },
  {
   "cell_type": "code",
   "execution_count": 101,
   "id": "1aed6022",
   "metadata": {},
   "outputs": [
    {
     "data": {
      "text/plain": [
       "Text(0.5, 0, 'Permutation Importance')"
      ]
     },
     "execution_count": 101,
     "metadata": {},
     "output_type": "execute_result"
    },
    {
     "data": {
      "image/png": "[encoded data removed]",
      "text/plain": [
       "<Figure size 640x480 with 1 Axes>"
      ]
     },
     "metadata": {},
     "output_type": "display_data"
    }
   ],
   "source": [
    "from sklearn.inspection import permutation_importance\n",
    "import numpy as np\n",
    "import matplotlib.pyplot as plt\n",
    "%matplotlib inline\n",
    "\n",
    "svc  = SVC(kernel='rbf', C=10, gamma=0.001)\n",
    "svc.fit(x_train, y_train)\n",
    "\n",
    "perm_importance = permutation_importance(svc, x_test, y_test)\n",
    "\n",
    "feature_names = x_train.columns.values\n",
    "features = np.array(feature_names)\n",
    "\n",
    "sorted_idx = perm_importance.importances_mean.argsort()\n",
    "plt.barh(features[sorted_idx], perm_importance.importances_mean[sorted_idx])\n",
    "plt.xlabel(\"Permutation Importance\")"
   ]
  },
  {
   "cell_type": "code",
   "execution_count": null,
   "id": "40315cf4",
   "metadata": {},
   "outputs": [],
   "source": []
  },
  {
   "cell_type": "code",
   "execution_count": null,
   "id": "35a62ecd",
   "metadata": {},
   "outputs": [],
   "source": []
  },
  {
   "cell_type": "code",
   "execution_count": null,
   "id": "55129124",
   "metadata": {},
   "outputs": [],
   "source": []
  },
  {
   "cell_type": "code",
   "execution_count": null,
   "id": "22e5f192",
   "metadata": {},
   "outputs": [],
   "source": []
  },
  {
   "cell_type": "markdown",
   "id": "734279f4",
   "metadata": {},
   "source": [
    "# FINAL SOLUTIONS"
   ]
  },
  {
   "cell_type": "code",
   "execution_count": null,
   "id": "b7b91d51",
   "metadata": {},
   "outputs": [],
   "source": [
    "#Polynomial kernel with metaparameters tunned\n",
    "svm = SVC(kernel='poly', degree = 2, gamma = 0.01 , C = 0.1)"
   ]
  },
  {
   "cell_type": "code",
   "execution_count": null,
   "id": "33defa63",
   "metadata": {},
   "outputs": [],
   "source": [
    "#RBF kernel with metaparameters tunned\n",
    "rbf_svm = SVC(kernel='rbf', C=10, gamma=0.001)"
   ]
  },
  {
   "cell_type": "code",
   "execution_count": null,
   "id": "30b6eb54",
   "metadata": {},
   "outputs": [],
   "source": [
    "#Sigmoid kernel with metaparameters tunned\n",
    "sigmoid_svm = SVC(kernel='sigmoid', C=10, gamma=0.001)"
   ]
  }
 ],
 "metadata": {
  "kernelspec": {
   "display_name": "Python 3 (ipykernel)",
   "language": "python",
   "name": "python3"
  },
  "language_info": {
   "codemirror_mode": {
    "name": "ipython",
    "version": 3
   },
   "file_extension": ".py",
   "mimetype": "text/x-python",
   "name": "python",
   "nbconvert_exporter": "python",
   "pygments_lexer": "ipython3",
   "version": "3.9.13"
  }
 },
 "nbformat": 4,
 "nbformat_minor": 5
}
