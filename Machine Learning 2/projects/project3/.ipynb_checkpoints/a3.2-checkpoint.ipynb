{
 "cells": [
  {
   "cell_type": "code",
   "execution_count": null,
   "id": "5681780f",
   "metadata": {},
   "outputs": [],
   "source": [
    "from scipy import stats\n",
    "from pandas import *"
   ]
  },
  {
   "cell_type": "code",
   "execution_count": 10,
   "id": "c9b39f55",
   "metadata": {},
   "outputs": [
    {
     "name": "stdout",
     "output_type": "stream",
     "text": [
      "         S_1  S_2\n",
      "Error     46   80\n",
      "Correct  294  260\n",
      "p-value =  0.001126\n",
      "p-value =  0.001070\n"
     ]
    }
   ],
   "source": [
    "from scipy import stats\n",
    "from pandas import *\n",
    "# Store sample sizes and number of errors\n",
    "n1 = 150\n",
    "m1 = 46\n",
    "n2 = 340\n",
    "m2 = 80\n",
    "# Store errors and correct classifications in a 2x2 table\n",
    "perf = DataFrame([[m1, m2], [n1-m1, n2-m2]], index=[\"Error\", \"Correct\"])\n",
    "perf.columns = [\"S_1\", \"S_2\"]\n",
    "print(perf)\n",
    "pvalue = stats.chi2_contingency(perf)[1]\n",
    "pvalue2 = stats.fisher_exact(perf)[1]\n",
    "print(\"p-value = \", '{0:.6f}'.format(pvalue))\n",
    "print(\"p-value = \", '{0:.6f}'.format(pvalue2))"
   ]
  },
  {
   "cell_type": "code",
   "execution_count": null,
   "id": "1e336879",
   "metadata": {},
   "outputs": [],
   "source": []
  },
  {
   "cell_type": "code",
   "execution_count": null,
   "id": "ff831126",
   "metadata": {},
   "outputs": [],
   "source": []
  },
  {
   "cell_type": "code",
   "execution_count": null,
   "id": "91d50288",
   "metadata": {},
   "outputs": [],
   "source": []
  },
  {
   "cell_type": "code",
   "execution_count": null,
   "id": "96d55cdf",
   "metadata": {},
   "outputs": [],
   "source": []
  },
  {
   "cell_type": "code",
   "execution_count": null,
   "id": "ba5bf283",
   "metadata": {},
   "outputs": [],
   "source": []
  },
  {
   "cell_type": "code",
   "execution_count": null,
   "id": "688ef207",
   "metadata": {},
   "outputs": [],
   "source": []
  }
 ],
 "metadata": {
  "kernelspec": {
   "display_name": "Python 3 (ipykernel)",
   "language": "python",
   "name": "python3"
  },
  "language_info": {
   "codemirror_mode": {
    "name": "ipython",
    "version": 3
   },
   "file_extension": ".py",
   "mimetype": "text/x-python",
   "name": "python",
   "nbconvert_exporter": "python",
   "pygments_lexer": "ipython3",
   "version": "3.9.13"
  }
 },
 "nbformat": 4,
 "nbformat_minor": 5
}
